{
  "nbformat": 4,
  "nbformat_minor": 0,
  "metadata": {
    "colab": {
      "name": "Filter_the_trials.ipynb",
      "provenance": [],
      "authorship_tag": "ABX9TyMUNFcCNIQg4FzCb1Y29Poh",
      "include_colab_link": true
    },
    "kernelspec": {
      "name": "python3",
      "display_name": "Python 3"
    }
  },
  "cells": [
    {
      "cell_type": "markdown",
      "metadata": {
        "id": "view-in-github",
        "colab_type": "text"
      },
      "source": [
        "<a href=\"https://colab.research.google.com/github/jorgeerrz/mistaken_mice/blob/master/Filter_the_trials.ipynb\" target=\"_parent\"><img src=\"https://colab.research.google.com/assets/colab-badge.svg\" alt=\"Open In Colab\"/></a>"
      ]
    },
    {
      "cell_type": "code",
      "metadata": {
        "id": "OUO4Tg3P8mtn",
        "colab_type": "code",
        "colab": {},
        "cellView": "form"
      },
      "source": [
        "#@title Data retrieval\n",
        "import os, requests\n",
        "\n",
        "fname = []\n",
        "for j in range(3):\n",
        "  fname.append('steinmetz_part%d.npz'%j)\n",
        "url = [\"https://osf.io/agvxh/download\"]\n",
        "url.append(\"https://osf.io/uv3mw/download\")\n",
        "url.append(\"https://osf.io/ehmw2/download\")\n",
        "\n",
        "for j in range(len(url)):\n",
        "  if not os.path.isfile(fname[j]):\n",
        "    try:\n",
        "      r = requests.get(url[j])\n",
        "    except requests.ConnectionError:\n",
        "      print(\"!!! Failed to download data !!!\")\n",
        "    else:\n",
        "      if r.status_code != requests.codes.ok:\n",
        "        print(\"!!! Failed to download data !!!\")\n",
        "      else:\n",
        "        with open(fname[j], \"wb\") as fid:\n",
        "          fid.write(r.content)"
      ],
      "execution_count": 1,
      "outputs": []
    },
    {
      "cell_type": "code",
      "metadata": {
        "id": "LOmctGDw81XA",
        "colab_type": "code",
        "colab": {
          "base_uri": "https://localhost:8080/",
          "height": 54
        },
        "cellView": "form",
        "outputId": "8411f392-ba2d-46e3-9563-60e545a3d72b"
      },
      "source": [
        "#@title Data loading\n",
        "import numpy as np\n",
        "\n",
        "alldat = np.array([])\n",
        "for j in range(len(fname)):\n",
        "  alldat = np.hstack((alldat, np.load('steinmetz_part%d.npz'%j, allow_pickle=True)['dat']))\n",
        "\n",
        "# select just one of the recordings here. 11 is nice because it has some neurons in vis ctx. \n",
        "dat = alldat[10]\n",
        "print(dat.keys())"
      ],
      "execution_count": 123,
      "outputs": [
        {
          "output_type": "stream",
          "text": [
            "dict_keys(['spks', 'wheel', 'pupil', 'lfp', 'response', 'response_time', 'bin_size', 'stim_onset', 'contrast_right', 'contrast_left', 'brain_area', 'brain_area_lfp', 'feedback_time', 'feedback_type', 'gocue', 'mouse_name', 'date_exp', 'trough_to_peak', 'waveform_w', 'waveform_u', 'active_trials', 'contrast_left_passive', 'contrast_right_passive', 'spks_passive', 'lfp_passive', 'pupil_passive', 'wheel_passive'])\n"
          ],
          "name": "stdout"
        }
      ]
    },
    {
      "cell_type": "code",
      "metadata": {
        "id": "ETyBWjm-83DH",
        "colab_type": "code",
        "colab": {
          "base_uri": "https://localhost:8080/",
          "height": 34
        },
        "cellView": "form",
        "outputId": "c2c4a273-d14c-49f1-d257-1f233cfb75f0"
      },
      "source": [
        "#@title Session number 10\n",
        "print(\"Number of sessions = \", np.size(alldat), \", session 10 has \", dat['response'].shape[0],\" trials\")"
      ],
      "execution_count": 130,
      "outputs": [
        {
          "output_type": "stream",
          "text": [
            "Number of sessions =  39 , session 10 has  342  trials\n"
          ],
          "name": "stdout"
        }
      ]
    },
    {
      "cell_type": "code",
      "metadata": {
        "id": "Bq24ev8y-59j",
        "colab_type": "code",
        "colab": {}
      },
      "source": [
        "def filter_trials(session_data):\n",
        "  '''Function that filters trials from session that comply \n",
        "  with contrast_left == contrast_right > 0 and choice != 0\n",
        "\n",
        "  Input: the data structure from one session \n",
        "  Output: an array of spikes, an array of RTs and an array of choices\n",
        "  '''\n",
        "  #Initialize void output lists\n",
        "  spikes_trials = []\n",
        "  RTs_trials = []\n",
        "  choices_trials = []\n",
        "  # Loop over trials in session\n",
        "  for i in range(len(session_data['response_time'])):\n",
        "    #Only choose trials for which conditions apply\n",
        "    if session_data['contrast_left'][i] == session_data['contrast_right'][i] and session_data['contrast_left'][i] > 0 and session_data['response'][i] != 0:\n",
        "      #Spikes are stored in session_data as neurons x trials x timebin, we care about second dimension\n",
        "      spikes_trials.append(session_data['spks'][:,i,:])\n",
        "      RTs_trials.append(session_data['response_time'][i])\n",
        "      choices_trials.append(session_data['response'][i])               \n",
        "\n",
        "  spikes_trials = np.asarray(spikes_trials)\n",
        "  RTs_trials = np.asarray(RTs_trials)\n",
        "  choices_trials = np.asarray(choices_trials)\n",
        "\n",
        "  return spikes_trials, RTs_trials, choices_trials\n"
      ],
      "execution_count": 112,
      "outputs": []
    },
    {
      "cell_type": "code",
      "metadata": {
        "id": "7MiSnkqqCpDd",
        "colab_type": "code",
        "colab": {}
      },
      "source": [
        "sp, rt, ch = filter_trials(dat)"
      ],
      "execution_count": 131,
      "outputs": []
    },
    {
      "cell_type": "code",
      "metadata": {
        "id": "43k53bZlCsP-",
        "colab_type": "code",
        "colab": {
          "base_uri": "https://localhost:8080/",
          "height": 34
        },
        "outputId": "00cff1e0-b3f9-46d9-d83d-779d8d530560"
      },
      "source": [
        "sp.shape, rt.shape, ch.shape\n",
        "print(\"we have\", ch.shape[0], \"trials to use\")"
      ],
      "execution_count": 134,
      "outputs": [
        {
          "output_type": "stream",
          "text": [
            "we have 24 trials to use\n"
          ],
          "name": "stdout"
        }
      ]
    },
    {
      "cell_type": "code",
      "metadata": {
        "id": "YDlWsHcaEcPT",
        "colab_type": "code",
        "colab": {
          "base_uri": "https://localhost:8080/",
          "height": 279
        },
        "cellView": "form",
        "outputId": "88a507cc-ee7b-425d-98c9-73161c750334"
      },
      "source": [
        "#@title basic plots of population average on selected unfair trials\n",
        "from matplotlib import pyplot as plt\n",
        "dt = dat['bin_size'] # binning at 10 ms\n",
        "NT = sp.shape[-1]\n",
        "\n",
        "ax = plt.gca()\n",
        "\n",
        "plt.plot(dt * np.arange(NT), 1/dt * sp.mean(axis=(0,1))) # average across trials and neurons\n",
        "\n",
        "#plt.legend(['left resp', 'right resp', 'right stim', 'no right stim'], fontsize=12)\n",
        "ax.set(xlabel  = 'time (sec)', ylabel = 'firing rate (Hz)');"
      ],
      "execution_count": 135,
      "outputs": [
        {
          "output_type": "display_data",
          "data": {
            "image/png": "[encoded data removed]",
            "text/plain": [
              "<Figure size 432x288 with 1 Axes>"
            ]
          },
          "metadata": {
            "tags": [],
            "needs_background": "light"
          }
        }
      ]
    }
  ]
}
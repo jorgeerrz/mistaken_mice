@@ -9,8 +9,10 @@
  },
  {
   "cell_type": "code",
   "execution_count": 10,
   "metadata": {},
   "execution_count": 1,
   "metadata": {
    "collapsed": true
   },
   "outputs": [],
   "source": [
    "import numpy as np\n",
@ -22,12 +24,14 @@
    "    dat = alldat[session_id]\n",
    "    spks = dat['spks']\n",
    "    chcs = dat['response']\n",
    "    RTs = dat['response_time']\n",
    "    \n",
    "    #grab only spikes/choices from trials where left/right contrast is equal and nonzero\n",
    "    unfair_filter = np.logical_and((dat['contrast_right']==dat['contrast_right']), (dat['contrast_right'] != 0))\n",
    "    unfair_filter = np.logical_and((dat['contrast_right']==dat['contrast_left']), (dat['contrast_right'] != 0))\n",
    "    unfair_chosey_filter = np.logical_and(unfair_filter,(dat['response']!=0))\n",
    "    spks = spks[:,unfair_chosey_filter,:]\n",
    "    chcs = chcs[unfair_chosey_filter]\n",
    "    RTs = RTs[unfair_chosey_filter]\n",
    "    \n",
    "    #grab only spikes from the VISp\n",
    "    spks = spks[dat['brain_area']=='VISp',:,:]\n",
@ -35,7 +39,7 @@
    "    #grab only spikes from between -500ms and 500ms, relative to stimulus onset (each bin is 10ms)\n",
    "    spks = spks[:,:,0:100]\n",
    "    \n",
    "    return spks, chcs\n",
    "    return spks, chcs, RTs\n",
    "        "
   ]
  },
@ -49,7 +53,9 @@
  {
   "cell_type": "code",
   "execution_count": 2,
   "metadata": {},
   "metadata": {
    "collapsed": true
   },
   "outputs": [],
   "source": [
    "#Data retrieval\n",
@ -89,37 +95,53 @@
  },
  {
   "cell_type": "code",
   "execution_count": 13,
   "metadata": {},
   "execution_count": 5,
   "metadata": {
    "collapsed": false
   },
   "outputs": [
    {
     "name": "stdout",
     "output_type": "stream",
     "text": [
      "(66, 160, 100) (160,)\n"
      "(66, 18, 100) (18,) (18, 1)\n"
     ]
    }
   ],
   "source": [
    "#Test fucntion\n",
    "spks_filtered, chcs_filtered = filter_spikes(alldat,11)\n",
    "session = 11\n",
    "spks_filtered, chcs_filtered, RTs_filtered = filter_spikes(alldat,session)\n",
    "\n",
    "#The shape of spks is neuron x trial x time point (-500 to 500)\n",
    "#The shape of choices is by trial\n",
    "print(spks_filtered.shape, chcs_filtered.shape)"
    "print(spks_filtered.shape, chcs_filtered.shape, RTs_filtered.shape)"
   ]
  },
  {
   "cell_type": "code",
   "execution_count": null,
   "metadata": {},
   "outputs": [],
   "source": []
   "execution_count": 7,
   "metadata": {
    "collapsed": false
   },
   "outputs": [
    {
     "name": "stdout",
     "output_type": "stream",
     "text": [
      "For session  11 we have 18 trials to use and  66 neurons\n"
     ]
    }
   ],
   "source": [
    "print(\"For session \", session, \"we have\", chcs_filtered.shape[0], \"trials to use and \", spks_filtered.shape[0], \"neurons\")"
   ]
  }
 ],
 "metadata": {
  "anaconda-cloud": {},
  "kernelspec": {
   "display_name": "Python 3",
   "display_name": "Python [default]",
   "language": "python",
   "name": "python3"
  },
@ -133,7 +155,7 @@
   "name": "python",
   "nbconvert_exporter": "python",
   "pygments_lexer": "ipython3",
   "version": "3.7.6"
   "version": "3.5.2"
  }
 },
 "nbformat": 4,

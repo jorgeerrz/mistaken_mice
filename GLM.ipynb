{
  "nbformat": 4,
  "nbformat_minor": 0,
  "metadata": {
    "colab": {
      "name": "GLM.ipynb",
      "provenance": [],
      "authorship_tag": "ABX9TyPnOxu2aqAVhEQHVfXKOGbw",
      "include_colab_link": true
    },
    "kernelspec": {
      "name": "python3",
      "display_name": "Python 3"
    }
  },
  "cells": [
    {
      "cell_type": "markdown",
      "metadata": {
        "id": "view-in-github",
        "colab_type": "text"
      },
      "source": [
        "<a href=\"https://colab.research.google.com/github/jorgeerrz/mistaken_mice/blob/master/GLM.ipynb\" target=\"_parent\"><img src=\"https://colab.research.google.com/assets/colab-badge.svg\" alt=\"Open In Colab\"/></a>"
      ]
    },
    {
      "cell_type": "code",
      "metadata": {
        "id": "MqrA6TwX22nX",
        "colab_type": "code",
        "colab": {}
      },
      "source": [
        "import numpy as np\n",
        "import matplotlib.pyplot as plt\n",
        "\n",
        "from sklearn.linear_model import LogisticRegression\n",
        "from sklearn.model_selection import cross_val_score"
      ],
      "execution_count": 1,
      "outputs": []
    },
    {
      "cell_type": "code",
      "metadata": {
        "id": "eC5u6Ky032Tl",
        "colab_type": "code",
        "colab": {},
        "cellView": "form"
      },
      "source": [
        "#@markdown Data retrieval\n",
        "\n",
        "#Data retrieval\n",
        "import os, requests\n",
        "import numpy as np\n",
        "\n",
        "fname = []\n",
        "for j in range(3):\n",
        "  fname.append('steinmetz_part%d.npz'%j)\n",
        "url = [\"https://osf.io/agvxh/download\"]\n",
        "url.append(\"https://osf.io/uv3mw/download\")\n",
        "url.append(\"https://osf.io/ehmw2/download\")\n",
        "\n",
        "for j in range(len(url)):\n",
        "  if not os.path.isfile(fname[j]):\n",
        "    try:\n",
        "      r = requests.get(url[j])\n",
        "    except requests.ConnectionError:\n",
        "      print(\"!!! Failed to download data !!!\")\n",
        "    else:\n",
        "      if r.status_code != requests.codes.ok:\n",
        "        print(\"!!! Failed to download data !!!\")\n",
        "      else:\n",
        "        with open(fname[j], \"wb\") as fid:\n",
        "          fid.write(r.content)\n",
        "        \n",
        "#@title Data loading\n",
        "import numpy as np\n",
        "\n",
        "alldat = np.array([])\n",
        "for j in range(len(fname)):\n",
        "  alldat = np.hstack((alldat, np.load('steinmetz_part%d.npz'%j, allow_pickle=True)['dat']))\n",
        "\n",
        "# select just one of the recordings here. 11 is nice because it has some neurons in vis ctx. \n",
        "dat = alldat[11]"
      ],
      "execution_count": 3,
      "outputs": []
    },
    {
      "cell_type": "code",
      "metadata": {
        "id": "LTFgL_Xu3lov",
        "colab_type": "code",
        "colab": {},
        "cellView": "form"
      },
      "source": [
        "#@markdown Filter function, {V1, [-500ms,500ms], unfair trials}\n",
        "\n",
        "#this function will do the filtering\n",
        "def filter_spikes(alldata, session_id):\n",
        "    #alldata is the collated data from all sessions/neurons/timepoints as shown in the tutorial notebook\n",
        "    #grab spikes/choices from one section\n",
        "    dat = alldat[session_id]\n",
        "    spks = dat['spks']\n",
        "    chcs = dat['response']\n",
        "    RTs = dat['response_time']\n",
        "    \n",
        "    #grab only spikes/choices from trials where left/right contrast is equal and nonzero\n",
        "    unfair_filter = np.logical_and((dat['contrast_right']==dat['contrast_left']), (dat['contrast_right'] != 0))\n",
        "    unfair_chosey_filter = np.logical_and(unfair_filter,(dat['response']!=0))\n",
        "    spks = spks[:,unfair_chosey_filter,:]\n",
        "    chcs = chcs[unfair_chosey_filter]\n",
        "    RTs = RTs[unfair_chosey_filter]\n",
        "    \n",
        "    #grab only spikes from the VISp\n",
        "    spks = spks[dat['brain_area']=='VISp',:,:]\n",
        "    \n",
        "    #grab only spikes from between -500ms and 500ms, relative to stimulus onset (each bin is 10ms)\n",
        "    spks = spks[:,:,0:100]\n",
        "    \n",
        "    return spks, chcs, RTs"
      ],
      "execution_count": 7,
      "outputs": []
    },
    {
      "cell_type": "code",
      "metadata": {
        "id": "2blywL2mHbwn",
        "colab_type": "code",
        "colab": {},
        "cellView": "form"
      },
      "source": [
        "#@markdown Helper functions\n",
        "def plot_weights(models, sharey=True):\n",
        "  \"\"\"Draw a stem plot of weights for each model in models dict.\"\"\"\n",
        "  n = len(models)\n",
        "  f = plt.figure(figsize=(10, 2.5 * n))\n",
        "  axs = f.subplots(n, sharex=True, sharey=sharey)\n",
        "  axs = np.atleast_1d(axs)\n",
        "\n",
        "  for ax, (title, model) in zip(axs, models.items()):\n",
        "\n",
        "    ax.margins(x=.02)\n",
        "    stem = ax.stem(model.coef_.squeeze(), use_line_collection=True)\n",
        "    stem[0].set_marker(\".\")\n",
        "    stem[0].set_color(\".2\")\n",
        "    stem[1].set_linewidths(.5)\n",
        "    stem[1].set_color(\".2\")\n",
        "    stem[2].set_visible(False)\n",
        "    ax.axhline(0, color=\"C3\", lw=3)\n",
        "    ax.set(ylabel=\"Weight\", title=title)\n",
        "  ax.set(xlabel=\"Feature x time\")\n",
        "  f.tight_layout()\n",
        "\n",
        "def compute_accuracy(X, y, model):\n",
        "  \"\"\"Compute accuracy of classifier predictions.\n",
        "  \n",
        "  Args:\n",
        "    X (2D array): Data matrix\n",
        "    y (1D array): Label vector\n",
        "    model (sklearn estimator): Classifier with trained weights.\n",
        "\n",
        "  Returns:\n",
        "    accuracy (float): Proportion of correct predictions.  \n",
        "  \"\"\"\n",
        "  #############################################################################\n",
        "  # TODO Complete the function, then remove the next line to test it\n",
        "  #raise NotImplementedError(\"Implement the compute_accuracy function\")\n",
        "  #############################################################################\n",
        "\n",
        "  y_pred = model.predict(X)\n",
        "  accuracy = 1 - np.mean(y_pred - y) #np.mean(y == y_pred) \n",
        "\n",
        "  return accuracy"
      ],
      "execution_count": 51,
      "outputs": []
    },
    {
      "cell_type": "code",
      "metadata": {
        "id": "xh1cCxJ83wpX",
        "colab_type": "code",
        "colab": {
          "base_uri": "https://localhost:8080/",
          "height": 34
        },
        "outputId": "2c1f3845-732b-4f2a-b15f-009033190351"
      },
      "source": [
        "spks_f, chcs_f, RTs_f = filter_spikes(alldat,11)\n",
        "print(\"we have\", chcs_f.shape[0], \"trials to use and \", spks_f.shape[0], \"neurons\")"
      ],
      "execution_count": 8,
      "outputs": [
        {
          "output_type": "stream",
          "text": [
            "we have 18 trials to use and  66 neurons\n"
          ],
          "name": "stdout"
        }
      ]
    },
    {
      "cell_type": "code",
      "metadata": {
        "id": "R7W-KqxUCKcF",
        "colab_type": "code",
        "colab": {}
      },
      "source": [
        "def reshaping_features(features, axis_pc = 0, axis_trial = 1, axis_time = 2):\n",
        "  \"\"\"Function to reshape N x trials x time into a single array, N is number of neurons or PCs\n",
        "  Output: a matrix with shape trials x (N+time)\n",
        "  the dimension N + time was concatenated by time, i.e. the first N entries correspond to the N features at time = 0, and so on.\n",
        "  \"\"\"\n",
        "  out = np.zeros((features.shape[axis_trial],features.shape[axis_pc]*features.shape[axis_time]))\n",
        "  for i in range(features.shape[axis_trial]):\n",
        "    out[i,:] = features[:,i,:].T.flatten()\n",
        "  return out\n"
      ],
      "execution_count": 48,
      "outputs": []
    },
    {
      "cell_type": "code",
      "metadata": {
        "id": "pZwRH2lr4-Fl",
        "colab_type": "code",
        "colab": {}
      },
      "source": [
        "def GLM_logistic(features, choices, pen = \"l2\", lambda_L2 = 1):\n",
        "  \"\"\"Logistic regression already implemented in sci-kit learn\"\"\"\n",
        "  if pen == \"l1\":\n",
        "    log_reg = LogisticRegression(penalty=pen, C = lambda_L2, solver=\"saga\", max_iter=5000).fit(features,choices)\n",
        "  else: \n",
        "    log_reg = LogisticRegression(penalty=pen, C = lambda_L2).fit(features,choices)\n",
        "  return log_reg"
      ],
      "execution_count": 44,
      "outputs": []
    },
    {
      "cell_type": "code",
      "metadata": {
        "id": "1u0GHHP6Gpws",
        "colab_type": "code",
        "colab": {}
      },
      "source": [
        "feat = reshaping_features(spks_f)\n",
        "log_reg_l2 = GLM_logistic(feat, chcs_f)\n",
        "log_reg_l1 = GLM_logistic(feat, chcs_f, pen = \"l1\")"
      ],
      "execution_count": 52,
      "outputs": []
    },
    {
      "cell_type": "code",
      "metadata": {
        "id": "r2VDfE0iGvl0",
        "colab_type": "code",
        "colab": {
          "base_uri": "https://localhost:8080/",
          "height": 369
        },
        "outputId": "e432e177-7c87-450c-9534-92532da98ee8"
      },
      "source": [
        "models = {\n",
        "  \"$L_2$ (C = 1)\": log_reg_l2,\n",
        "  \"$L_1$ (C = 1)\": log_reg_l1,\n",
        "}\n",
        "plot_weights(models)"
      ],
      "execution_count": 53,
      "outputs": [
        {
          "output_type": "display_data",
          "data": {
            "image/png": "[encoded data removed]",
            "text/plain": [
              "<Figure size 720x360 with 2 Axes>"
            ]
          },
          "metadata": {
            "tags": [],
            "needs_background": "light"
          }
        }
      ]
    },
    {
      "cell_type": "code",
      "metadata": {
        "id": "QadLISrBIPf7",
        "colab_type": "code",
        "colab": {
          "base_uri": "https://localhost:8080/",
          "height": 34
        },
        "outputId": "c56c6da6-0dd3-4928-94fb-26e15f7c23c2"
      },
      "source": [
        "# To test the function we will use neurons x time as features for now\n",
        "log_reg = GLM_logistic(feat, chcs_f)\n",
        "train_accuracy = compute_accuracy(feat, chcs_f, log_reg)\n",
        "print(f\"Accuracy on the training data: {train_accuracy:.2%}\")"
      ],
      "execution_count": 54,
      "outputs": [
        {
          "output_type": "stream",
          "text": [
            "Accuracy on the training data: 100.00%\n"
          ],
          "name": "stdout"
        }
      ]
    },
    {
      "cell_type": "code",
      "metadata": {
        "id": "HPrDgs5sKCwn",
        "colab_type": "code",
        "colab": {}
      },
      "source": [
        ""
      ],
      "execution_count": null,
      "outputs": []
    }
  ]
}
{
 "cells": [
  {
   "cell_type": "markdown",
   "metadata": {
    "colab_type": "text",
    "id": "f5lHZMY_O1jz"
   },
   "source": [
    "# Mistaken Mice notebook\n",
    "\n",
    "2020 NMA academy project, mistaken mice group, pod 173 antique cicada"
   ]
  },
  {
   "cell_type": "markdown",
   "metadata": {
    "colab_type": "text",
    "id": "0boUCcI2NwyL"
   },
   "source": [
    "# Import packages and functions"
   ]
  },
  {
   "cell_type": "code",
   "execution_count": 2,
   "metadata": {
    "colab": {
     "base_uri": "https://localhost:8080/",
     "height": 299
    },
    "colab_type": "code",
    "id": "qg1QinE8NvoK",
    "outputId": "083edd82-0420-4a73-de28-8f8048ead921"
   },
   "outputs": [],
   "source": [
    "# to import the functions we wrote, clone the git repo\n",
    "# !git clone https://github.com/jorgeerrz/mistaken_mice.git\n",
    "# %cd mistaken_mice\n",
    "#alternatively, run the notebook locally, then just comment the lines above\n",
    "\n",
    "from filter import *\n",
    "from summarise_dataset import *\n",
    "from PCA_fun import *\n",
    "from GLM import *"
   ]
  },
  {
   "cell_type": "markdown",
   "metadata": {
    "colab_type": "text",
    "id": "bEqdz1ZUMaj1"
   },
   "source": [
    "# Loading of Steinmetz data"
   ]
  },
  {
   "cell_type": "code",
   "execution_count": 4,
   "metadata": {
    "cellView": "form",
    "colab": {},
    "colab_type": "code",
    "id": "TLWjKq8bLDqm"
   },
   "outputs": [],
   "source": [
    "#@title Data retrieval\n",
    "import os, requests\n",
    "\n",
    "fname = []\n",
    "for j in range(3):\n",
    "  fname.append('steinmetz_part%d.npz'%j)\n"
   ]
  },
  {
   "cell_type": "code",
   "execution_count": null,
   "metadata": {},
   "outputs": [],
   "source": [
    "# skip if you already downloaded the data\n",
    "url = [\"https://osf.io/agvxh/download\"]\n",
    "url.append(\"https://osf.io/uv3mw/download\")\n",
    "url.append(\"https://osf.io/ehmw2/download\")\n",
    "\n",
    "for j in range(len(url)):\n",
    "  if not os.path.isfile(fname[j]):\n",
    "    try:\n",
    "      r = requests.get(url[j])\n",
    "    except requests.ConnectionError:\n",
    "      print(\"!!! Failed to download data !!!\")\n",
    "    else:\n",
    "      if r.status_code != requests.codes.ok:\n",
    "        print(\"!!! Failed to download data !!!\")\n",
    "      else:\n",
    "        with open(fname[j], \"wb\") as fid:\n",
    "          fid.write(r.content)"
   ]
  },
  {
   "cell_type": "code",
   "execution_count": 5,
   "metadata": {
    "cellView": "form",
    "colab": {},
    "colab_type": "code",
    "id": "sffzC_hyLgWZ"
   },
   "outputs": [],
   "source": [
    "#@title Data loading\n",
    "import numpy as np\n",
    "\n",
    "alldat = np.array([])\n",
    "for j in range(len(fname)):\n",
    "  alldat = np.hstack((alldat, np.load('steinmetz_part%d.npz'%j, allow_pickle=True)['dat']))\n"
   ]
  },
  {
   "cell_type": "markdown",
   "metadata": {
    "colab_type": "text",
    "id": "1OJ6WyvaNhSC"
   },
   "source": [
    "# Filter the data"
   ]
  },
  {
   "cell_type": "code",
   "execution_count": 11,
   "metadata": {
    "colab": {},
    "colab_type": "code",
    "id": "fWxFSnWUORoi"
   },
   "outputs": [
    {
     "name": "stdout",
     "output_type": "stream",
     "text": [
      "(178, 10, 100)\n"
     ]
    }
   ],
   "source": [
    "# need to loop over all sessions to pass as input to summarise_data function in next step\n",
    "first_session_filtered = filter_spikes(alldat,0) \n",
    "print(np.shape(first_session_filtered[0]))"
   ]
  },
  {
   "cell_type": "markdown",
   "metadata": {
    "colab_type": "text",
    "id": "w2md3ohKNY4m"
   },
   "source": [
    "# Summarise the filtered data"
   ]
  },
  {
   "cell_type": "code",
   "execution_count": 13,
   "metadata": {
    "colab": {
     "base_uri": "https://localhost:8080/",
     "height": 482
    },
    "colab_type": "code",
    "id": "aAG-jPcSjkrC",
    "outputId": "665cded0-da42-4436-9231-3f7e7d8d0050"
   },
   "outputs": [
    {
     "data": {
      "text/plain": [
       "{'n_neurons': array([ 734., 1070.,  619., 1769., 1077., 1169.,  584., 1156.,  788.,\n",
       "        1172.,  857.,  698.,  983.,  756.,  743.,  474.,  565., 1089.,\n",
       "         606.,  899.,  578.,  646., 1268., 1337.,  885., 1056.,  563.,\n",
       "         549.,  750.,  942.,  977.,  522.,  613.,  781.,  795.,  680.,\n",
       "        1055.,  805., 1348.]),\n",
       " 'n_trials': array([214., 251., 228., 249., 254., 290., 252., 250., 372., 447., 342.,\n",
       "        340., 300., 268., 404., 280., 224., 316., 247., 235., 124., 444.,\n",
       "        151., 187., 261., 178., 253., 142., 128., 143., 237., 260., 191.,\n",
       "        296., 311., 258., 181., 199., 343.]),\n",
       " 'n_timebins': array([250., 250., 250., 250., 250., 250., 250., 250., 250., 250., 250.,\n",
       "        250., 250., 250., 250., 250., 250., 250., 250., 250., 250., 250.,\n",
       "        250., 250., 250., 250., 250., 250., 250., 250., 250., 250., 250.,\n",
       "        250., 250., 250., 250., 250., 250.])}"
      ]
     },
     "execution_count": 13,
     "metadata": {},
     "output_type": "execute_result"
    },
    {
     "data": {
      "image/png": "[encoded data removed]",
      "text/plain": [
       "<Figure size 504x216 with 2 Axes>"
      ]
     },
     "metadata": {},
     "output_type": "display_data"
    }
   ],
   "source": [
    "summarise_dataset(alldat) # should be filtered data, but alldat is used here as an example\n"
   ]
  },
  {
   "cell_type": "markdown",
   "metadata": {
    "colab_type": "text",
    "id": "YhNNDzpunEyE"
   },
   "source": [
    "# Change the time bin\n",
    "Optional step"
   ]
  },
  {
   "cell_type": "code",
   "execution_count": null,
   "metadata": {
    "colab": {},
    "colab_type": "code",
    "id": "8CoZP8kenfne"
   },
   "outputs": [],
   "source": [
    "#"
   ]
  },
  {
   "cell_type": "markdown",
   "metadata": {
    "colab_type": "text",
    "id": "eLLhirWdnhT4"
   },
   "source": [
    "# Principal Component Analysis\n",
    "For now, just one session"
   ]
  },
  {
   "cell_type": "code",
   "execution_count": 9,
   "metadata": {
    "colab": {},
    "colab_type": "code",
    "id": "O5S6cm0rng4h"
   },
   "outputs": [
    {
     "ename": "TypeError",
     "evalue": "tuple indices must be integers or slices, not str",
     "output_type": "error",
     "traceback": [
      "\u001b[1;31m---------------------------------------------------------------------------\u001b[0m",
      "\u001b[1;31mTypeError\u001b[0m                                 Traceback (most recent call last)",
      "\u001b[1;32m<ipython-input-9-9780fa03249e>\u001b[0m in \u001b[0;36m<module>\u001b[1;34m\u001b[0m\n\u001b[1;32m----> 1\u001b[1;33m \u001b[0mneurons_PCA\u001b[0m\u001b[1;33m(\u001b[0m\u001b[0mfirst_session_filtered\u001b[0m\u001b[1;33m,\u001b[0m\u001b[1;36m0.1\u001b[0m\u001b[1;33m,\u001b[0m\u001b[1;36m51\u001b[0m\u001b[1;33m,\u001b[0m\u001b[1;36m130\u001b[0m\u001b[1;33m)\u001b[0m\u001b[1;33m\u001b[0m\u001b[1;33m\u001b[0m\u001b[0m\n\u001b[0m",
      "\u001b[1;32m~\\Documents\\GitHub\\mistaken_mice\\PCA_fun.py\u001b[0m in \u001b[0;36mneurons_PCA\u001b[1;34m(dat, tVar, minT, maxT)\u001b[0m\n\u001b[0;32m     16\u001b[0m     \u001b[1;32mfrom\u001b[0m \u001b[0msklearn\u001b[0m\u001b[1;33m.\u001b[0m\u001b[0mdecomposition\u001b[0m \u001b[1;32mimport\u001b[0m \u001b[0mPCA\u001b[0m\u001b[1;33m\u001b[0m\u001b[1;33m\u001b[0m\u001b[0m\n\u001b[0;32m     17\u001b[0m \u001b[1;33m\u001b[0m\u001b[0m\n\u001b[1;32m---> 18\u001b[1;33m     \u001b[0mdt\u001b[0m \u001b[1;33m=\u001b[0m \u001b[0mdat\u001b[0m\u001b[1;33m[\u001b[0m\u001b[1;34m'bin_size'\u001b[0m\u001b[1;33m]\u001b[0m \u001b[1;31m# binning at 10 ms\u001b[0m\u001b[1;33m\u001b[0m\u001b[1;33m\u001b[0m\u001b[0m\n\u001b[0m\u001b[0;32m     19\u001b[0m     \u001b[0mNT\u001b[0m \u001b[1;33m=\u001b[0m \u001b[0mdat\u001b[0m\u001b[1;33m[\u001b[0m\u001b[1;34m'spks'\u001b[0m\u001b[1;33m]\u001b[0m\u001b[1;33m.\u001b[0m\u001b[0mshape\u001b[0m\u001b[1;33m[\u001b[0m\u001b[1;33m-\u001b[0m\u001b[1;36m1\u001b[0m\u001b[1;33m]\u001b[0m\u001b[1;33m\u001b[0m\u001b[1;33m\u001b[0m\u001b[0m\n\u001b[0;32m     20\u001b[0m \u001b[1;33m\u001b[0m\u001b[0m\n",
      "\u001b[1;31mTypeError\u001b[0m: tuple indices must be integers or slices, not str"
     ]
    }
   ],
   "source": [
    "neurons_PCA(first_session_filtered,0.1,51,130)"
   ]
  },
  {
   "cell_type": "markdown",
   "metadata": {
    "colab_type": "text",
    "id": "EvkzF-SKn97s"
   },
   "source": [
    "# General Linear Model "
   ]
  },
  {
   "cell_type": "code",
   "execution_count": null,
   "metadata": {
    "colab": {},
    "colab_type": "code",
    "id": "xdvGN8hioSPJ"
   },
   "outputs": [],
   "source": [
    "# reshaping_features(features, axis_pc = 0, axis_trial = 1, axis_time = 2)\n",
    "# GLM_logistic(features, choices, pen = \"l2\", lambda_L2 = 1)"
   ]
  }
 ],
 "metadata": {
  "colab": {
   "collapsed_sections": [],
   "name": "mistaken_mice.ipynb",
   "provenance": [],
   "toc_visible": true
  },
  "kernelspec": {
   "display_name": "Python 3",
   "language": "python",
   "name": "python3"
  },
  "language_info": {
   "codemirror_mode": {
    "name": "ipython",
    "version": 3
   },
   "file_extension": ".py",
   "mimetype": "text/x-python",
   "name": "python",
   "nbconvert_exporter": "python",
   "pygments_lexer": "ipython3",
   "version": "3.7.7"
  }
 },
 "nbformat": 4,
 "nbformat_minor": 4
}

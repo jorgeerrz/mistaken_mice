{
  "nbformat": 4,
  "nbformat_minor": 0,
  "metadata": {
    "colab": {
      "name": "mistaken_mice.ipynb",
      "provenance": [],
      "collapsed_sections": [],
      "toc_visible": true,
      "include_colab_link": true
    },
    "kernelspec": {
      "display_name": "Python 3",
      "language": "python",
      "name": "python3"
    },
    "language_info": {
      "codemirror_mode": {
        "name": "ipython",
        "version": 3
      },
      "file_extension": ".py",
      "mimetype": "text/x-python",
      "name": "python",
      "nbconvert_exporter": "python",
      "pygments_lexer": "ipython3",
      "version": "3.7.6"
    }
  },
  "cells": [
    {
      "cell_type": "markdown",
      "metadata": {
        "id": "view-in-github",
        "colab_type": "text"
      },
      "source": [
        "<a href=\"https://colab.research.google.com/github/jorgeerrz/mistaken_mice/blob/master/mistaken_mice.ipynb\" target=\"_parent\"><img src=\"https://colab.research.google.com/assets/colab-badge.svg\" alt=\"Open In Colab\"/></a>"
      ]
    },
    {
      "cell_type": "markdown",
      "metadata": {
        "colab_type": "text",
        "id": "f5lHZMY_O1jz"
      },
      "source": [
        "# Mistaken Mice notebook\n",
        "\n",
        "2020 NMA academy project, mistaken mice group, pod 173 antique cicada"
      ]
    },
    {
      "cell_type": "markdown",
      "metadata": {
        "colab_type": "text",
        "id": "0boUCcI2NwyL"
      },
      "source": [
        "# Import packages and functions"
      ]
    },
    {
      "cell_type": "code",
      "metadata": {
        "colab_type": "code",
        "id": "qg1QinE8NvoK",
        "colab": {
          "base_uri": "https://localhost:8080/",
          "height": 153
        },
        "outputId": "6608e802-8437-4735-bb81-4886741fd512"
      },
      "source": [
        "# to import the functions we wrote, clone the git repo\n",
        "!git clone https://github.com/jorgeerrz/mistaken_mice.git\n",
        "%cd mistaken_mice\n",
        "#alternatively, run the notebook locally, then just comment the lines above\n",
        "\n",
        "# from filter import *\n",
        "# from summarise_dataset import *\n",
        "# from PCA_fun import neurons_PCA\n",
        "# from GLM import *\n",
        "\n",
        "%load_ext autoreload\n",
        "%autoreload 2"
      ],
      "execution_count": 1,
      "outputs": [
        {
          "output_type": "stream",
          "text": [
            "Cloning into 'mistaken_mice'...\n",
            "remote: Enumerating objects: 197, done.\u001b[K\n",
            "remote: Counting objects: 100% (197/197), done.\u001b[K\n",
            "remote: Compressing objects: 100% (135/135), done.\u001b[K\n",
            "remote: Total 197 (delta 110), reused 142 (delta 61), pack-reused 0\u001b[K\n",
            "Receiving objects: 100% (197/197), 1.45 MiB | 11.00 MiB/s, done.\n",
            "Resolving deltas: 100% (110/110), done.\n",
            "/content/mistaken_mice\n"
          ],
          "name": "stdout"
        }
      ]
    },
    {
      "cell_type": "code",
      "metadata": {
        "id": "IgseKpDx0eR0",
        "colab_type": "code",
        "colab": {}
      },
      "source": [
        "from filter import *\n",
        "from summarise_dataset import *\n",
        "from PCA_fun import neurons_PCA\n",
        "from GLM import *\n",
        "from rebin import *"
      ],
      "execution_count": 33,
      "outputs": []
    },
    {
      "cell_type": "markdown",
      "metadata": {
        "colab_type": "text",
        "id": "bEqdz1ZUMaj1"
      },
      "source": [
        "# Loading of Steinmetz data"
      ]
    },
    {
      "cell_type": "code",
      "metadata": {
        "cellView": "both",
        "colab_type": "code",
        "id": "TLWjKq8bLDqm",
        "colab": {}
      },
      "source": [
        "#@title Data retrieval\n",
        "import os, requests\n",
        "\n",
        "fname = []\n",
        "for j in range(3):\n",
        "  fname.append('steinmetz_part%d.npz'%j)\n"
      ],
      "execution_count": 3,
      "outputs": []
    },
    {
      "cell_type": "code",
      "metadata": {
        "colab_type": "code",
        "id": "iaKfUWueF1Au",
        "colab": {}
      },
      "source": [
        "# skip if you already downloaded the data\n",
        "url = [\"https://osf.io/agvxh/download\"]\n",
        "url.append(\"https://osf.io/uv3mw/download\")\n",
        "url.append(\"https://osf.io/ehmw2/download\")\n",
        "\n",
        "for j in range(len(url)):\n",
        "  if not os.path.isfile(fname[j]):\n",
        "    try:\n",
        "      r = requests.get(url[j])\n",
        "    except requests.ConnectionError:\n",
        "      print(\"!!! Failed to download data !!!\")\n",
        "    else:\n",
        "      if r.status_code != requests.codes.ok:\n",
        "        print(\"!!! Failed to download data !!!\")\n",
        "      else:\n",
        "        with open(fname[j], \"wb\") as fid:\n",
        "          fid.write(r.content)"
      ],
      "execution_count": 4,
      "outputs": []
    },
    {
      "cell_type": "code",
      "metadata": {
        "cellView": "form",
        "colab_type": "code",
        "id": "sffzC_hyLgWZ",
        "colab": {}
      },
      "source": [
        "#@title Data loading\n",
        "import numpy as np\n",
        "\n",
        "alldat = np.array([])\n",
        "for j in range(len(fname)):\n",
        "  alldat = np.hstack((alldat, np.load('steinmetz_part%d.npz'%j, allow_pickle=True)['dat']))\n"
      ],
      "execution_count": 5,
      "outputs": []
    },
    {
      "cell_type": "markdown",
      "metadata": {
        "colab_type": "text",
        "id": "1OJ6WyvaNhSC"
      },
      "source": [
        "# Filter the data"
      ]
    },
    {
      "cell_type": "code",
      "metadata": {
        "colab_type": "code",
        "id": "fWxFSnWUORoi",
        "colab": {
          "base_uri": "https://localhost:8080/",
          "height": 35
        },
        "outputId": "6c035394-6dc9-4fa0-be5e-975639061e79"
      },
      "source": [
        "# need to loop over all sessions to pass as input to summarise_data function in next step\n",
        "first_session_filtered_VISp = filter_spikes(alldat,0,'VISp') \n",
        "first_session_filtered = filter_spikes(alldat,0) \n",
        "print(np.shape(first_session_filtered['spks']))"
      ],
      "execution_count": null,
      "outputs": [
        {
          "output_type": "stream",
          "text": [
            "(734, 10, 250)\n"
          ],
          "name": "stdout"
        }
      ]
    },
    {
      "cell_type": "markdown",
      "metadata": {
        "colab_type": "text",
        "id": "w2md3ohKNY4m"
      },
      "source": [
        "# Summarise the filtered data"
      ]
    },
    {
      "cell_type": "code",
      "metadata": {
        "colab_type": "code",
        "id": "aAG-jPcSjkrC",
        "colab": {
          "base_uri": "https://localhost:8080/",
          "height": 501
        },
        "outputId": "f853a8ed-8359-404d-eaf0-2ab13607f32c"
      },
      "source": [
        "summarise_dataset(alldat) # should be filtered data, but alldat is used here as an example\n"
      ],
      "execution_count": null,
      "outputs": [
        {
          "output_type": "execute_result",
          "data": {
            "text/plain": [
              "{'n_neurons': array([ 734., 1070.,  619., 1769., 1077., 1169.,  584., 1156.,  788.,\n",
              "        1172.,  857.,  698.,  983.,  756.,  743.,  474.,  565., 1089.,\n",
              "         606.,  899.,  578.,  646., 1268., 1337.,  885., 1056.,  563.,\n",
              "         549.,  750.,  942.,  977.,  522.,  613.,  781.,  795.,  680.,\n",
              "        1055.,  805., 1348.]),\n",
              " 'n_trials': array([214., 251., 228., 249., 254., 290., 252., 250., 372., 447., 342.,\n",
              "        340., 300., 268., 404., 280., 224., 316., 247., 235., 124., 444.,\n",
              "        151., 187., 261., 178., 253., 142., 128., 143., 237., 260., 191.,\n",
              "        296., 311., 258., 181., 199., 343.]),\n",
              " 'n_timebins': array([250., 250., 250., 250., 250., 250., 250., 250., 250., 250., 250.,\n",
              "        250., 250., 250., 250., 250., 250., 250., 250., 250., 250., 250.,\n",
              "        250., 250., 250., 250., 250., 250., 250., 250., 250., 250., 250.,\n",
              "        250., 250., 250., 250., 250., 250.])}"
            ]
          },
          "metadata": {
            "tags": []
          },
          "execution_count": 13
        },
        {
          "output_type": "display_data",
          "data": {
            "image/png": "[encoded data removed]",
            "text/plain": [
              "<Figure size 504x216 with 2 Axes>"
            ]
          },
          "metadata": {
            "tags": []
          }
        }
      ]
    },
    {
      "cell_type": "markdown",
      "metadata": {
        "colab_type": "text",
        "id": "YhNNDzpunEyE"
      },
      "source": [
        "# Change the time bin\n",
        "Optional step"
      ]
    },
    {
      "cell_type": "code",
      "metadata": {
        "colab_type": "code",
        "id": "8CoZP8kenfne",
        "jupyter": {
          "source_hidden": true
        },
        "colab": {
          "base_uri": "https://localhost:8080/",
          "height": 35
        },
        "outputId": "af5ec372-3dcf-4fbd-cef5-605d2a202b70"
      },
      "source": [
        "dat = first_session_filtered\n",
        "NT = dat['spks'].shape[-1]\n",
        "minT = 50\n",
        "maxT = 130\n",
        "NN = dat['spks'].shape[0]\n",
        "\n",
        "droll = np.reshape(dat['spks'][:,:,minT:maxT], (NN,-1))\n",
        "\n",
        "dat['spks'][:,:,minT:maxT].mean(axis=2).shape\n"
      ],
      "execution_count": null,
      "outputs": [
        {
          "output_type": "execute_result",
          "data": {
            "text/plain": [
              "(734, 10)"
            ]
          },
          "metadata": {
            "tags": []
          },
          "execution_count": 14
        }
      ]
    },
    {
      "cell_type": "code",
      "metadata": {
        "id": "e5VuS_U5zXk6",
        "colab_type": "code",
        "colab": {}
      },
      "source": [
        "def neurons_time_PCA(dat,tVar,minT,maxT,toplot=False):\n",
        "    #Perform PCA with the neurons of a single session. Components are estimated by considering activity in the range minT:maxT\n",
        "    #Example input neurons_PCA(dat,0.9,51,130)\n",
        "\n",
        "    import numpy as np\n",
        "    import matplotlib.pyplot as plt\n",
        "    from sklearn.decomposition import PCA\n",
        "\n",
        "    NT = dat['spks'].shape[-1]\n",
        "\n",
        "    #@title top PC directions from stimulus + response period, with projections of the entire duration\n",
        "    NN = dat['spks'].shape[0]\n",
        "    #All trials are concatenated to result in a session-long time series for each neuron:\n",
        "    #droll = np.reshape(dat['spks'][:,:,minT:maxT], (NN,-1)) # first 80 bins = 1.6 sec\n",
        "    #(N.B. only the time bins for stimulus + response are used!)\n",
        "\n",
        "    #droll = droll - np.mean(droll, axis=1)[:, np.newaxis] #center each neuron's response vector\n",
        "    #(np.newaxis is used to add an additional dimension, to be consistent with the original droll matrix)\n",
        "\n",
        "    droll = reshaping_features(dat['spks']) #[:,:,minT:maxT].mean(axis=2)\n",
        "    droll = droll.T\n",
        "    nPCs = min(droll.shape) #set how many PCs we are interested in (all of them)\n",
        "\n",
        "    model = PCA(n_components = nPCs).fit(droll.T) #perform PCA!\n",
        "    weights = model.components_ #extract the weight of each PC dimension for each neuron\n",
        "    PCneurons = weights @ droll #multiply each neuron by its corresponding weights\n",
        "    #(N.B. the entire trial durations for each neuron are multiplied by the weight! But weight were extracted only from a portion)\n",
        "    #PCneurons = np.reshape(PCneurons, (nPCs, -1, NT)) #session-long time series are split again into trial-long time series\n",
        "\n",
        "    explVar = model.explained_variance_\n",
        "    \n",
        "\n",
        "    fracVar = explVar/np.sum(explVar) #fraction of explained variance for each PC\n",
        "    cumVar = np.cumsum(fracVar) #cumulative sum of explained variance\n",
        "    PCrange = np.max(np.where(cumVar<=tVar)) #The lowest number of components that explain the threshold variance\n",
        "    \n",
        "    if toplot == True:\n",
        "        plt.figure()\n",
        "        plt.bar(range(nPCs),explVar)\n",
        "        plt.xlabel('Eigenvector')\n",
        "        plt.ylabel('Explained variance')\n",
        "        \n",
        "        plt.plot([PCrange,PCrange],[0,np.max(explVar)],'r')\n",
        "\n",
        "        #@title The top PCs capture most variance across the brain. What do they care about?\n",
        "        plt.figure(figsize= (20, 6))\n",
        "    \n",
        "        for iPC in range((PCneurons).shape[0]):\n",
        "\n",
        "          this_pc = PCneurons[iPC]\n",
        "\n",
        "          plt.plot(this_pc.mean(axis=0))\n",
        "\n",
        "          if iPC==0:\n",
        "            plt.legend(['right only', 'left only', 'neither', 'both'], fontsize=8)\n",
        "            plt.xlabel('binned time')\n",
        "            plt.ylabel('Component value')\n",
        "          # plt.title('PC %d'%j)\n",
        "\n",
        "    dat['PCs'] = PCneurons\n",
        "    dat['weights'] = weights\n",
        "    dat['PCrange'] = PCrange+1\n",
        "\n",
        "    return dat"
      ],
      "execution_count": 19,
      "outputs": []
    },
    {
      "cell_type": "markdown",
      "metadata": {
        "id": "jMq0xCzlvn2G",
        "colab_type": "text"
      },
      "source": [
        "# Filter, PCA, and Model one session"
      ]
    },
    {
      "cell_type": "code",
      "metadata": {
        "id": "ExGgrgqw5KXU",
        "colab_type": "code",
        "colab": {}
      },
      "source": [
        "def rebin(dat, minT, maxT, newbin, oldbin = 0.01):\n",
        "  ''' takes spike counts from 'spks' and rebins them into a new time bin specified by newbin\n",
        "\n",
        "  Args:\n",
        "  input = dict for the session (dat['spks'], dimensions: neurons * trials * time bins)\n",
        "  newbin = size of the new time bin in seconds\n",
        "  oldbin = size of old time bin. default 0.01s\n",
        "\n",
        "  Returns:\n",
        "  newcount = spike count in new bin\n",
        "  newbin = size of new bin size\n",
        "  '''\n",
        "\n",
        "  #assert newbin > oldbin 'new bin size must be bigger than old bin size'\n",
        "  input = dat['spks'][:,:,minT:maxT]\n",
        "  # initialize variables\n",
        "  poolbin = newbin/oldbin # calculates numbers of bins to be pooled into one new bin\n",
        "  newcount = np.zeros((input.shape[0],input.shape[1],int(input.shape[2]/poolbin))) # create matrix of zeros with appropriate third dimension (number of bins)\n",
        "\n",
        "\n",
        "  index = list(range(int(input.shape[2]/poolbin)))\n",
        "  for idx in index:\n",
        "      # sum up counts from one step to the next\n",
        "      slc = input[:,:,int(idx*poolbin):int((idx+1)*poolbin)]\n",
        "      newcount[:,:,idx] = np.sum(slc, axis=2)\n",
        "  \n",
        "  dat2 = dat.copy()\n",
        "  dat2['spks'] = newcount\n",
        "\n",
        "  return dat2 #newcount, newbin"
      ],
      "execution_count": 77,
      "outputs": []
    },
    {
      "cell_type": "code",
      "metadata": {
        "id": "j15ByfI71MYw",
        "colab_type": "code",
        "colab": {
          "base_uri": "https://localhost:8080/",
          "height": 34
        },
        "outputId": "d179c75f-d8ed-42fe-da18-1848214e8ce6"
      },
      "source": [
        "filtered = filter_spikes(alldat,session,unfair_only=True,brain_area=brain_areas)\n",
        "rebinned = rebin(filtered, 50, 250, 2)\n",
        "rebinned['spks'].shape, filtered['spks'].shape"
      ],
      "execution_count": 105,
      "outputs": [
        {
          "output_type": "execute_result",
          "data": {
            "text/plain": [
              "((0, 0, 1), (0, 0, 250))"
            ]
          },
          "metadata": {
            "tags": []
          },
          "execution_count": 105
        }
      ]
    },
    {
      "cell_type": "code",
      "metadata": {
        "id": "o6tqJSgMQR9c",
        "colab_type": "code",
        "colab": {
          "base_uri": "https://localhost:8080/",
          "height": 102
        },
        "outputId": "41910eb2-ad11-419a-98dc-dca31861b2b2"
      },
      "source": [
        "probs[:,1]"
      ],
      "execution_count": 134,
      "outputs": [
        {
          "output_type": "execute_result",
          "data": {
            "text/plain": [
              "array([0.45343092, 0.1079416 , 0.1152742 , 0.2005863 , 0.14442857,\n",
              "       0.31069589, 0.68414395, 0.24833898, 0.72584557, 0.13238905,\n",
              "       0.61238812, 0.41280501, 0.36661618, 0.70933953, 0.24217612,\n",
              "       0.63032053, 0.15734123, 0.13828503, 0.63739845, 0.59220953,\n",
              "       0.16024011, 0.70944127, 0.78592959, 0.72247484])"
            ]
          },
          "metadata": {
            "tags": []
          },
          "execution_count": 134
        }
      ]
    },
    {
      "cell_type": "code",
      "metadata": {
        "colab_type": "code",
        "id": "dzCIKcO_F1Bq",
        "colab": {
          "base_uri": "https://localhost:8080/",
          "height": 469
        },
        "outputId": "b7c8942c-dc6d-4ed1-b869-6bbdbd25bebf"
      },
      "source": [
        "from sklearn.model_selection import *\n",
        "\n",
        "session = 0\n",
        "brain_areas = [\"MOs\"]\n",
        "\n",
        "\n",
        "filtered = filter_spikes(alldat,session,unfair_only=True,brain_area=brain_areas)\n",
        "#filtered = rebin(filtered, 50, 250, 2)\n",
        "dat = neurons_PCA(filtered,0.9,50,250,toplot=False)\n",
        "#dat['PCs'] = dat['PCs'][0:dat['PCrange'],:]\n",
        "lambda_L2 = 1\n",
        "penalty = \"l2\"\n",
        "l1args = {}\n",
        "left_bias = np.mean((filtered['chcs'])==1)\n",
        "choice_bias = [left_bias if left_bias > .5 else (1.0-left_bias)]\n",
        "w = {-1:left_bias, 1:1-left_bias}\n",
        "logreg = LogisticRegression(penalty = penalty, C = lambda_L2, **l1args).fit(dat['PCs'].T, filtered['chcs'])\n",
        "splitter = LeaveOneOut()\n",
        "splits = splitter.split(dat['PCs'].T)\n",
        "accuracies = cross_val_score(logreg,dat['PCs'].T, filtered['chcs'], cv=splits, verbose=0) # k=8 crossvalidation\n",
        "#logreg.fit(dat['PCs'].T, dat['chcs'])\n",
        "predictions = logreg.predict(dat['PCs'].T)\n",
        "\n",
        "probs = logreg.predict_proba(dat['PCs'].T)\n",
        "mprobs = [max(prob) for prob in probs]\n",
        "\n",
        "print('Number of PCs: '+str(dat['PCrange']))\n",
        "\n",
        "print('Accuracies: '+str(accuracies))\n",
        "print('Mean Accuracy: '+str(np.mean(accuracies)))\n",
        "print('Predictions: '+ str(predictions))\n",
        "print('Actual: '+ str(filtered['chcs']))\n",
        "print('Probs: '+ str(probs[:,1]))\n",
        "actual_choice_probs = [(prob[0] if choice==-1 else prob[1]) for prob,choice in zip(probs,filtered['chcs'])]\n",
        "print('Brier score: '+str(np.sum((probs[:,1] - (filtered['chcs'] + 1)/2)**2)))\n",
        "print('Weight right: '+str(w[-1])+' weight left: '+str(w[1]))\n",
        "print('Percent Left: ' +str(np.mean((filtered['chcs'])==1)))\n",
        "print('Percent Right: ' +str(np.mean((filtered['chcs'])==-1)))\n",
        "\n",
        "plt.plot(predictions,linewidth=0,marker='o')\n",
        "plt.plot(filtered['chcs'],linewidth=0,marker='x')"
      ],
      "execution_count": 146,
      "outputs": [
        {
          "output_type": "stream",
          "text": [
            "Number of PCs: 4\n",
            "Accuracies: [1. 1. 0. 1. 1. 1. 1. 1. 0. 1.]\n",
            "Mean Accuracy: 0.8\n",
            "Predictions: [-1. -1. -1. -1. -1. -1. -1. -1. -1. -1.]\n",
            "Actual: [-1. -1.  1. -1. -1. -1. -1. -1.  1. -1.]\n",
            "Probs: [0.18060364 0.20744487 0.21302216 0.20050261 0.19832748 0.1930037\n",
            " 0.19718965 0.19773468 0.21438583 0.19774356]\n",
            "Brier score: 1.5460455914137423\n",
            "Weight right: 0.2 weight left: 0.8\n",
            "Percent Left: 0.2\n",
            "Percent Right: 0.8\n"
          ],
          "name": "stdout"
        },
        {
          "output_type": "execute_result",
          "data": {
            "text/plain": [
              "[<matplotlib.lines.Line2D at 0x7fe353f5be80>]"
            ]
          },
          "metadata": {
            "tags": []
          },
          "execution_count": 146
        },
        {
          "output_type": "display_data",
          "data": {
            "image/png": "[encoded data removed]",
            "text/plain": [
              "<Figure size 432x288 with 1 Axes>"
            ]
          },
          "metadata": {
            "tags": [],
            "needs_background": "light"
          }
        }
      ]
    },
    {
      "cell_type": "markdown",
      "metadata": {
        "id": "DjJS4F7Ivn2L",
        "colab_type": "text"
      },
      "source": [
        "# Filter, PCA, and Model all sessions (with neurons)"
      ]
    },
    {
      "cell_type": "code",
      "metadata": {
        "colab_type": "code",
        "id": "R4Tqrsm8F1B1",
        "colab": {
          "base_uri": "https://localhost:8080/",
          "height": 68
        },
        "outputId": "69d327da-6ed0-46fd-a7e1-aa2c44244d99"
      },
      "source": [
        "brain_areas = ['MOp']\n",
        "\n",
        "for session in range(len(alldat)):\n",
        "    if np.sum(np.isin(alldat[session]['brain_area'],brain_areas))>0:\n",
        "        filtered = filter_spikes(alldat,session,unfair_only=True,chosey_only=True, nonzero_only=True,brain_area=brain_areas)\n",
        "        filtered = rebin(filtered, 50, 250, 2)\n",
        "        dat = neurons_time_PCA(filtered,0.9,0,250)\n",
        "       # dat['PCs'] = dat['PCs'][0:dat['PCrange'],:]\n",
        "        lambda_L2 = 1\n",
        "        penalty = \"none\"\n",
        "        l1args = {}\n",
        "        left_bias = np.mean((filtered['chcs'])==-1)\n",
        "        choice_bias = [left_bias if left_bias > .5 else (1.0-left_bias)]\n",
        "        w = {-1:1-left_bias, 1:left_bias}\n",
        "       # l1args = {'solver':\"saga\", 'max_iter':5000}\n",
        "        logreg = LogisticRegression(penalty = penalty, C = lambda_L2, **l1args, class_weight = w).fit(dat['PCs'].T, filtered['chcs'])\n",
        "        splitter = LeaveOneOut()\n",
        "        splits = splitter.split(dat['PCs'].T)\n",
        "        accuracies = cross_val_score(logreg,dat['PCs'].T, filtered['chcs'], cv=splits, verbose=0) # k=8 crossvalidation\n",
        "        aob = accuracies.mean() - choice_bias\n",
        "        print(\"Session# \"+ str(session)+\" accuracy over bias = \"+str(accuracies.mean() - choice_bias) + \", trial count= \"+ str(len(accuracies)),\"PC count= \"+ str(dat['PCs'].shape[0]))"
      ],
      "execution_count": 122,
      "outputs": [
        {
          "output_type": "stream",
          "text": [
            "Session# 10 accuracy over bias = [0.29166667], trial count= 24 PC count= 24\n",
            "Session# 20 accuracy over bias = [-0.42857143], trial count= 7 PC count= 7\n",
            "Session# 28 accuracy over bias = [0.22222222], trial count= 9 PC count= 9\n"
          ],
          "name": "stdout"
        }
      ]
    },
    {
      "cell_type": "markdown",
      "metadata": {
        "id": "u7MW_crovn2P",
        "colab_type": "text"
      },
      "source": [
        "# Filter, PCA, and Model w/ different time bins"
      ]
    },
    {
      "cell_type": "code",
      "metadata": {
        "id": "LgEtn_izvn2Q",
        "colab_type": "code",
        "colab": {},
        "outputId": "d3b2a8a0-725e-43aa-8ac3-16eaceac5c2a"
      },
      "source": [
        "binl = 25\n",
        "bins = [x for x in range(0,250,binl)]\n",
        "brain_areas = [\"MOp\"]\n",
        "\n",
        "for bin in bins:\n",
        "    session = 10\n",
        "    filtered = filter_spikes(alldat,session,unfair_only=True,brain_area=brain_areas)\n",
        "    dat = neurons_PCA(filtered,0.9,bin,bin+binl)\n",
        "    lambda_L2 = 1\n",
        "    penalty = \"l2\"\n",
        "    l1args = {}\n",
        "    logreg = LogisticRegression(penalty = penalty, C = lambda_L2, **l1args).fit(dat['PCs'].T, filtered['chcs'])\n",
        "    splitter = LeaveOneOut()\n",
        "    splits = splitter.split(dat['PCs'].T)\n",
        "    accuracies = cross_val_score(logreg,dat['PCs'].T, filtered['chcs'], cv=splits, verbose=0) # k=8 crossvalidation\n",
        "    print(\"Bin \"+str(bin)+\" to \"+str(bin+binl)+\" accuracy mean= \"+str(accuracies.mean())+ \", percent left \"+ str(np.mean((filtered['chcs'])==-1)))"
      ],
      "execution_count": null,
      "outputs": [
        {
          "output_type": "error",
          "ename": "ValueError",
          "evalue": "zero-size array to reduction operation maximum which has no identity",
          "traceback": [
            "\u001b[0;31m---------------------------------------------------------------------------\u001b[0m",
            "\u001b[0;31mValueError\u001b[0m                                Traceback (most recent call last)",
            "\u001b[0;32m<ipython-input-136-539dc0c36c7b>\u001b[0m in \u001b[0;36m<module>\u001b[0;34m\u001b[0m\n\u001b[1;32m      6\u001b[0m     \u001b[0msession\u001b[0m \u001b[0;34m=\u001b[0m \u001b[0;36m10\u001b[0m\u001b[0;34m\u001b[0m\u001b[0;34m\u001b[0m\u001b[0m\n\u001b[1;32m      7\u001b[0m     \u001b[0mfiltered\u001b[0m \u001b[0;34m=\u001b[0m \u001b[0mfilter_spikes\u001b[0m\u001b[0;34m(\u001b[0m\u001b[0malldat\u001b[0m\u001b[0;34m,\u001b[0m\u001b[0msession\u001b[0m\u001b[0;34m,\u001b[0m\u001b[0munfair_only\u001b[0m\u001b[0;34m=\u001b[0m\u001b[0;32mTrue\u001b[0m\u001b[0;34m,\u001b[0m\u001b[0mbrain_area\u001b[0m\u001b[0;34m=\u001b[0m\u001b[0mbrain_areas\u001b[0m\u001b[0;34m)\u001b[0m\u001b[0;34m\u001b[0m\u001b[0;34m\u001b[0m\u001b[0m\n\u001b[0;32m----> 8\u001b[0;31m     \u001b[0mdat\u001b[0m \u001b[0;34m=\u001b[0m \u001b[0mneurons_PCA\u001b[0m\u001b[0;34m(\u001b[0m\u001b[0mfiltered\u001b[0m\u001b[0;34m,\u001b[0m\u001b[0;36m0.1\u001b[0m\u001b[0;34m,\u001b[0m\u001b[0mbin\u001b[0m\u001b[0;34m,\u001b[0m\u001b[0mbin\u001b[0m\u001b[0;34m+\u001b[0m\u001b[0mbinl\u001b[0m\u001b[0;34m)\u001b[0m\u001b[0;34m\u001b[0m\u001b[0;34m\u001b[0m\u001b[0m\n\u001b[0m\u001b[1;32m      9\u001b[0m     \u001b[0mlambda_L2\u001b[0m \u001b[0;34m=\u001b[0m \u001b[0;36m1\u001b[0m\u001b[0;34m\u001b[0m\u001b[0;34m\u001b[0m\u001b[0m\n\u001b[1;32m     10\u001b[0m     \u001b[0mpenalty\u001b[0m \u001b[0;34m=\u001b[0m \u001b[0;34m\"l2\"\u001b[0m\u001b[0;34m\u001b[0m\u001b[0;34m\u001b[0m\u001b[0m\n",
            "\u001b[0;32m~/Documents/GitHub/mistaken_mice/PCA_fun.py\u001b[0m in \u001b[0;36mneurons_PCA\u001b[0;34m(dat, tVar, minT, maxT, toplot)\u001b[0m\n\u001b[1;32m     41\u001b[0m     \u001b[0mfracVar\u001b[0m \u001b[0;34m=\u001b[0m \u001b[0mexplVar\u001b[0m\u001b[0;34m/\u001b[0m\u001b[0mnp\u001b[0m\u001b[0;34m.\u001b[0m\u001b[0msum\u001b[0m\u001b[0;34m(\u001b[0m\u001b[0mexplVar\u001b[0m\u001b[0;34m)\u001b[0m \u001b[0;31m#fraction of explained variance for each PC\u001b[0m\u001b[0;34m\u001b[0m\u001b[0;34m\u001b[0m\u001b[0m\n\u001b[1;32m     42\u001b[0m     \u001b[0mcumVar\u001b[0m \u001b[0;34m=\u001b[0m \u001b[0mnp\u001b[0m\u001b[0;34m.\u001b[0m\u001b[0mcumsum\u001b[0m\u001b[0;34m(\u001b[0m\u001b[0mfracVar\u001b[0m\u001b[0;34m)\u001b[0m \u001b[0;31m#cumulative sum of explained variance\u001b[0m\u001b[0;34m\u001b[0m\u001b[0;34m\u001b[0m\u001b[0m\n\u001b[0;32m---> 43\u001b[0;31m     \u001b[0mPCrange\u001b[0m \u001b[0;34m=\u001b[0m \u001b[0mnp\u001b[0m\u001b[0;34m.\u001b[0m\u001b[0mmax\u001b[0m\u001b[0;34m(\u001b[0m\u001b[0mnp\u001b[0m\u001b[0;34m.\u001b[0m\u001b[0mwhere\u001b[0m\u001b[0;34m(\u001b[0m\u001b[0mcumVar\u001b[0m\u001b[0;34m<=\u001b[0m\u001b[0mtVar\u001b[0m\u001b[0;34m)\u001b[0m\u001b[0;34m)\u001b[0m \u001b[0;31m#The lowest number of components that explain the threshold variance\u001b[0m\u001b[0;34m\u001b[0m\u001b[0;34m\u001b[0m\u001b[0m\n\u001b[0m\u001b[1;32m     44\u001b[0m \u001b[0;34m\u001b[0m\u001b[0m\n\u001b[1;32m     45\u001b[0m     \u001b[0;32mif\u001b[0m \u001b[0mtoplot\u001b[0m \u001b[0;34m==\u001b[0m \u001b[0;32mTrue\u001b[0m\u001b[0;34m:\u001b[0m\u001b[0;34m\u001b[0m\u001b[0;34m\u001b[0m\u001b[0m\n",
            "\u001b[0;32m<__array_function__ internals>\u001b[0m in \u001b[0;36mamax\u001b[0;34m(*args, **kwargs)\u001b[0m\n",
            "\u001b[0;32m~/opt/anaconda3/lib/python3.7/site-packages/numpy/core/fromnumeric.py\u001b[0m in \u001b[0;36mamax\u001b[0;34m(a, axis, out, keepdims, initial, where)\u001b[0m\n\u001b[1;32m   2666\u001b[0m     \"\"\"\n\u001b[1;32m   2667\u001b[0m     return _wrapreduction(a, np.maximum, 'max', axis, None, out,\n\u001b[0;32m-> 2668\u001b[0;31m                           keepdims=keepdims, initial=initial, where=where)\n\u001b[0m\u001b[1;32m   2669\u001b[0m \u001b[0;34m\u001b[0m\u001b[0m\n\u001b[1;32m   2670\u001b[0m \u001b[0;34m\u001b[0m\u001b[0m\n",
            "\u001b[0;32m~/opt/anaconda3/lib/python3.7/site-packages/numpy/core/fromnumeric.py\u001b[0m in \u001b[0;36m_wrapreduction\u001b[0;34m(obj, ufunc, method, axis, dtype, out, **kwargs)\u001b[0m\n\u001b[1;32m     88\u001b[0m                 \u001b[0;32mreturn\u001b[0m \u001b[0mreduction\u001b[0m\u001b[0;34m(\u001b[0m\u001b[0maxis\u001b[0m\u001b[0;34m=\u001b[0m\u001b[0maxis\u001b[0m\u001b[0;34m,\u001b[0m \u001b[0mout\u001b[0m\u001b[0;34m=\u001b[0m\u001b[0mout\u001b[0m\u001b[0;34m,\u001b[0m \u001b[0;34m**\u001b[0m\u001b[0mpasskwargs\u001b[0m\u001b[0;34m)\u001b[0m\u001b[0;34m\u001b[0m\u001b[0;34m\u001b[0m\u001b[0m\n\u001b[1;32m     89\u001b[0m \u001b[0;34m\u001b[0m\u001b[0m\n\u001b[0;32m---> 90\u001b[0;31m     \u001b[0;32mreturn\u001b[0m \u001b[0mufunc\u001b[0m\u001b[0;34m.\u001b[0m\u001b[0mreduce\u001b[0m\u001b[0;34m(\u001b[0m\u001b[0mobj\u001b[0m\u001b[0;34m,\u001b[0m \u001b[0maxis\u001b[0m\u001b[0;34m,\u001b[0m \u001b[0mdtype\u001b[0m\u001b[0;34m,\u001b[0m \u001b[0mout\u001b[0m\u001b[0;34m,\u001b[0m \u001b[0;34m**\u001b[0m\u001b[0mpasskwargs\u001b[0m\u001b[0;34m)\u001b[0m\u001b[0;34m\u001b[0m\u001b[0;34m\u001b[0m\u001b[0m\n\u001b[0m\u001b[1;32m     91\u001b[0m \u001b[0;34m\u001b[0m\u001b[0m\n\u001b[1;32m     92\u001b[0m \u001b[0;34m\u001b[0m\u001b[0m\n",
            "\u001b[0;31mValueError\u001b[0m: zero-size array to reduction operation maximum which has no identity"
          ]
        }
      ]
    },
    {
      "cell_type": "code",
      "metadata": {
        "id": "3iNt_z5Wvn2T",
        "colab_type": "code",
        "colab": {},
        "outputId": "17e7374d-23ce-4e49-bd57-246886117968"
      },
      "source": [
        "[(session,np.sum(np.isin(alldat[session]['brain_area'],[\"VISam\", \"VISl\", \"VISp\", \"VISpm\", \"VISrl\"])), np.sum(np.isin(alldat[session]['brain_area'],[\"ACB\",\"CP\"]))) for session in range(len(alldat))]"
      ],
      "execution_count": null,
      "outputs": [
        {
          "output_type": "execute_result",
          "data": {
            "text/plain": [
              "[(0, 178, 0),\n",
              " (1, 533, 0),\n",
              " (2, 228, 0),\n",
              " (3, 39, 0),\n",
              " (4, 0, 0),\n",
              " (5, 0, 0),\n",
              " (6, 0, 59),\n",
              " (7, 48, 0),\n",
              " (8, 142, 0),\n",
              " (9, 340, 0),\n",
              " (10, 0, 275),\n",
              " (11, 145, 0),\n",
              " (12, 34, 0),\n",
              " (13, 42, 0),\n",
              " (14, 0, 0),\n",
              " (15, 0, 0),\n",
              " (16, 0, 0),\n",
              " (17, 0, 313),\n",
              " (18, 179, 0),\n",
              " (19, 122, 0),\n",
              " (20, 0, 0),\n",
              " (21, 133, 92),\n",
              " (22, 190, 0),\n",
              " (23, 296, 0),\n",
              " (24, 94, 0),\n",
              " (25, 162, 0),\n",
              " (26, 103, 90),\n",
              " (27, 71, 0),\n",
              " (28, 0, 340),\n",
              " (29, 0, 0),\n",
              " (30, 0, 0),\n",
              " (31, 0, 0),\n",
              " (32, 0, 383),\n",
              " (33, 0, 0),\n",
              " (34, 75, 0),\n",
              " (35, 53, 0),\n",
              " (36, 77, 0),\n",
              " (37, 0, 0),\n",
              " (38, 141, 0)]"
            ]
          },
          "metadata": {
            "tags": []
          },
          "execution_count": 126
        }
      ]
    },
    {
      "cell_type": "code",
      "metadata": {
        "id": "vSIEIeFxvn2W",
        "colab_type": "code",
        "colab": {},
        "outputId": "8ec09c9c-322b-446d-e727-3ca09aef2353"
      },
      "source": [
        "aba = []\n",
        "for session in alldat:\n",
        "    for ba in session['brain_area']:\n",
        "        if ba not in aba:\n",
        "            aba.append(ba)\n",
        "            \n",
        "print(np.sort(aba))"
      ],
      "execution_count": null,
      "outputs": [
        {
          "output_type": "stream",
          "text": [
            "['ACA' 'ACB' 'APN' 'AUD' 'BLA' 'BMA' 'CA' 'CA1' 'CA2' 'CA3' 'CL' 'COA'\n",
            " 'CP' 'DG' 'DP' 'EP' 'EPd' 'GPe' 'IC' 'ILA' 'LD' 'LGd' 'LH' 'LP' 'LS'\n",
            " 'LSc' 'LSr' 'MB' 'MD' 'MEA' 'MG' 'MOp' 'MOs' 'MRN' 'MS' 'NB' 'OLF' 'ORB'\n",
            " 'ORBm' 'OT' 'PAG' 'PIR' 'PL' 'PO' 'POL' 'POST' 'PT' 'RN' 'RSP' 'RT'\n",
            " 'SCig' 'SCm' 'SCs' 'SCsg' 'SI' 'SNr' 'SPF' 'SSp' 'SSs' 'SUB' 'TH' 'TT'\n",
            " 'VAL' 'VISa' 'VISam' 'VISl' 'VISp' 'VISpm' 'VISrl' 'VPL' 'VPM' 'ZI'\n",
            " 'root']\n"
          ],
          "name": "stdout"
        }
      ]
    },
    {
      "cell_type": "code",
      "metadata": {
        "id": "5UyKO8owvn2a",
        "colab_type": "code",
        "colab": {},
        "outputId": "c07ab51c-5b12-4bf4-ef22-a11bf67bcd8c"
      },
      "source": [
        "lams = np.logspace(-4,4,num=9)\n",
        "aobs = []\n",
        "accs = []\n",
        "for lam in lams:\n",
        "    session = 10\n",
        "    filtered = filter_spikes(alldat,session,unfair_only=True,chosey_only=True, nonzero_only=True,brain_area=brain_areas)\n",
        "    dat = neurons_PCA(filtered,0.9,0,250)\n",
        "    lambda_L2 = lam\n",
        "    penalty = \"l2\"\n",
        "    l1args = {}\n",
        "    logreg = LogisticRegression(penalty = penalty, C = lambda_L2, **l1args).fit(dat['PCs'].T, filtered['chcs'])\n",
        "    splitter = LeaveOneOut()\n",
        "    splits = splitter.split(dat['PCs'].T)\n",
        "    accuracies = cross_val_score(logreg,dat['PCs'].T, filtered['chcs'], cv=splits, verbose=0) # k=8 crossvalidation\n",
        "    left_bias = np.mean((filtered['chcs'])==-1)\n",
        "    choice_bias = [left_bias if left_bias > .5 else (1.0-left_bias)]\n",
        "    aob = accuracies.mean() - choice_bias\n",
        "    aobs.append(aob)\n",
        "    accs.append(accuracies.mean())\n",
        "plt.plot(np.log(lams),aobs)\n",
        "plt.plot(np.log(lams),accs)"
      ],
      "execution_count": null,
      "outputs": [
        {
          "output_type": "execute_result",
          "data": {
            "text/plain": [
              "[<matplotlib.lines.Line2D at 0x7f9172cd0c90>]"
            ]
          },
          "metadata": {
            "tags": []
          },
          "execution_count": 180
        },
        {
          "output_type": "display_data",
          "data": {
            "image/png": "[encoded data removed]",
            "text/plain": [
              "<Figure size 432x288 with 1 Axes>"
            ]
          },
          "metadata": {
            "tags": []
          }
        }
      ]
    },
    {
      "cell_type": "code",
      "metadata": {
        "id": "8OAdwFcuvn2c",
        "colab_type": "code",
        "colab": {}
      },
      "source": [
        ""
      ],
      "execution_count": null,
      "outputs": []
    }
  ]
}
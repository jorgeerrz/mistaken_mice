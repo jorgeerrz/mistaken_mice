{
  "nbformat": 4,
  "nbformat_minor": 0,
  "metadata": {
    "colab": {
      "name": "mistaken_mice.ipynb",
      "provenance": [],
      "collapsed_sections": []
    },
    "kernelspec": {
      "name": "python3",
      "display_name": "Python 3"
    }
  },
  "cells": [
    {
      "cell_type": "markdown",
      "metadata": {
        "id": "mRQzdbQ8vxC4",
        "colab_type": "text"
      },
      "source": [
        "Mistaken Mice notebook\n",
        "2020 NMA academy project, mistaken mice group, pod 173 antique cicada"
      ]
    },
    {
      "cell_type": "code",
      "metadata": {
        "id": "yWggltIQvp0a",
        "colab_type": "code",
        "colab": {}
      },
      "source": [
        ""
      ],
      "execution_count": null,
      "outputs": []
    }
  ]
}
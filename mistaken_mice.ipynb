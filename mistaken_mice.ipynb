{
  "nbformat": 4,
  "nbformat_minor": 0,
  "metadata": {
    "colab": {
      "name": "mistaken_mice.ipynb",
      "provenance": [],
      "collapsed_sections": [],
      "toc_visible": true
    },
    "kernelspec": {
      "name": "python3",
      "display_name": "Python 3"
    }
  },
  "cells": [
    {
      "cell_type": "markdown",
      "metadata": {
        "id": "f5lHZMY_O1jz",
        "colab_type": "text"
      },
      "source": [
        "# Mistaken Mice notebook\n",
        "\n",
        "2020 NMA academy project, mistaken mice group, pod 173 antique cicada"
      ]
    },
    {
      "cell_type": "markdown",
      "metadata": {
        "id": "0boUCcI2NwyL",
        "colab_type": "text"
      },
      "source": [
        "# Import packages and functions"
      ]
    },
    {
      "cell_type": "code",
      "metadata": {
        "id": "qg1QinE8NvoK",
        "colab_type": "code",
        "colab": {
          "base_uri": "https://localhost:8080/",
          "height": 299
        },
        "outputId": "083edd82-0420-4a73-de28-8f8048ead921"
      },
      "source": [
        "# to import the functions we wrote, clone the git repo\n",
        "!git clone https://github.com/jorgeerrz/mistaken_mice.git\n",
        "%cd mistaken_mice\n",
        "#alternatively, run the notebook locally, then just comment the lines above\n",
        "\n",
        "from filter import *\n",
        "from summarise_dataset import *\n",
        "from PCA_fun import *\n",
        "from GLM import *"
      ],
      "execution_count": 11,
      "outputs": [
        {
          "output_type": "error",
          "ename": "NameError",
          "evalue": "ignored",
          "traceback": [
            "\u001b[0;31m---------------------------------------------------------------------------\u001b[0m",
            "\u001b[0;31mNameError\u001b[0m                                 Traceback (most recent call last)",
            "\u001b[0;32m<ipython-input-11-239ec1589c8b>\u001b[0m in \u001b[0;36m<module>\u001b[0;34m()\u001b[0m\n\u001b[1;32m      5\u001b[0m \u001b[0;32mfrom\u001b[0m \u001b[0mfilter\u001b[0m \u001b[0;32mimport\u001b[0m \u001b[0;34m*\u001b[0m\u001b[0;34m\u001b[0m\u001b[0;34m\u001b[0m\u001b[0m\n\u001b[1;32m      6\u001b[0m \u001b[0;32mfrom\u001b[0m \u001b[0msummarise_dataset\u001b[0m \u001b[0;32mimport\u001b[0m \u001b[0;34m*\u001b[0m\u001b[0;34m\u001b[0m\u001b[0;34m\u001b[0m\u001b[0m\n\u001b[0;32m----> 7\u001b[0;31m \u001b[0;32mfrom\u001b[0m \u001b[0mPCA_fun\u001b[0m \u001b[0;32mimport\u001b[0m \u001b[0;34m*\u001b[0m\u001b[0;34m\u001b[0m\u001b[0;34m\u001b[0m\u001b[0m\n\u001b[0m\u001b[1;32m      8\u001b[0m \u001b[0;32mfrom\u001b[0m \u001b[0mGLM\u001b[0m \u001b[0;32mimport\u001b[0m \u001b[0;34m*\u001b[0m\u001b[0;34m\u001b[0m\u001b[0;34m\u001b[0m\u001b[0m\n",
            "\u001b[0;32m/content/mistaken_mice/mistaken_mice/mistaken_mice/mistaken_mice/mistaken_mice/PCA_fun.py\u001b[0m in \u001b[0;36m<module>\u001b[0;34m()\u001b[0m\n\u001b[1;32m     64\u001b[0m \u001b[0;34m\u001b[0m\u001b[0m\n\u001b[1;32m     65\u001b[0m \u001b[0;34m\u001b[0m\u001b[0m\n\u001b[0;32m---> 66\u001b[0;31m \u001b[0mPCneurons\u001b[0m\u001b[0;34m,\u001b[0m\u001b[0mweights\u001b[0m\u001b[0;34m,\u001b[0m\u001b[0mPCrange\u001b[0m \u001b[0;34m=\u001b[0m \u001b[0mneurons_PCA\u001b[0m\u001b[0;34m(\u001b[0m\u001b[0mdat\u001b[0m\u001b[0;34m,\u001b[0m\u001b[0;36m0.1\u001b[0m\u001b[0;34m,\u001b[0m\u001b[0;36m51\u001b[0m\u001b[0;34m,\u001b[0m\u001b[0;36m130\u001b[0m\u001b[0;34m)\u001b[0m\u001b[0;34m\u001b[0m\u001b[0;34m\u001b[0m\u001b[0m\n\u001b[0m",
            "\u001b[0;31mNameError\u001b[0m: name 'dat' is not defined"
          ]
        }
      ]
    },
    {
      "cell_type": "markdown",
      "metadata": {
        "id": "bEqdz1ZUMaj1",
        "colab_type": "text"
      },
      "source": [
        "# Loading of Steinmetz data"
      ]
    },
    {
      "cell_type": "code",
      "metadata": {
        "id": "TLWjKq8bLDqm",
        "colab_type": "code",
        "cellView": "form",
        "colab": {}
      },
      "source": [
        "#@title Data retrieval\n",
        "import os, requests\n",
        "\n",
        "fname = []\n",
        "for j in range(3):\n",
        "  fname.append('steinmetz_part%d.npz'%j)\n",
        "url = [\"https://osf.io/agvxh/download\"]\n",
        "url.append(\"https://osf.io/uv3mw/download\")\n",
        "url.append(\"https://osf.io/ehmw2/download\")\n",
        "\n",
        "for j in range(len(url)):\n",
        "  if not os.path.isfile(fname[j]):\n",
        "    try:\n",
        "      r = requests.get(url[j])\n",
        "    except requests.ConnectionError:\n",
        "      print(\"!!! Failed to download data !!!\")\n",
        "    else:\n",
        "      if r.status_code != requests.codes.ok:\n",
        "        print(\"!!! Failed to download data !!!\")\n",
        "      else:\n",
        "        with open(fname[j], \"wb\") as fid:\n",
        "          fid.write(r.content)\n"
      ],
      "execution_count": null,
      "outputs": []
    },
    {
      "cell_type": "code",
      "metadata": {
        "id": "sffzC_hyLgWZ",
        "colab_type": "code",
        "cellView": "form",
        "colab": {}
      },
      "source": [
        "#@title Data loading\n",
        "import numpy as np\n",
        "\n",
        "alldat = np.array([])\n",
        "for j in range(len(fname)):\n",
        "  alldat = np.hstack((alldat, np.load('steinmetz_part%d.npz'%j, allow_pickle=True)['dat']))\n"
      ],
      "execution_count": null,
      "outputs": []
    },
    {
      "cell_type": "markdown",
      "metadata": {
        "id": "1OJ6WyvaNhSC",
        "colab_type": "text"
      },
      "source": [
        "# Filter the data"
      ]
    },
    {
      "cell_type": "code",
      "metadata": {
        "id": "fWxFSnWUORoi",
        "colab_type": "code",
        "colab": {}
      },
      "source": [
        "# need to loop over all sessions to pass as input to summarise_data function in next step\n",
        "filter_spikes(alldat,0) "
      ],
      "execution_count": null,
      "outputs": []
    },
    {
      "cell_type": "markdown",
      "metadata": {
        "id": "w2md3ohKNY4m",
        "colab_type": "text"
      },
      "source": [
        "# Summarise the filtered data"
      ]
    },
    {
      "cell_type": "code",
      "metadata": {
        "id": "aAG-jPcSjkrC",
        "colab_type": "code",
        "colab": {
          "base_uri": "https://localhost:8080/",
          "height": 482
        },
        "outputId": "665cded0-da42-4436-9231-3f7e7d8d0050"
      },
      "source": [
        "summarise_dataset(alldat) # should be filtered data, but alldat is used here as an example\n"
      ],
      "execution_count": 10,
      "outputs": [
        {
          "output_type": "execute_result",
          "data": {
            "text/plain": [
              "{'n_neurons': array([ 734., 1070.,  619., 1769., 1077., 1169.,  584., 1156.,  788.,\n",
              "        1172.,  857.,  698.,  983.,  756.,  743.,  474.,  565., 1089.,\n",
              "         606.,  899.,  578.,  646., 1268., 1337.,  885., 1056.,  563.,\n",
              "         549.,  750.,  942.,  977.,  522.,  613.,  781.,  795.,  680.,\n",
              "        1055.,  805., 1348.]),\n",
              " 'n_timebins': array([250., 250., 250., 250., 250., 250., 250., 250., 250., 250., 250.,\n",
              "        250., 250., 250., 250., 250., 250., 250., 250., 250., 250., 250.,\n",
              "        250., 250., 250., 250., 250., 250., 250., 250., 250., 250., 250.,\n",
              "        250., 250., 250., 250., 250., 250.]),\n",
              " 'n_trials': array([214., 251., 228., 249., 254., 290., 252., 250., 372., 447., 342.,\n",
              "        340., 300., 268., 404., 280., 224., 316., 247., 235., 124., 444.,\n",
              "        151., 187., 261., 178., 253., 142., 128., 143., 237., 260., 191.,\n",
              "        296., 311., 258., 181., 199., 343.])}"
            ]
          },
          "metadata": {
            "tags": []
          },
          "execution_count": 10
        },
        {
          "output_type": "display_data",
          "data": {
            "image/png": "[encoded data removed]",
            "text/plain": [
              "<Figure size 504x216 with 2 Axes>"
            ]
          },
          "metadata": {
            "tags": []
          }
        }
      ]
    },
    {
      "cell_type": "markdown",
      "metadata": {
        "id": "YhNNDzpunEyE",
        "colab_type": "text"
      },
      "source": [
        "# Change the time bin\n",
        "Optional step"
      ]
    },
    {
      "cell_type": "code",
      "metadata": {
        "id": "8CoZP8kenfne",
        "colab_type": "code",
        "colab": {}
      },
      "source": [
        "#"
      ],
      "execution_count": null,
      "outputs": []
    },
    {
      "cell_type": "markdown",
      "metadata": {
        "id": "eLLhirWdnhT4",
        "colab_type": "text"
      },
      "source": [
        "# Principal Component Analysis\n",
        "For now, just one session"
      ]
    },
    {
      "cell_type": "code",
      "metadata": {
        "id": "O5S6cm0rng4h",
        "colab_type": "code",
        "colab": {}
      },
      "source": [
        "# neurons_PCA(dat,0.1,51,130)"
      ],
      "execution_count": null,
      "outputs": []
    },
    {
      "cell_type": "markdown",
      "metadata": {
        "id": "EvkzF-SKn97s",
        "colab_type": "text"
      },
      "source": [
        "# General Linear Model "
      ]
    },
    {
      "cell_type": "code",
      "metadata": {
        "id": "xdvGN8hioSPJ",
        "colab_type": "code",
        "colab": {}
      },
      "source": [
        "# reshaping_features(features, axis_pc = 0, axis_trial = 1, axis_time = 2)\n",
        "# GLM_logistic(features, choices, pen = \"l2\", lambda_L2 = 1)"
      ],
      "execution_count": null,
      "outputs": []
    }
  ]
}
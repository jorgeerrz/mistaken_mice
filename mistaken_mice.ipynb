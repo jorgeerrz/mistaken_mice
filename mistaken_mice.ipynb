{
 "cells": [
  {
   "cell_type": "markdown",
   "metadata": {
    "colab_type": "text",
    "id": "f5lHZMY_O1jz"
   },
   "source": [
    "# Mistaken Mice notebook\n",
    "\n",
    "2020 NMA academy project, mistaken mice group, pod 173 antique cicada"
   ]
  },
  {
   "cell_type": "markdown",
   "metadata": {
    "colab_type": "text",
    "id": "0boUCcI2NwyL"
   },
   "source": [
    "# Import packages and functions"
   ]
  },
  {
   "cell_type": "code",
   "execution_count": 8,
   "metadata": {
    "colab": {
     "base_uri": "https://localhost:8080/",
     "height": 202
    },
    "colab_type": "code",
    "id": "qg1QinE8NvoK",
    "outputId": "fe9b2db9-7377-4e8e-a804-bb52b3702339"
   },
   "outputs": [
    {
     "name": "stdout",
     "output_type": "stream",
     "text": [
      "The autoreload extension is already loaded. To reload it, use:\n",
      "  %reload_ext autoreload\n"
     ]
    }
   ],
   "source": [
    "# to import the functions we wrote, clone the git repo\n",
    "#!git clone https://github.com/jorgeerrz/mistaken_mice.git\n",
    "#%cd mistaken_mice\n",
    "#alternatively, run the notebook locally, then just comment the lines above\n",
    "\n",
    "from filter import *\n",
    "from summarise_dataset import *\n",
    "from PCA_fun import neurons_PCA\n",
    "from GLM import *\n",
    "\n",
    "%load_ext autoreload\n",
    "%autoreload 2"
   ]
  },
  {
   "cell_type": "markdown",
   "metadata": {
    "colab_type": "text",
    "id": "bEqdz1ZUMaj1"
   },
   "source": [
    "# Loading of Steinmetz data"
   ]
  },
  {
   "cell_type": "code",
   "execution_count": 9,
   "metadata": {
    "cellView": "form",
    "colab": {},
    "colab_type": "code",
    "id": "TLWjKq8bLDqm"
   },
   "outputs": [],
   "source": [
    "#@title Data retrieval\n",
    "import os, requests\n",
    "\n",
    "fname = []\n",
    "for j in range(3):\n",
    "  fname.append('steinmetz_part%d.npz'%j)\n"
   ]
  },
  {
   "cell_type": "code",
   "execution_count": 10,
   "metadata": {
    "colab": {},
    "colab_type": "code",
    "id": "iaKfUWueF1Au"
   },
   "outputs": [],
   "source": [
    "# skip if you already downloaded the data\n",
    "url = [\"https://osf.io/agvxh/download\"]\n",
    "url.append(\"https://osf.io/uv3mw/download\")\n",
    "url.append(\"https://osf.io/ehmw2/download\")\n",
    "\n",
    "for j in range(len(url)):\n",
    "  if not os.path.isfile(fname[j]):\n",
    "    try:\n",
    "      r = requests.get(url[j])\n",
    "    except requests.ConnectionError:\n",
    "      print(\"!!! Failed to download data !!!\")\n",
    "    else:\n",
    "      if r.status_code != requests.codes.ok:\n",
    "        print(\"!!! Failed to download data !!!\")\n",
    "      else:\n",
    "        with open(fname[j], \"wb\") as fid:\n",
    "          fid.write(r.content)"
   ]
  },
  {
   "cell_type": "code",
   "execution_count": 11,
   "metadata": {
    "cellView": "form",
    "colab": {},
    "colab_type": "code",
    "id": "sffzC_hyLgWZ"
   },
   "outputs": [],
   "source": [
    "#@title Data loading\n",
    "import numpy as np\n",
    "\n",
    "alldat = np.array([])\n",
    "for j in range(len(fname)):\n",
    "  alldat = np.hstack((alldat, np.load('steinmetz_part%d.npz'%j, allow_pickle=True)['dat']))\n"
   ]
  },
  {
   "cell_type": "markdown",
   "metadata": {
    "colab_type": "text",
    "id": "1OJ6WyvaNhSC"
   },
   "source": [
    "# Filter the data"
   ]
  },
  {
   "cell_type": "code",
   "execution_count": 12,
   "metadata": {
    "colab": {
     "base_uri": "https://localhost:8080/",
     "height": 35
    },
    "colab_type": "code",
    "id": "fWxFSnWUORoi",
    "outputId": "6c035394-6dc9-4fa0-be5e-975639061e79"
   },
   "outputs": [
    {
     "name": "stdout",
     "output_type": "stream",
     "text": [
      "(734, 10, 250)\n"
     ]
    }
   ],
   "source": [
    "# need to loop over all sessions to pass as input to summarise_data function in next step\n",
    "first_session_filtered_VISp = filter_spikes(alldat,0,'VISp') \n",
    "first_session_filtered = filter_spikes(alldat,0) \n",
    "print(np.shape(first_session_filtered['spks']))"
   ]
  },
  {
   "cell_type": "markdown",
   "metadata": {
    "colab_type": "text",
    "id": "w2md3ohKNY4m"
   },
   "source": [
    "# Summarise the filtered data"
   ]
  },
  {
   "cell_type": "code",
   "execution_count": 13,
   "metadata": {
    "colab": {
     "base_uri": "https://localhost:8080/",
     "height": 501
    },
    "colab_type": "code",
    "id": "aAG-jPcSjkrC",
    "outputId": "f853a8ed-8359-404d-eaf0-2ab13607f32c"
   },
   "outputs": [
    {
     "data": {
      "text/plain": [
       "{'n_neurons': array([ 734., 1070.,  619., 1769., 1077., 1169.,  584., 1156.,  788.,\n",
       "        1172.,  857.,  698.,  983.,  756.,  743.,  474.,  565., 1089.,\n",
       "         606.,  899.,  578.,  646., 1268., 1337.,  885., 1056.,  563.,\n",
       "         549.,  750.,  942.,  977.,  522.,  613.,  781.,  795.,  680.,\n",
       "        1055.,  805., 1348.]),\n",
       " 'n_trials': array([214., 251., 228., 249., 254., 290., 252., 250., 372., 447., 342.,\n",
       "        340., 300., 268., 404., 280., 224., 316., 247., 235., 124., 444.,\n",
       "        151., 187., 261., 178., 253., 142., 128., 143., 237., 260., 191.,\n",
       "        296., 311., 258., 181., 199., 343.]),\n",
       " 'n_timebins': array([250., 250., 250., 250., 250., 250., 250., 250., 250., 250., 250.,\n",
       "        250., 250., 250., 250., 250., 250., 250., 250., 250., 250., 250.,\n",
       "        250., 250., 250., 250., 250., 250., 250., 250., 250., 250., 250.,\n",
       "        250., 250., 250., 250., 250., 250.])}"
      ]
     },
     "execution_count": 13,
     "metadata": {},
     "output_type": "execute_result"
    },
    {
     "data": {
      "image/png": "[encoded data removed]",
      "text/plain": [
       "<Figure size 504x216 with 2 Axes>"
      ]
     },
     "metadata": {},
     "output_type": "display_data"
    }
   ],
   "source": [
    "summarise_dataset(alldat) # should be filtered data, but alldat is used here as an example\n"
   ]
  },
  {
   "cell_type": "markdown",
   "metadata": {
    "colab_type": "text",
    "id": "YhNNDzpunEyE"
   },
   "source": [
    "# Change the time bin\n",
    "Optional step"
   ]
  },
  {
   "cell_type": "code",
   "execution_count": 14,
   "metadata": {
    "colab": {
     "base_uri": "https://localhost:8080/",
     "height": 35
    },
    "colab_type": "code",
    "id": "8CoZP8kenfne",
    "jupyter": {
     "source_hidden": true
    },
    "outputId": "af5ec372-3dcf-4fbd-cef5-605d2a202b70"
   },
   "outputs": [
    {
     "data": {
      "text/plain": [
       "(734, 10)"
      ]
     },
     "execution_count": 14,
     "metadata": {},
     "output_type": "execute_result"
    }
   ],
   "source": [
    "dat = first_session_filtered\n",
    "NT = dat['spks'].shape[-1]\n",
    "minT = 50\n",
    "maxT = 130\n",
    "NN = dat['spks'].shape[0]\n",
    "\n",
    "droll = np.reshape(dat['spks'][:,:,minT:maxT], (NN,-1))\n",
    "\n",
    "dat['spks'][:,:,minT:maxT].mean(axis=2).shape\n"
   ]
  },
  {
   "cell_type": "markdown",
   "metadata": {},
   "source": [
    "# Filter, PCA, and Model one session"
   ]
  },
  {
   "cell_type": "code",
   "execution_count": 208,
   "metadata": {
    "colab": {
     "base_uri": "https://localhost:8080/",
     "height": 35
    },
    "colab_type": "code",
    "id": "dzCIKcO_F1Bq",
    "outputId": "01e5207f-4119-4365-a582-cc14fff87de6"
   },
   "outputs": [
    {
     "name": "stdout",
     "output_type": "stream",
     "text": [
      "Number of PCs: 11\n",
      "Accuracies: [0. 1. 1. 1. 1. 1. 1. 1. 1. 1. 0. 1. 1. 1. 1. 1. 1. 1. 1. 0. 1. 1. 1. 1.]\n",
      "Mean Accuracy: 0.875\n",
      "Predictions: [-1. -1. -1. -1. -1. -1.  1. -1.  1. -1.  1. -1. -1.  1. -1.  1. -1. -1.\n",
      "  1.  1. -1.  1.  1.  1.]\n",
      "Actual: [ 1. -1. -1. -1. -1. -1.  1. -1.  1. -1.  1. -1. -1.  1. -1.  1. -1. -1.\n",
      "  1. -1. -1.  1.  1.  1.]\n",
      "Probs: [0.5564369705682841, 0.8570853485788563, 0.8441476466264013, 0.7676050716832965, 0.8225547253981749, 0.6659382741118465, 0.6207706036482168, 0.7266684217024195, 0.6804171377728084, 0.8259298198114515, 0.5706316660996401, 0.5707157423270288, 0.6170222448171019, 0.669661110850001, 0.7408411848009882, 0.5898365356020686, 0.8074129831818202, 0.816356477232268, 0.6062753395249428, 0.582884735742918, 0.8049926395283105, 0.6661736548987448, 0.7538935005576495, 0.6829938795836185]\n",
      "Percent Left: 0.5833333333333334\n",
      "Percent Right: 0.4166666666666667\n"
     ]
    },
    {
     "data": {
      "text/plain": [
       "[<matplotlib.lines.Line2D at 0x7f9000f26b90>]"
      ]
     },
     "execution_count": 208,
     "metadata": {},
     "output_type": "execute_result"
    },
    {
     "data": {
      "image/png": "[encoded data removed]",
      "text/plain": [
       "<Figure size 432x288 with 1 Axes>"
      ]
     },
     "metadata": {},
     "output_type": "display_data"
    }
   ],
   "source": [
    "from sklearn.model_selection import *\n",
    "\n",
    "session = 10\n",
    "brain_areas = [\"MOp\"]\n",
    "\n",
    "\n",
    "filtered = filter_spikes(alldat,session,unfair_only=True,brain_area=brain_areas)\n",
    "dat = neurons_PCA(filtered,0.9,0,250,toplot=False)\n",
    "#dat['PCs'] = dat['PCs'][0:dat['PCrange'],:]\n",
    "lambda_L2 = 1\n",
    "penalty = \"l2\"\n",
    "l1args = {}\n",
    "logreg = LogisticRegression(penalty = penalty, C = lambda_L2, **l1args).fit(dat['PCs'].T, filtered['chcs'])\n",
    "splitter = LeaveOneOut()\n",
    "splits = splitter.split(dat['PCs'].T)\n",
    "accuracies = cross_val_score(logreg,dat['PCs'].T, filtered['chcs'], cv=splits, verbose=0) # k=8 crossvalidation\n",
    "logreg.fit(dat['PCs'].T, filtered['chcs'])\n",
    "predictions = logreg.predict(dat['PCs'].T)\n",
    "\n",
    "probs = logreg.predict_proba(dat['PCs'].T)\n",
    "mprobs = [max(prob) for prob in probs]\n",
    "\n",
    "print('Number of PCs: '+str(dat['PCrange']))\n",
    "\n",
    "print('Accuracies: '+str(accuracies))\n",
    "print('Mean Accuracy: '+str(np.mean(accuracies)))\n",
    "print('Predictions: '+ str(predictions))\n",
    "print('Actual: '+ str(filtered['chcs']))\n",
    "print('Probs: '+ str(mprobs))\n",
    "\n",
    "print('Percent Left: ' +str(np.mean((filtered['chcs'])==-1)))\n",
    "print('Percent Right: ' +str(np.mean((filtered['chcs'])==1)))\n",
    "\n",
    "plt.plot(predictions,linewidth=0,marker='o')\n",
    "plt.plot(filtered['chcs'],linewidth=0,marker='x')\n"
   ]
  },
  {
   "cell_type": "markdown",
   "metadata": {},
   "source": [
    "# Filter, PCA, and Model all sessions (with neurons)"
   ]
  },
  {
   "cell_type": "code",
   "execution_count": 192,
   "metadata": {
    "colab": {},
    "colab_type": "code",
    "id": "R4Tqrsm8F1B1"
   },
   "outputs": [
    {
     "name": "stdout",
     "output_type": "stream",
     "text": [
      "Session# 10 accuracy over bias = [0.33333333], trial count= 24 PC count= 24\n",
      "Session# 20 accuracy over bias = [-0.14285714], trial count= 7 PC count= 7\n",
      "Session# 28 accuracy over bias = [0.22222222], trial count= 9 PC count= 9\n"
     ]
    }
   ],
   "source": [
    "brain_areas = ['MOp']\n",
    "for session in range(len(alldat)):\n",
    "    if np.sum(np.isin(alldat[session]['brain_area'],brain_areas))>0:\n",
    "        filtered = filter_spikes(alldat,session,unfair_only=True,chosey_only=True, nonzero_only=True,brain_area=brain_areas)\n",
    "        dat = neurons_PCA(filtered,0.9,0,250)\n",
    "       # dat['PCs'] = dat['PCs'][0:dat['PCrange'],:]\n",
    "        lambda_L2 = 1\n",
    "        penalty = \"none\"\n",
    "        l1args = {}\n",
    "       # l1args = {'solver':\"saga\", 'max_iter':5000}\n",
    "        logreg = LogisticRegression(penalty = penalty, C = lambda_L2, **l1args).fit(dat['PCs'].T, filtered['chcs'])\n",
    "        splitter = LeaveOneOut()\n",
    "        splits = splitter.split(dat['PCs'].T)\n",
    "        accuracies = cross_val_score(logreg,dat['PCs'].T, filtered['chcs'], cv=splits, verbose=0) # k=8 crossvalidation\n",
    "        left_bias = np.mean((filtered['chcs'])==-1)\n",
    "        choice_bias = [left_bias if left_bias > .5 else (1.0-left_bias)]\n",
    "        aob = accuracies.mean() - choice_bias\n",
    "        print(\"Session# \"+ str(session)+\" accuracy over bias = \"+str(accuracies.mean() - choice_bias) + \", trial count= \"+ str(len(accuracies)),\"PC count= \"+ str(dat['PCs'].shape[0]))"
   ]
  },
  {
   "cell_type": "markdown",
   "metadata": {},
   "source": [
    "# Filter, PCA, and Model w/ different time bins"
   ]
  },
  {
   "cell_type": "code",
   "execution_count": 136,
   "metadata": {},
   "outputs": [
    {
     "ename": "ValueError",
     "evalue": "zero-size array to reduction operation maximum which has no identity",
     "output_type": "error",
     "traceback": [
      "\u001b[0;31m---------------------------------------------------------------------------\u001b[0m",
      "\u001b[0;31mValueError\u001b[0m                                Traceback (most recent call last)",
      "\u001b[0;32m<ipython-input-136-539dc0c36c7b>\u001b[0m in \u001b[0;36m<module>\u001b[0;34m\u001b[0m\n\u001b[1;32m      6\u001b[0m     \u001b[0msession\u001b[0m \u001b[0;34m=\u001b[0m \u001b[0;36m10\u001b[0m\u001b[0;34m\u001b[0m\u001b[0;34m\u001b[0m\u001b[0m\n\u001b[1;32m      7\u001b[0m     \u001b[0mfiltered\u001b[0m \u001b[0;34m=\u001b[0m \u001b[0mfilter_spikes\u001b[0m\u001b[0;34m(\u001b[0m\u001b[0malldat\u001b[0m\u001b[0;34m,\u001b[0m\u001b[0msession\u001b[0m\u001b[0;34m,\u001b[0m\u001b[0munfair_only\u001b[0m\u001b[0;34m=\u001b[0m\u001b[0;32mTrue\u001b[0m\u001b[0;34m,\u001b[0m\u001b[0mbrain_area\u001b[0m\u001b[0;34m=\u001b[0m\u001b[0mbrain_areas\u001b[0m\u001b[0;34m)\u001b[0m\u001b[0;34m\u001b[0m\u001b[0;34m\u001b[0m\u001b[0m\n\u001b[0;32m----> 8\u001b[0;31m     \u001b[0mdat\u001b[0m \u001b[0;34m=\u001b[0m \u001b[0mneurons_PCA\u001b[0m\u001b[0;34m(\u001b[0m\u001b[0mfiltered\u001b[0m\u001b[0;34m,\u001b[0m\u001b[0;36m0.1\u001b[0m\u001b[0;34m,\u001b[0m\u001b[0mbin\u001b[0m\u001b[0;34m,\u001b[0m\u001b[0mbin\u001b[0m\u001b[0;34m+\u001b[0m\u001b[0mbinl\u001b[0m\u001b[0;34m)\u001b[0m\u001b[0;34m\u001b[0m\u001b[0;34m\u001b[0m\u001b[0m\n\u001b[0m\u001b[1;32m      9\u001b[0m     \u001b[0mlambda_L2\u001b[0m \u001b[0;34m=\u001b[0m \u001b[0;36m1\u001b[0m\u001b[0;34m\u001b[0m\u001b[0;34m\u001b[0m\u001b[0m\n\u001b[1;32m     10\u001b[0m     \u001b[0mpenalty\u001b[0m \u001b[0;34m=\u001b[0m \u001b[0;34m\"l2\"\u001b[0m\u001b[0;34m\u001b[0m\u001b[0;34m\u001b[0m\u001b[0m\n",
      "\u001b[0;32m~/Documents/GitHub/mistaken_mice/PCA_fun.py\u001b[0m in \u001b[0;36mneurons_PCA\u001b[0;34m(dat, tVar, minT, maxT, toplot)\u001b[0m\n\u001b[1;32m     41\u001b[0m     \u001b[0mfracVar\u001b[0m \u001b[0;34m=\u001b[0m \u001b[0mexplVar\u001b[0m\u001b[0;34m/\u001b[0m\u001b[0mnp\u001b[0m\u001b[0;34m.\u001b[0m\u001b[0msum\u001b[0m\u001b[0;34m(\u001b[0m\u001b[0mexplVar\u001b[0m\u001b[0;34m)\u001b[0m \u001b[0;31m#fraction of explained variance for each PC\u001b[0m\u001b[0;34m\u001b[0m\u001b[0;34m\u001b[0m\u001b[0m\n\u001b[1;32m     42\u001b[0m     \u001b[0mcumVar\u001b[0m \u001b[0;34m=\u001b[0m \u001b[0mnp\u001b[0m\u001b[0;34m.\u001b[0m\u001b[0mcumsum\u001b[0m\u001b[0;34m(\u001b[0m\u001b[0mfracVar\u001b[0m\u001b[0;34m)\u001b[0m \u001b[0;31m#cumulative sum of explained variance\u001b[0m\u001b[0;34m\u001b[0m\u001b[0;34m\u001b[0m\u001b[0m\n\u001b[0;32m---> 43\u001b[0;31m     \u001b[0mPCrange\u001b[0m \u001b[0;34m=\u001b[0m \u001b[0mnp\u001b[0m\u001b[0;34m.\u001b[0m\u001b[0mmax\u001b[0m\u001b[0;34m(\u001b[0m\u001b[0mnp\u001b[0m\u001b[0;34m.\u001b[0m\u001b[0mwhere\u001b[0m\u001b[0;34m(\u001b[0m\u001b[0mcumVar\u001b[0m\u001b[0;34m<=\u001b[0m\u001b[0mtVar\u001b[0m\u001b[0;34m)\u001b[0m\u001b[0;34m)\u001b[0m \u001b[0;31m#The lowest number of components that explain the threshold variance\u001b[0m\u001b[0;34m\u001b[0m\u001b[0;34m\u001b[0m\u001b[0m\n\u001b[0m\u001b[1;32m     44\u001b[0m \u001b[0;34m\u001b[0m\u001b[0m\n\u001b[1;32m     45\u001b[0m     \u001b[0;32mif\u001b[0m \u001b[0mtoplot\u001b[0m \u001b[0;34m==\u001b[0m \u001b[0;32mTrue\u001b[0m\u001b[0;34m:\u001b[0m\u001b[0;34m\u001b[0m\u001b[0;34m\u001b[0m\u001b[0m\n",
      "\u001b[0;32m<__array_function__ internals>\u001b[0m in \u001b[0;36mamax\u001b[0;34m(*args, **kwargs)\u001b[0m\n",
      "\u001b[0;32m~/opt/anaconda3/lib/python3.7/site-packages/numpy/core/fromnumeric.py\u001b[0m in \u001b[0;36mamax\u001b[0;34m(a, axis, out, keepdims, initial, where)\u001b[0m\n\u001b[1;32m   2666\u001b[0m     \"\"\"\n\u001b[1;32m   2667\u001b[0m     return _wrapreduction(a, np.maximum, 'max', axis, None, out,\n\u001b[0;32m-> 2668\u001b[0;31m                           keepdims=keepdims, initial=initial, where=where)\n\u001b[0m\u001b[1;32m   2669\u001b[0m \u001b[0;34m\u001b[0m\u001b[0m\n\u001b[1;32m   2670\u001b[0m \u001b[0;34m\u001b[0m\u001b[0m\n",
      "\u001b[0;32m~/opt/anaconda3/lib/python3.7/site-packages/numpy/core/fromnumeric.py\u001b[0m in \u001b[0;36m_wrapreduction\u001b[0;34m(obj, ufunc, method, axis, dtype, out, **kwargs)\u001b[0m\n\u001b[1;32m     88\u001b[0m                 \u001b[0;32mreturn\u001b[0m \u001b[0mreduction\u001b[0m\u001b[0;34m(\u001b[0m\u001b[0maxis\u001b[0m\u001b[0;34m=\u001b[0m\u001b[0maxis\u001b[0m\u001b[0;34m,\u001b[0m \u001b[0mout\u001b[0m\u001b[0;34m=\u001b[0m\u001b[0mout\u001b[0m\u001b[0;34m,\u001b[0m \u001b[0;34m**\u001b[0m\u001b[0mpasskwargs\u001b[0m\u001b[0;34m)\u001b[0m\u001b[0;34m\u001b[0m\u001b[0;34m\u001b[0m\u001b[0m\n\u001b[1;32m     89\u001b[0m \u001b[0;34m\u001b[0m\u001b[0m\n\u001b[0;32m---> 90\u001b[0;31m     \u001b[0;32mreturn\u001b[0m \u001b[0mufunc\u001b[0m\u001b[0;34m.\u001b[0m\u001b[0mreduce\u001b[0m\u001b[0;34m(\u001b[0m\u001b[0mobj\u001b[0m\u001b[0;34m,\u001b[0m \u001b[0maxis\u001b[0m\u001b[0;34m,\u001b[0m \u001b[0mdtype\u001b[0m\u001b[0;34m,\u001b[0m \u001b[0mout\u001b[0m\u001b[0;34m,\u001b[0m \u001b[0;34m**\u001b[0m\u001b[0mpasskwargs\u001b[0m\u001b[0;34m)\u001b[0m\u001b[0;34m\u001b[0m\u001b[0;34m\u001b[0m\u001b[0m\n\u001b[0m\u001b[1;32m     91\u001b[0m \u001b[0;34m\u001b[0m\u001b[0m\n\u001b[1;32m     92\u001b[0m \u001b[0;34m\u001b[0m\u001b[0m\n",
      "\u001b[0;31mValueError\u001b[0m: zero-size array to reduction operation maximum which has no identity"
     ]
    }
   ],
   "source": [
    "binl = 25\n",
    "bins = [x for x in range(0,250,binl)]\n",
    "brain_areas = [\"MOp\"]\n",
    "\n",
    "for bin in bins:\n",
    "    session = 10\n",
    "    filtered = filter_spikes(alldat,session,unfair_only=True,brain_area=brain_areas)\n",
    "    dat = neurons_PCA(filtered,0.9,bin,bin+binl)\n",
    "    lambda_L2 = 1\n",
    "    penalty = \"l2\"\n",
    "    l1args = {}\n",
    "    logreg = LogisticRegression(penalty = penalty, C = lambda_L2, **l1args).fit(dat['PCs'].T, filtered['chcs'])\n",
    "    splitter = LeaveOneOut()\n",
    "    splits = splitter.split(dat['PCs'].T)\n",
    "    accuracies = cross_val_score(logreg,dat['PCs'].T, filtered['chcs'], cv=splits, verbose=0) # k=8 crossvalidation\n",
    "    print(\"Bin \"+str(bin)+\" to \"+str(bin+binl)+\" accuracy mean= \"+str(accuracies.mean())+ \", percent left \"+ str(np.mean((filtered['chcs'])==-1)))"
   ]
  },
  {
   "cell_type": "code",
   "execution_count": 126,
   "metadata": {},
   "outputs": [
    {
     "data": {
      "text/plain": [
       "[(0, 178, 0),\n",
       " (1, 533, 0),\n",
       " (2, 228, 0),\n",
       " (3, 39, 0),\n",
       " (4, 0, 0),\n",
       " (5, 0, 0),\n",
       " (6, 0, 59),\n",
       " (7, 48, 0),\n",
       " (8, 142, 0),\n",
       " (9, 340, 0),\n",
       " (10, 0, 275),\n",
       " (11, 145, 0),\n",
       " (12, 34, 0),\n",
       " (13, 42, 0),\n",
       " (14, 0, 0),\n",
       " (15, 0, 0),\n",
       " (16, 0, 0),\n",
       " (17, 0, 313),\n",
       " (18, 179, 0),\n",
       " (19, 122, 0),\n",
       " (20, 0, 0),\n",
       " (21, 133, 92),\n",
       " (22, 190, 0),\n",
       " (23, 296, 0),\n",
       " (24, 94, 0),\n",
       " (25, 162, 0),\n",
       " (26, 103, 90),\n",
       " (27, 71, 0),\n",
       " (28, 0, 340),\n",
       " (29, 0, 0),\n",
       " (30, 0, 0),\n",
       " (31, 0, 0),\n",
       " (32, 0, 383),\n",
       " (33, 0, 0),\n",
       " (34, 75, 0),\n",
       " (35, 53, 0),\n",
       " (36, 77, 0),\n",
       " (37, 0, 0),\n",
       " (38, 141, 0)]"
      ]
     },
     "execution_count": 126,
     "metadata": {},
     "output_type": "execute_result"
    }
   ],
   "source": [
    "[(session,np.sum(np.isin(alldat[session]['brain_area'],[\"VISam\", \"VISl\", \"VISp\", \"VISpm\", \"VISrl\"])), np.sum(np.isin(alldat[session]['brain_area'],[\"ACB\",\"CP\"]))) for session in range(len(alldat))]"
   ]
  },
  {
   "cell_type": "code",
   "execution_count": 123,
   "metadata": {},
   "outputs": [
    {
     "name": "stdout",
     "output_type": "stream",
     "text": [
      "['ACA' 'ACB' 'APN' 'AUD' 'BLA' 'BMA' 'CA' 'CA1' 'CA2' 'CA3' 'CL' 'COA'\n",
      " 'CP' 'DG' 'DP' 'EP' 'EPd' 'GPe' 'IC' 'ILA' 'LD' 'LGd' 'LH' 'LP' 'LS'\n",
      " 'LSc' 'LSr' 'MB' 'MD' 'MEA' 'MG' 'MOp' 'MOs' 'MRN' 'MS' 'NB' 'OLF' 'ORB'\n",
      " 'ORBm' 'OT' 'PAG' 'PIR' 'PL' 'PO' 'POL' 'POST' 'PT' 'RN' 'RSP' 'RT'\n",
      " 'SCig' 'SCm' 'SCs' 'SCsg' 'SI' 'SNr' 'SPF' 'SSp' 'SSs' 'SUB' 'TH' 'TT'\n",
      " 'VAL' 'VISa' 'VISam' 'VISl' 'VISp' 'VISpm' 'VISrl' 'VPL' 'VPM' 'ZI'\n",
      " 'root']\n"
     ]
    }
   ],
   "source": [
    "aba = []\n",
    "for session in alldat:\n",
    "    for ba in session['brain_area']:\n",
    "        if ba not in aba:\n",
    "            aba.append(ba)\n",
    "            \n",
    "print(np.sort(aba))"
   ]
  },
  {
   "cell_type": "code",
   "execution_count": 180,
   "metadata": {},
   "outputs": [
    {
     "data": {
      "text/plain": [
       "[<matplotlib.lines.Line2D at 0x7f9172cd0c90>]"
      ]
     },
     "execution_count": 180,
     "metadata": {},
     "output_type": "execute_result"
    },
    {
     "data": {
      "image/png": "[encoded data removed]",
      "text/plain": [
       "<Figure size 432x288 with 1 Axes>"
      ]
     },
     "metadata": {},
     "output_type": "display_data"
    }
   ],
   "source": [
    "lams = np.logspace(-4,4,num=9)\n",
    "aobs = []\n",
    "accs = []\n",
    "for lam in lams:\n",
    "    session = 10\n",
    "    filtered = filter_spikes(alldat,session,unfair_only=True,chosey_only=True, nonzero_only=True,brain_area=brain_areas)\n",
    "    dat = neurons_PCA(filtered,0.9,0,250)\n",
    "    lambda_L2 = lam\n",
    "    penalty = \"l2\"\n",
    "    l1args = {}\n",
    "    logreg = LogisticRegression(penalty = penalty, C = lambda_L2, **l1args).fit(dat['PCs'].T, filtered['chcs'])\n",
    "    splitter = LeaveOneOut()\n",
    "    splits = splitter.split(dat['PCs'].T)\n",
    "    accuracies = cross_val_score(logreg,dat['PCs'].T, filtered['chcs'], cv=splits, verbose=0) # k=8 crossvalidation\n",
    "    left_bias = np.mean((filtered['chcs'])==-1)\n",
    "    choice_bias = [left_bias if left_bias > .5 else (1.0-left_bias)]\n",
    "    aob = accuracies.mean() - choice_bias\n",
    "    aobs.append(aob)\n",
    "    accs.append(accuracies.mean())\n",
    "plt.plot(np.log(lams),aobs)\n",
    "plt.plot(np.log(lams),accs)"
   ]
  },
  {
   "cell_type": "code",
   "execution_count": null,
   "metadata": {},
   "outputs": [],
   "source": []
  }
 ],
 "metadata": {
  "colab": {
   "collapsed_sections": [],
   "name": "mistaken_mice.ipynb",
   "provenance": [],
   "toc_visible": true
  },
  "kernelspec": {
   "display_name": "Python 3",
   "language": "python",
   "name": "python3"
  },
  "language_info": {
   "codemirror_mode": {
    "name": "ipython",
    "version": 3
   },
   "file_extension": ".py",
   "mimetype": "text/x-python",
   "name": "python",
   "nbconvert_exporter": "python",
   "pygments_lexer": "ipython3",
   "version": "3.7.6"
  }
 },
 "nbformat": 4,
 "nbformat_minor": 4
}

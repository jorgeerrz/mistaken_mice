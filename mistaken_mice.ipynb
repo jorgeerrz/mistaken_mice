{
 "cells": [
  {
   "cell_type": "markdown",
   "metadata": {
    "colab_type": "text",
    "id": "view-in-github"
   },
   "source": [
    "<a href=\"https://colab.research.google.com/github/jorgeerrz/mistaken_mice/blob/master/mistaken_mice.ipynb\" target=\"_parent\"><img src=\"https://colab.research.google.com/assets/colab-badge.svg\" alt=\"Open In Colab\"/></a>"
   ]
  },
  {
   "cell_type": "markdown",
   "metadata": {
    "colab_type": "text",
    "id": "f5lHZMY_O1jz"
   },
   "source": [
    "# Mistaken Mice notebook\n",
    "\n",
    "2020 NMA academy project, mistaken mice group, pod 173 antique cicada"
   ]
  },
  {
   "cell_type": "markdown",
   "metadata": {
    "colab_type": "text",
    "id": "0boUCcI2NwyL"
   },
   "source": [
    "# Import packages and functions"
   ]
  },
  {
   "cell_type": "code",
   "execution_count": 21,
   "metadata": {
    "colab": {
     "base_uri": "https://localhost:8080/",
     "height": 153
    },
    "colab_type": "code",
    "id": "qg1QinE8NvoK",
    "outputId": "6608e802-8437-4735-bb81-4886741fd512"
   },
   "outputs": [
    {
     "name": "stdout",
     "output_type": "stream",
     "text": [
      "The autoreload extension is already loaded. To reload it, use:\n",
      "  %reload_ext autoreload\n"
     ]
    }
   ],
   "source": [
    "# to import the functions we wrote, clone the git repo\n",
    "# !git clone https://github.com/jorgeerrz/mistaken_mice.git\n",
    "# %cd mistaken_mice\n",
    "#alternatively, run the notebook locally, then just comment the lines above\n",
    "\n",
    "# from filter import *\n",
    "# from summarise_dataset import *\n",
    "# from PCA_fun import neurons_PCA\n",
    "# from GLM import *\n",
    "\n",
    "%load_ext autoreload\n",
    "%autoreload 2"
   ]
  },
  {
   "cell_type": "code",
   "execution_count": 22,
   "metadata": {
    "colab": {},
    "colab_type": "code",
    "id": "IgseKpDx0eR0"
   },
   "outputs": [],
   "source": [
    "from filter import *\n",
    "from summarise_dataset import *\n",
    "from PCA_fun import neurons_PCA\n",
    "from GLM import *\n",
    "from rebin import *"
   ]
  },
  {
   "cell_type": "markdown",
   "metadata": {
    "colab_type": "text",
    "id": "bEqdz1ZUMaj1"
   },
   "source": [
    "# Loading of Steinmetz data"
   ]
  },
  {
   "cell_type": "code",
   "execution_count": 15,
   "metadata": {
    "cellView": "both",
    "colab": {},
    "colab_type": "code",
    "id": "TLWjKq8bLDqm"
   },
   "outputs": [],
   "source": [
    "#@title Data retrieval\n",
    "import os, requests\n",
    "\n",
    "fname = []\n",
    "for j in range(3):\n",
    "  fname.append('steinmetz_part%d.npz'%j)\n"
   ]
  },
  {
   "cell_type": "code",
   "execution_count": 4,
   "metadata": {
    "colab": {},
    "colab_type": "code",
    "id": "iaKfUWueF1Au"
   },
   "outputs": [],
   "source": [
    "# skip if you already downloaded the data\n",
    "url = [\"https://osf.io/agvxh/download\"]\n",
    "url.append(\"https://osf.io/uv3mw/download\")\n",
    "url.append(\"https://osf.io/ehmw2/download\")\n",
    "\n",
    "for j in range(len(url)):\n",
    "  if not os.path.isfile(fname[j]):\n",
    "    try:\n",
    "      r = requests.get(url[j])\n",
    "    except requests.ConnectionError:\n",
    "      print(\"!!! Failed to download data !!!\")\n",
    "    else:\n",
    "      if r.status_code != requests.codes.ok:\n",
    "        print(\"!!! Failed to download data !!!\")\n",
    "      else:\n",
    "        with open(fname[j], \"wb\") as fid:\n",
    "          fid.write(r.content)"
   ]
  },
  {
   "cell_type": "code",
   "execution_count": 16,
   "metadata": {
    "cellView": "form",
    "colab": {},
    "colab_type": "code",
    "id": "sffzC_hyLgWZ"
   },
   "outputs": [],
   "source": [
    "#@title Data loading\n",
    "import numpy as np\n",
    "\n",
    "alldat = np.array([])\n",
    "for j in range(len(fname)):\n",
    "  alldat = np.hstack((alldat, np.load('steinmetz_part%d.npz'%j, allow_pickle=True)['dat']))\n"
   ]
  },
  {
   "cell_type": "markdown",
   "metadata": {
    "colab_type": "text",
    "id": "YhNNDzpunEyE"
   },
   "source": [
    "# Change the time bin\n",
    "Optional step"
   ]
  },
  {
   "cell_type": "code",
   "execution_count": null,
   "metadata": {
    "colab": {
     "base_uri": "https://localhost:8080/",
     "height": 35
    },
    "colab_type": "code",
    "id": "8CoZP8kenfne",
    "outputId": "af5ec372-3dcf-4fbd-cef5-605d2a202b70"
   },
   "outputs": [
    {
     "data": {
      "text/plain": [
       "(734, 10)"
      ]
     },
     "execution_count": 14,
     "metadata": {
      "tags": []
     },
     "output_type": "execute_result"
    }
   ],
   "source": [
    "dat = first_session_filtered\n",
    "NT = dat['spks'].shape[-1]\n",
    "minT = 50\n",
    "maxT = 130\n",
    "NN = dat['spks'].shape[0]\n",
    "\n",
    "droll = np.reshape(dat['spks'][:,:,minT:maxT], (NN,-1))\n",
    "\n",
    "dat['spks'][:,:,minT:maxT].mean(axis=2).shape\n"
   ]
  },
  {
   "cell_type": "markdown",
   "metadata": {
    "colab_type": "text",
    "id": "jMq0xCzlvn2G"
   },
   "source": [
    "# Filter, PCA, and Model one session"
   ]
  },
  {
   "cell_type": "code",
   "execution_count": 105,
   "metadata": {
    "colab": {
     "base_uri": "https://localhost:8080/",
     "height": 34
    },
    "colab_type": "code",
    "id": "j15ByfI71MYw",
    "outputId": "d179c75f-d8ed-42fe-da18-1848214e8ce6"
   },
   "outputs": [
    {
     "data": {
      "text/plain": [
       "((0, 0, 1), (0, 0, 250))"
      ]
     },
     "execution_count": 105,
     "metadata": {
      "tags": []
     },
     "output_type": "execute_result"
    }
   ],
   "source": [
    "filtered = filter_spikes(alldat,session,unfair_only=True,brain_area=brain_areas)\n",
    "rebinned = rebin(filtered, 50, 250, 2)\n",
    "rebinned['spks'].shape, filtered['spks'].shape"
   ]
  },
  {
   "cell_type": "code",
   "execution_count": 134,
   "metadata": {
    "colab": {
     "base_uri": "https://localhost:8080/",
     "height": 102
    },
    "colab_type": "code",
    "id": "o6tqJSgMQR9c",
    "outputId": "41910eb2-ad11-419a-98dc-dca31861b2b2"
   },
   "outputs": [
    {
     "data": {
      "text/plain": [
       "array([0.45343092, 0.1079416 , 0.1152742 , 0.2005863 , 0.14442857,\n",
       "       0.31069589, 0.68414395, 0.24833898, 0.72584557, 0.13238905,\n",
       "       0.61238812, 0.41280501, 0.36661618, 0.70933953, 0.24217612,\n",
       "       0.63032053, 0.15734123, 0.13828503, 0.63739845, 0.59220953,\n",
       "       0.16024011, 0.70944127, 0.78592959, 0.72247484])"
      ]
     },
     "execution_count": 134,
     "metadata": {
      "tags": []
     },
     "output_type": "execute_result"
    }
   ],
   "source": [
    "probs[:,1]"
   ]
  },
  {
   "cell_type": "code",
   "execution_count": 90,
   "metadata": {
    "colab": {
     "base_uri": "https://localhost:8080/",
     "height": 469
    },
    "colab_type": "code",
    "id": "dzCIKcO_F1Bq",
    "outputId": "b7c8942c-dc6d-4ed1-b869-6bbdbd25bebf"
   },
   "outputs": [
    {
     "name": "stdout",
     "output_type": "stream",
     "text": [
      "Number of PCs: 4\n",
      "Accuracies: [0, 0, 0, 0, 0, 0, 0, 0, 0, 0]\n",
      "Mean Accuracy: 0.0\n",
      "Predictions: [1.0, 1.0, -1.0, 1.0, 1.0, 1.0, 1.0, 1.0, -1.0, 1.0]\n",
      "Actual: [-1. -1.  1. -1. -1. -1. -1. -1.  1. -1.]\n",
      "Probs: [[0.47997611 0.52002389]\n",
      " [0.46386737 0.53613263]\n",
      " [0.66393556 0.33606444]\n",
      " [0.46971293 0.53028707]\n",
      " [0.47136483 0.52863517]\n",
      " [0.47514608 0.52485392]\n",
      " [0.47227613 0.52772387]\n",
      " [0.47136084 0.52863916]\n",
      " [0.66358847 0.33641153]\n",
      " [0.47165904 0.52834096]]\n",
      "Brier score: 3.1122502891017296\n",
      "Weight right: 0.2 weight left: 0.8\n",
      "Percent Left: 0.2\n",
      "Percent Right: 0.8\n"
     ]
    },
    {
     "data": {
      "text/plain": [
       "[<matplotlib.lines.Line2D at 0x7fb8f001a6d0>]"
      ]
     },
     "execution_count": 90,
     "metadata": {},
     "output_type": "execute_result"
    },
    {
     "data": {
      "image/png": "[encoded data removed]",
      "text/plain": [
       "<Figure size 432x288 with 1 Axes>"
      ]
     },
     "metadata": {},
     "output_type": "display_data"
    }
   ],
   "source": [
    "from sklearn.model_selection import *\n",
    "\n",
    "session = 0\n",
    "brain_areas = [\"MOs\"]\n",
    "\n",
    "\n",
    "filtered = filter_spikes(alldat,session,unfair_only=True,brain_area=brain_areas)\n",
    "#filtered = rebin(filtered, 50, 250, 2)\n",
    "dat = neurons_PCA(filtered,0.9,50,250,toplot=False)\n",
    "#dat['PCs'] = dat['PCs'][0:dat['PCrange'],:]\n",
    "\n",
    "lambda_L2 = 1\n",
    "penalty = \"l2\"\n",
    "l1args = {}\n",
    "left_bias = np.mean((filtered['chcs'])==1)\n",
    "choice_bias = [left_bias if left_bias > .5 else (1.0-left_bias)]\n",
    "w = {-1:left_bias, 1:(1-left_bias)}\n",
    "\n",
    "\n",
    "\n",
    "logreg = LogisticRegression(penalty = penalty, C = lambda_L2, **l1args,class_weight=w).fit(dat['PCs'].T, filtered['chcs'])\n",
    "splitter = LeaveOneOut()\n",
    "splits = splitter.split(dat['PCs'].T)\n",
    "accuracies=[]\n",
    "predictions = []\n",
    "probs = []\n",
    "#Manual K-1 corss validation, saving predicitons:\n",
    "for fit_trials,test_trial in splits:\n",
    "    logreg.fit((dat['PCs'][:,fit_trials]).T, dat['chcs'][fit_trials])\n",
    "    prediction = logreg.predict(dat['PCs'][:,test_trial].T)[0]\n",
    "    prob = logreg.predict_proba(dat['PCs'][:,test_trial].T)[0]\n",
    "    actual = dat['chcs'][test_trial][0]\n",
    "    accuracy = int(actual == prediction)\n",
    "    predictions.append(prediction)\n",
    "    accuracies.append(accuracy)\n",
    "    probs.append(prob)\n",
    "\n",
    "probs = np.array(probs)\n",
    "mprobs = [max(prob) for prob in probs]\n",
    "\n",
    "print('Number of PCs: '+str(dat['PCrange']))\n",
    "\n",
    "print('Accuracies: '+str(accuracies))\n",
    "print('Mean Accuracy: '+str(np.mean(accuracies)))\n",
    "print('Predictions: '+ str(predictions))\n",
    "print('Actual: '+ str(filtered['chcs']))\n",
    "print('Probs: '+ str(probs))\n",
    "actual_choice_probs = [(prob[0] if choice==-1 else prob[1]) for prob,choice in zip(probs,filtered['chcs'])]\n",
    "print('Brier score: '+str(np.sum((probs[:,1] - (filtered['chcs'] + 1)/2)**2)))\n",
    "print('Weight right: '+str(w[-1])+' weight left: '+str(w[1]))\n",
    "print('Percent Left: ' +str(np.mean((filtered['chcs'])==1)))\n",
    "print('Percent Right: ' +str(np.mean((filtered['chcs'])==-1)))\n",
    "\n",
    "plt.plot(predictions,linewidth=0,marker='o')\n",
    "plt.plot(filtered['chcs'],linewidth=0,marker='x')\n",
    "\n"
   ]
  },
  {
   "cell_type": "markdown",
   "metadata": {},
   "source": [
    "# one session, get PCA and model weights together"
   ]
  },
  {
   "cell_type": "code",
   "execution_count": 28,
   "metadata": {},
   "outputs": [
    {
     "data": {
      "image/png": "[encoded data removed]",
      "text/plain": [
       "<Figure size 720x288 with 2 Axes>"
      ]
     },
     "metadata": {
      "needs_background": "light"
     },
     "output_type": "display_data"
    }
   ],
   "source": [
    "plot_session(alldat,session,unfair_only=True,chosey_only=True, nonzero_only=True, select_areas = allb)"
   ]
  },
  {
   "cell_type": "code",
   "execution_count": 45,
   "metadata": {},
   "outputs": [],
   "source": [
    "# help(LogisticRegression)"
   ]
  },
  {
   "cell_type": "code",
   "execution_count": 59,
   "metadata": {},
   "outputs": [
    {
     "name": "stdout",
     "output_type": "stream",
     "text": [
      "(12, 753)\n",
      "(1, 12)\n",
      "(1, 753)\n"
     ]
    },
    {
     "data": {
      "image/png": "[encoded data removed]",
      "text/plain": [
       "<Figure size 432x288 with 1 Axes>"
      ]
     },
     "metadata": {
      "needs_background": "light"
     },
     "output_type": "display_data"
    }
   ],
   "source": [
    "allb = ['ACA','ACB','APN', 'AUD', 'BLA', 'BMA', 'CA', 'CA1', 'CA2', 'CA3', 'CL', 'COA',\n",
    " 'CP','DG','DP','EP','EPd','GPe','IC' ,'ILA', 'LD', 'LGd' ,'LH', 'LP', 'LS',\n",
    " 'LSc','LSr','MB','MD','MEA','MG','MOp','MOs','MRN','MS','NB','OLF','ORB',\n",
    " 'ORBm','OT','PAG','PIR','PL','PO','POL','POST','PT','RN','RSP','RT',\n",
    " 'SCig','SCm','SCs','SCsg','SI','SNr','SPF','SSp','SSs','SUB','TH','TT',\n",
    " 'VAL','VISa','VISam','VISl','VISp','VISpm','VISrl','VPL','VPM','ZI']\n",
    "\n",
    "session = 13\n",
    "filtered = filter_spikes(alldat,session,unfair_only=True,chosey_only=True, nonzero_only=True,brain_area=allb)\n",
    "dat = neurons_PCA(filtered,0.9,0,250)\n",
    "print(np.shape(dat['weights']))\n",
    "\n",
    "\n",
    "lambda_L2 = 1\n",
    "penalty = \"none\"\n",
    "l1args = {}\n",
    "left_bias = np.mean((filtered['chcs'])==1)\n",
    "choice_bias = [left_bias if left_bias > .5 else (1.0-left_bias)]\n",
    "w = {-1:left_bias, 1:(1-left_bias)}\n",
    "# l1args = {'solver':\"saga\", 'max_iter':5000}\n",
    "logreg = LogisticRegression(penalty = penalty, C = lambda_L2, **l1args)\n",
    "logreg.fit((dat['PCs']).T, dat['chcs'])\n",
    "print(np.shape(logreg.coef_))\n",
    "\n",
    "pclogreg_coeffs = logreg.coef_ @ dat['weights']\n",
    "print(np.shape(pclogreg_coeffs))\n",
    "\n",
    "brain_coeffs = []\n",
    "for i,coef in enumerate(pclogreg_coeffs[0,:]):\n",
    "     plt.plot([i],[coef], 'o', label=filtered['brain_area'][i])\n",
    "\n",
    "\n",
    "# plt.plot(pclogreg_coeffs[0,:], 'o', label=filtered['brain_area'])\n",
    "\n"
   ]
  },
  {
   "cell_type": "markdown",
   "metadata": {
    "colab_type": "text",
    "id": "DjJS4F7Ivn2L"
   },
   "source": [
    "# Filter, PCA, and Model all sessions (with neurons)"
   ]
  },
  {
   "cell_type": "code",
   "execution_count": 12,
   "metadata": {
    "colab": {
     "base_uri": "https://localhost:8080/",
     "height": 68
    },
    "colab_type": "code",
    "id": "R4Tqrsm8F1B1",
    "outputId": "69d327da-6ed0-46fd-a7e1-aa2c44244d99"
   },
   "outputs": [
    {
     "name": "stdout",
     "output_type": "stream",
     "text": [
      "Session# 0 accuracy = 0.7 accuracy over bias = [-0.1], trial count= 10 PC count= 10\n",
      "Session# 1 accuracy = 0.75 accuracy over bias = [0.2], trial count= 20 PC count= 20\n",
      "Session# 2 accuracy = 0.7142857142857143 accuracy over bias = [0.0952381], trial count= 21 PC count= 21\n",
      "Session# 3 accuracy = 0.5 accuracy over bias = [-0.2], trial count= 10 PC count= 10\n",
      "Session# 4 accuracy = 0.8095238095238095 accuracy over bias = [0.04761905], trial count= 21 PC count= 21\n",
      "Session# 5 accuracy = 0.47368421052631576 accuracy over bias = [-0.10526316], trial count= 19 PC count= 19\n",
      "Session# 6 accuracy = 0.9166666666666666 accuracy over bias = [0.16666667], trial count= 12 PC count= 12\n",
      "Session# 7 accuracy = 0.9166666666666666 accuracy over bias = [0.25], trial count= 12 PC count= 12\n",
      "Session# 8 accuracy = 1.0 accuracy over bias = [0.33333333], trial count= 15 PC count= 15\n",
      "Session# 9 accuracy = 0.7916666666666666 accuracy over bias = [0.16666667], trial count= 24 PC count= 24\n",
      "Session# 10 accuracy = 0.9166666666666666 accuracy over bias = [0.33333333], trial count= 24 PC count= 24\n",
      "Session# 11 accuracy = 0.6666666666666666 accuracy over bias = [0.05555556], trial count= 18 PC count= 18\n",
      "Session# 12 accuracy = 0.9333333333333333 accuracy over bias = [0.13333333], trial count= 15 PC count= 15\n",
      "Session# 13 accuracy = 0.9166666666666666 accuracy over bias = [0.41666667], trial count= 12 PC count= 12\n",
      "Session# 14 accuracy = 0.8235294117647058 accuracy over bias = [0.11764706], trial count= 17 PC count= 17\n",
      "Session# 15 accuracy = 0.9166666666666666 accuracy over bias = [0.16666667], trial count= 12 PC count= 12\n",
      "Session# 16 accuracy = 0.75 accuracy over bias = [0.25], trial count= 12 PC count= 12\n",
      "Session# 17 accuracy = 0.6153846153846154 accuracy over bias = [-0.07692308], trial count= 13 PC count= 13\n",
      "Session# 18 accuracy = 0.875 accuracy over bias = [0.375], trial count= 16 PC count= 16\n",
      "Session# 19 accuracy = 0.7419354838709677 accuracy over bias = [0.03225806], trial count= 31 PC count= 31\n",
      "Session# 20 accuracy = 0.2857142857142857 accuracy over bias = [-0.42857143], trial count= 7 PC count= 7\n",
      "Session# 21 accuracy = 0.875 accuracy over bias = [0.05], trial count= 40 PC count= 40\n"
     ]
    },
    {
     "ename": "ValueError",
     "evalue": "This solver needs samples of at least 2 classes in the data, but the data contains only one class: 1.0",
     "output_type": "error",
     "traceback": [
      "\u001b[1;31m---------------------------------------------------------------------------\u001b[0m",
      "\u001b[1;31mValueError\u001b[0m                                Traceback (most recent call last)",
      "\u001b[1;32m<ipython-input-12-23f30ba410a7>\u001b[0m in \u001b[0;36m<module>\u001b[1;34m\u001b[0m\n\u001b[0;32m     29\u001b[0m         \u001b[0mprobs\u001b[0m \u001b[1;33m=\u001b[0m \u001b[1;33m[\u001b[0m\u001b[1;33m]\u001b[0m\u001b[1;33m\u001b[0m\u001b[1;33m\u001b[0m\u001b[0m\n\u001b[0;32m     30\u001b[0m         \u001b[1;32mfor\u001b[0m \u001b[0mfit_trials\u001b[0m\u001b[1;33m,\u001b[0m\u001b[0mtest_trial\u001b[0m \u001b[1;32min\u001b[0m \u001b[0msplits\u001b[0m\u001b[1;33m:\u001b[0m\u001b[1;33m\u001b[0m\u001b[1;33m\u001b[0m\u001b[0m\n\u001b[1;32m---> 31\u001b[1;33m             \u001b[0mlogreg\u001b[0m\u001b[1;33m.\u001b[0m\u001b[0mfit\u001b[0m\u001b[1;33m(\u001b[0m\u001b[1;33m(\u001b[0m\u001b[0mdat\u001b[0m\u001b[1;33m[\u001b[0m\u001b[1;34m'PCs'\u001b[0m\u001b[1;33m]\u001b[0m\u001b[1;33m[\u001b[0m\u001b[1;33m:\u001b[0m\u001b[1;33m,\u001b[0m\u001b[0mfit_trials\u001b[0m\u001b[1;33m]\u001b[0m\u001b[1;33m)\u001b[0m\u001b[1;33m.\u001b[0m\u001b[0mT\u001b[0m\u001b[1;33m,\u001b[0m \u001b[0mdat\u001b[0m\u001b[1;33m[\u001b[0m\u001b[1;34m'chcs'\u001b[0m\u001b[1;33m]\u001b[0m\u001b[1;33m[\u001b[0m\u001b[0mfit_trials\u001b[0m\u001b[1;33m]\u001b[0m\u001b[1;33m)\u001b[0m\u001b[1;33m\u001b[0m\u001b[1;33m\u001b[0m\u001b[0m\n\u001b[0m\u001b[0;32m     32\u001b[0m             \u001b[0mprediction\u001b[0m \u001b[1;33m=\u001b[0m \u001b[0mlogreg\u001b[0m\u001b[1;33m.\u001b[0m\u001b[0mpredict\u001b[0m\u001b[1;33m(\u001b[0m\u001b[0mdat\u001b[0m\u001b[1;33m[\u001b[0m\u001b[1;34m'PCs'\u001b[0m\u001b[1;33m]\u001b[0m\u001b[1;33m[\u001b[0m\u001b[1;33m:\u001b[0m\u001b[1;33m,\u001b[0m\u001b[0mtest_trial\u001b[0m\u001b[1;33m]\u001b[0m\u001b[1;33m.\u001b[0m\u001b[0mT\u001b[0m\u001b[1;33m)\u001b[0m\u001b[1;33m[\u001b[0m\u001b[1;36m0\u001b[0m\u001b[1;33m]\u001b[0m\u001b[1;33m\u001b[0m\u001b[1;33m\u001b[0m\u001b[0m\n\u001b[0;32m     33\u001b[0m             \u001b[0mprob\u001b[0m \u001b[1;33m=\u001b[0m \u001b[0mlogreg\u001b[0m\u001b[1;33m.\u001b[0m\u001b[0mpredict_proba\u001b[0m\u001b[1;33m(\u001b[0m\u001b[0mdat\u001b[0m\u001b[1;33m[\u001b[0m\u001b[1;34m'PCs'\u001b[0m\u001b[1;33m]\u001b[0m\u001b[1;33m[\u001b[0m\u001b[1;33m:\u001b[0m\u001b[1;33m,\u001b[0m\u001b[0mtest_trial\u001b[0m\u001b[1;33m]\u001b[0m\u001b[1;33m.\u001b[0m\u001b[0mT\u001b[0m\u001b[1;33m)\u001b[0m\u001b[1;33m[\u001b[0m\u001b[1;36m0\u001b[0m\u001b[1;33m]\u001b[0m\u001b[1;33m\u001b[0m\u001b[1;33m\u001b[0m\u001b[0m\n",
      "\u001b[1;32mC:\\ProgramData\\Miniconda3\\lib\\site-packages\\sklearn\\linear_model\\_logistic.py\u001b[0m in \u001b[0;36mfit\u001b[1;34m(self, X, y, sample_weight)\u001b[0m\n\u001b[0;32m   1372\u001b[0m             raise ValueError(\"This solver needs samples of at least 2 classes\"\n\u001b[0;32m   1373\u001b[0m                              \u001b[1;34m\" in the data, but the data contains only one\"\u001b[0m\u001b[1;33m\u001b[0m\u001b[1;33m\u001b[0m\u001b[0m\n\u001b[1;32m-> 1374\u001b[1;33m                              \" class: %r\" % classes_[0])\n\u001b[0m\u001b[0;32m   1375\u001b[0m \u001b[1;33m\u001b[0m\u001b[0m\n\u001b[0;32m   1376\u001b[0m         \u001b[1;32mif\u001b[0m \u001b[0mlen\u001b[0m\u001b[1;33m(\u001b[0m\u001b[0mself\u001b[0m\u001b[1;33m.\u001b[0m\u001b[0mclasses_\u001b[0m\u001b[1;33m)\u001b[0m \u001b[1;33m==\u001b[0m \u001b[1;36m2\u001b[0m\u001b[1;33m:\u001b[0m\u001b[1;33m\u001b[0m\u001b[1;33m\u001b[0m\u001b[0m\n",
      "\u001b[1;31mValueError\u001b[0m: This solver needs samples of at least 2 classes in the data, but the data contains only one class: 1.0"
     ]
    }
   ],
   "source": [
    "allb = ['ACA','ACB','APN', 'AUD', 'BLA', 'BMA', 'CA', 'CA1', 'CA2', 'CA3', 'CL', 'COA',\n",
    " 'CP','DG','DP','EP','EPd','GPe','IC' ,'ILA', 'LD', 'LGd' ,'LH', 'LP', 'LS',\n",
    " 'LSc','LSr','MB','MD','MEA','MG','MOp','MOs','MRN','MS','NB','OLF','ORB',\n",
    " 'ORBm','OT','PAG','PIR','PL','PO','POL','POST','PT','RN','RSP','RT',\n",
    " 'SCig','SCm','SCs','SCsg','SI','SNr','SPF','SSp','SSs','SUB','TH','TT',\n",
    " 'VAL','VISa','VISam','VISl','VISp','VISpm','VISrl','VPL','VPM','ZI']\n",
    "\n",
    "brain_areas = ['MOs']\n",
    "brain_areas = allb\n",
    "\n",
    "for session in range(len(alldat)):\n",
    "    if np.sum(np.isin(alldat[session]['brain_area'],brain_areas))>0:\n",
    "        filtered = filter_spikes(alldat,session,unfair_only=True,chosey_only=True, nonzero_only=True,brain_area=brain_areas)\n",
    "        #filtered = rebin(filtered, 50, 250, 2)\n",
    "        dat = neurons_PCA(filtered,0.9,0,250)\n",
    "      # $ dat['PCs'] = dat['PCs'][0:dat['PCrange'],:]\n",
    "        lambda_L2 = 1\n",
    "        penalty = \"none\"\n",
    "        l1args = {}\n",
    "        left_bias = np.mean((filtered['chcs'])==1)\n",
    "        choice_bias = [left_bias if left_bias > .5 else (1.0-left_bias)]\n",
    "        w = {-1:left_bias, 1:(1-left_bias)}\n",
    "       # l1args = {'solver':\"saga\", 'max_iter':5000}\n",
    "        logreg = LogisticRegression(penalty = penalty, C = lambda_L2, **l1args)\n",
    "        splitter = LeaveOneOut()\n",
    "        splits = splitter.split(dat['PCs'].T)\n",
    "        accuracies=[]\n",
    "        predictions = []\n",
    "        probs = []\n",
    "        for fit_trials,test_trial in splits:\n",
    "            logreg.fit((dat['PCs'][:,fit_trials]).T, dat['chcs'][fit_trials])\n",
    "            prediction = logreg.predict(dat['PCs'][:,test_trial].T)[0]\n",
    "            prob = logreg.predict_proba(dat['PCs'][:,test_trial].T)[0]\n",
    "            actual = dat['chcs'][test_trial][0]\n",
    "            accuracy = int(actual == prediction)\n",
    "            predictions.append(prediction)\n",
    "            accuracies.append(accuracy)\n",
    "            probs.append(prob)   \n",
    "        probs = np.array(probs)\n",
    "        accuracies = np.array(accuracies)\n",
    "        \n",
    "        aob = accuracies.mean() - choice_bias\n",
    "        print(\"Session# \"+ str(session)+\" accuracy = \"+str(accuracies.mean())+\" accuracy over bias = \"+str(accuracies.mean() - choice_bias) + \", trial count= \"+ str(len(accuracies)),\"PC count= \"+ str(dat['PCs'].shape[0]))"
   ]
  },
  {
   "cell_type": "markdown",
   "metadata": {
    "colab_type": "text",
    "id": "u7MW_crovn2P"
   },
   "source": [
    "# Filter, PCA, and Model w/ different time bins"
   ]
  },
  {
   "cell_type": "code",
   "execution_count": null,
   "metadata": {
    "colab": {},
    "colab_type": "code",
    "id": "LgEtn_izvn2Q",
    "outputId": "d3b2a8a0-725e-43aa-8ac3-16eaceac5c2a"
   },
   "outputs": [],
   "source": [
    "binl = 25\n",
    "bins = [x for x in range(0,250,binl)]\n",
    "brain_areas = [\"MOp\"]\n",
    "\n",
    "for bin in bins:\n",
    "    session = 10\n",
    "    filtered = filter_spikes(alldat,session,unfair_only=True,brain_area=brain_areas)\n",
    "    dat = neurons_PCA(filtered,0.9,bin,bin+binl)\n",
    "    lambda_L2 = 1\n",
    "    penalty = \"l2\"\n",
    "    l1args = {}\n",
    "    logreg = LogisticRegression(penalty = penalty, C = lambda_L2, **l1args).fit(dat['PCs'].T, filtered['chcs'])\n",
    "    splitter = LeaveOneOut()\n",
    "    splits = splitter.split(dat['PCs'].T)\n",
    "    accuracies = cross_val_score(logreg,dat['PCs'].T, filtered['chcs'], cv=splits, verbose=0) # k=8 crossvalidation\n",
    "    print(\"Bin \"+str(bin)+\" to \"+str(bin+binl)+\" accuracy mean= \"+str(accuracies.mean())+ \", percent left \"+ str(np.mean((filtered['chcs'])==-1)))"
   ]
  },
  {
   "cell_type": "code",
   "execution_count": null,
   "metadata": {
    "colab": {},
    "colab_type": "code",
    "id": "3iNt_z5Wvn2T",
    "outputId": "17e7374d-23ce-4e49-bd57-246886117968"
   },
   "outputs": [
    {
     "data": {
      "text/plain": [
       "[(0, 178, 0),\n",
       " (1, 533, 0),\n",
       " (2, 228, 0),\n",
       " (3, 39, 0),\n",
       " (4, 0, 0),\n",
       " (5, 0, 0),\n",
       " (6, 0, 59),\n",
       " (7, 48, 0),\n",
       " (8, 142, 0),\n",
       " (9, 340, 0),\n",
       " (10, 0, 275),\n",
       " (11, 145, 0),\n",
       " (12, 34, 0),\n",
       " (13, 42, 0),\n",
       " (14, 0, 0),\n",
       " (15, 0, 0),\n",
       " (16, 0, 0),\n",
       " (17, 0, 313),\n",
       " (18, 179, 0),\n",
       " (19, 122, 0),\n",
       " (20, 0, 0),\n",
       " (21, 133, 92),\n",
       " (22, 190, 0),\n",
       " (23, 296, 0),\n",
       " (24, 94, 0),\n",
       " (25, 162, 0),\n",
       " (26, 103, 90),\n",
       " (27, 71, 0),\n",
       " (28, 0, 340),\n",
       " (29, 0, 0),\n",
       " (30, 0, 0),\n",
       " (31, 0, 0),\n",
       " (32, 0, 383),\n",
       " (33, 0, 0),\n",
       " (34, 75, 0),\n",
       " (35, 53, 0),\n",
       " (36, 77, 0),\n",
       " (37, 0, 0),\n",
       " (38, 141, 0)]"
      ]
     },
     "execution_count": 126,
     "metadata": {
      "tags": []
     },
     "output_type": "execute_result"
    }
   ],
   "source": [
    "[(session,np.sum(np.isin(alldat[session]['brain_area'],[\"VISam\", \"VISl\", \"VISp\", \"VISpm\", \"VISrl\"])), np.sum(np.isin(alldat[session]['brain_area'],[\"ACB\",\"CP\"]))) for session in range(len(alldat))]"
   ]
  },
  {
   "cell_type": "code",
   "execution_count": null,
   "metadata": {
    "colab": {},
    "colab_type": "code",
    "id": "vSIEIeFxvn2W",
    "outputId": "8ec09c9c-322b-446d-e727-3ca09aef2353"
   },
   "outputs": [
    {
     "name": "stdout",
     "output_type": "stream",
     "text": [
      "['ACA' 'ACB' 'APN' 'AUD' 'BLA' 'BMA' 'CA' 'CA1' 'CA2' 'CA3' 'CL' 'COA'\n",
      " 'CP' 'DG' 'DP' 'EP' 'EPd' 'GPe' 'IC' 'ILA' 'LD' 'LGd' 'LH' 'LP' 'LS'\n",
      " 'LSc' 'LSr' 'MB' 'MD' 'MEA' 'MG' 'MOp' 'MOs' 'MRN' 'MS' 'NB' 'OLF' 'ORB'\n",
      " 'ORBm' 'OT' 'PAG' 'PIR' 'PL' 'PO' 'POL' 'POST' 'PT' 'RN' 'RSP' 'RT'\n",
      " 'SCig' 'SCm' 'SCs' 'SCsg' 'SI' 'SNr' 'SPF' 'SSp' 'SSs' 'SUB' 'TH' 'TT'\n",
      " 'VAL' 'VISa' 'VISam' 'VISl' 'VISp' 'VISpm' 'VISrl' 'VPL' 'VPM' 'ZI'\n",
      " 'root']\n"
     ]
    }
   ],
   "source": [
    "aba = []\n",
    "for session in alldat:\n",
    "    for ba in session['brain_area']:\n",
    "        if ba not in aba:\n",
    "            aba.append(ba)\n",
    "            \n",
    "print(np.sort(aba))"
   ]
  },
  {
   "cell_type": "code",
   "execution_count": null,
   "metadata": {
    "colab": {},
    "colab_type": "code",
    "id": "5UyKO8owvn2a",
    "outputId": "c07ab51c-5b12-4bf4-ef22-a11bf67bcd8c"
   },
   "outputs": [
    {
     "data": {
      "text/plain": [
       "[<matplotlib.lines.Line2D at 0x7f9172cd0c90>]"
      ]
     },
     "execution_count": 180,
     "metadata": {
      "tags": []
     },
     "output_type": "execute_result"
    },
    {
     "data": {
      "image/png": "[encoded data removed]",
      "text/plain": [
       "<Figure size 432x288 with 1 Axes>"
      ]
     },
     "metadata": {
      "tags": []
     },
     "output_type": "display_data"
    }
   ],
   "source": [
    "lams = np.logspace(-4,4,num=9)\n",
    "aobs = []\n",
    "accs = []\n",
    "for lam in lams:\n",
    "    session = 10\n",
    "    filtered = filter_spikes(alldat,session,unfair_only=True,chosey_only=True, nonzero_only=True,brain_area=brain_areas)\n",
    "    dat = neurons_PCA(filtered,0.9,0,250)\n",
    "    lambda_L2 = lam\n",
    "    penalty = \"l2\"\n",
    "    l1args = {}\n",
    "    logreg = LogisticRegression(penalty = penalty, C = lambda_L2, **l1args).fit(dat['PCs'].T, filtered['chcs'])\n",
    "    splitter = LeaveOneOut()\n",
    "    splits = splitter.split(dat['PCs'].T)\n",
    "    accuracies = cross_val_score(logreg,dat['PCs'].T, filtered['chcs'], cv=splits, verbose=0) # k=8 crossvalidation\n",
    "    left_bias = np.mean((filtered['chcs'])==-1)\n",
    "    choice_bias = [left_bias if left_bias > .5 else (1.0-left_bias)]\n",
    "    aob = accuracies.mean() - choice_bias\n",
    "    aobs.append(aob)\n",
    "    accs.append(accuracies.mean())\n",
    "plt.plot(np.log(lams),aobs)\n",
    "plt.plot(np.log(lams),accs)"
   ]
  },
  {
   "cell_type": "code",
   "execution_count": 163,
   "metadata": {
    "colab": {},
    "colab_type": "code",
    "id": "8OAdwFcuvn2c"
   },
   "outputs": [
    {
     "name": "stdout",
     "output_type": "stream",
     "text": [
      "Session# 1 accuracy = 0.7 accuracy over bias = [0.15], trial count= 20 PC count= 13\n",
      "Session# 2 accuracy = 0.42857142857142855 accuracy over bias = [-0.19047619], trial count= 21 PC count= 10\n",
      "Session# 3 accuracy = 0.9 accuracy over bias = [0.2], trial count= 10 PC count= 5\n",
      "Session# 4 accuracy = 0.8571428571428571 accuracy over bias = [0.0952381], trial count= 21 PC count= 10\n",
      "Session# 7 accuracy = 0.5 accuracy over bias = [-0.16666667], trial count= 12 PC count= 5\n",
      "Session# 8 accuracy = 0.6 accuracy over bias = [-0.06666667], trial count= 15 PC count= 7\n",
      "Session# 9 accuracy = 0.5 accuracy over bias = [-0.125], trial count= 24 PC count= 11\n",
      "Session# 11 accuracy = 0.8888888888888888 accuracy over bias = [0.27777778], trial count= 18 PC count= 8\n",
      "Session# 12 accuracy = 0.9333333333333333 accuracy over bias = [0.13333333], trial count= 15 PC count= 6\n",
      "Session# 18 accuracy = 0.75 accuracy over bias = [0.25], trial count= 16 PC count= 9\n",
      "Session# 19 accuracy = 0.6129032258064516 accuracy over bias = [-0.09677419], trial count= 31 PC count= 11\n"
     ]
    },
    {
     "name": "stderr",
     "output_type": "stream",
     "text": [
      "/Users/henryskelton/opt/anaconda3/lib/python3.7/site-packages/sklearn/svm/_base.py:977: ConvergenceWarning: Liblinear failed to converge, increase the number of iterations.\n",
      "  \"the number of iterations.\", ConvergenceWarning)\n",
      "/Users/henryskelton/opt/anaconda3/lib/python3.7/site-packages/sklearn/svm/_base.py:977: ConvergenceWarning: Liblinear failed to converge, increase the number of iterations.\n",
      "  \"the number of iterations.\", ConvergenceWarning)\n",
      "/Users/henryskelton/opt/anaconda3/lib/python3.7/site-packages/sklearn/svm/_base.py:977: ConvergenceWarning: Liblinear failed to converge, increase the number of iterations.\n",
      "  \"the number of iterations.\", ConvergenceWarning)\n"
     ]
    },
    {
     "name": "stdout",
     "output_type": "stream",
     "text": [
      "Session# 23 accuracy = 0.45454545454545453 accuracy over bias = [-0.36363636], trial count= 11 PC count= 6\n",
      "Session# 26 accuracy = 0.7692307692307693 accuracy over bias = [0.07692308], trial count= 13 PC count= 6\n",
      "Session# 27 accuracy = 1.0 accuracy over bias = [0.5], trial count= 4 PC count= 1\n",
      "Session# 29 accuracy = 0.2857142857142857 accuracy over bias = [-0.28571429], trial count= 7 PC count= 2\n",
      "Session# 34 accuracy = 0.631578947368421 accuracy over bias = [0.05263158], trial count= 19 PC count= 7\n",
      "Session# 35 accuracy = 0.8421052631578947 accuracy over bias = [-0.05263158], trial count= 19 PC count= 7\n"
     ]
    },
    {
     "data": {
      "image/png": "[encoded data removed]",
      "text/plain": [
       "<Figure size 720x720 with 2 Axes>"
      ]
     },
     "metadata": {},
     "output_type": "display_data"
    }
   ],
   "source": [
    "from model_tester import test_model\n",
    "allb = ['ACA','ACB','APN', 'AUD', 'BLA', 'BMA', 'CA', 'CA1', 'CA2', 'CA3', 'CL', 'COA',\n",
    " 'CP','DG','DP','EP','EPd','GPe','IC' ,'ILA', 'LD', 'LGd' ,'LH', 'LP', 'LS',\n",
    " 'LSc','LSr','MB','MD','MEA','MG','MOp','MOs','MRN','MS','NB','OLF','ORB',\n",
    " 'ORBm','OT','PAG','PIR','PL','PO','POL','POST','PT','RN','RSP','RT',\n",
    " 'SCig','SCm','SCs','SCsg','SI','SNr','SPF','SSp','SSs','SUB','TH','TT',\n",
    " 'VAL','VISa','VISam','VISl','VISp','VISpm','VISrl','VPL','VPM','ZI']\n",
    "\n",
    "\n",
    "regions = [\"vis ctx\", \"thal\", \"hipp\", \"other ctx\", \"midbrain\", \"basal ganglia\", \"cortical subplate\", \"other\"]\n",
    "brain_groups = [[\"VISa\", \"VISam\", \"VISl\", \"VISp\", \"VISpm\", \"VISrl\"], # visual cortex\n",
    "                [\"CL\", \"LD\", \"LGd\", \"LH\", \"LP\", \"MD\", \"MG\", \"PO\", \"POL\", \"PT\", \"RT\", \"SPF\", \"TH\", \"VAL\", \"VPL\", \"VPM\"], # thalamus\n",
    "                [\"CA\", \"CA1\", \"CA2\", \"CA3\", \"DG\", \"SUB\", \"POST\"], # hippocampal\n",
    "                [\"ACA\", \"AUD\", \"COA\", \"DP\", \"ILA\", \"MOp\", \"MOs\", \"OLF\", \"ORB\", \"ORBm\", \"PIR\", \"PL\", \"SSp\", \"SSs\", \"RSP\",\" TT\"], # non-visual cortex\n",
    "                [\"APN\", \"IC\", \"MB\", \"MRN\", \"NB\", \"PAG\", \"RN\", \"SCs\", \"SCm\", \"SCig\", \"SCsg\", \"ZI\"], # midbrain\n",
    "                [\"ACB\", \"CP\", \"GPe\", \"LS\", \"LSc\", \"LSr\", \"MS\", \"OT\", \"SNr\", \"SI\"], # basal ganglia \n",
    "                [\"BLA\", \"BMA\", \"EP\", \"EPd\", \"MEA\"] # cortical subplate\n",
    "                ]\n",
    "\n",
    "\n",
    "\n",
    "sessions = [*range(0,37)]\n",
    "l2=1000000000000\n",
    "\n",
    "output = test_model(alldat,sessions=sessions,brain_areas=[\"VISa\", \"VISam\", \"VISl\", \"VISpm\", \"VISrl\"],unfair_only=True,chosey_only=True,nonzero_only=True,l2_penalty=l2,toweight=False,verbose=True)\n",
    "\n",
    "\n",
    "plot_results(output)\n"
   ]
  },
  {
   "cell_type": "code",
   "execution_count": 116,
   "metadata": {},
   "outputs": [
    {
     "data": {
      "image/png": "[encoded data removed]",
      "text/plain": [
       "<Figure size 720x288 with 2 Axes>"
      ]
     },
     "metadata": {},
     "output_type": "display_data"
    }
   ],
   "source": [
    "plot_session(alldat, 38, select_areas = None, unfair_only=True,chosey_only=True,nonzero_only=True)"
   ]
  },
  {
   "cell_type": "code",
   "execution_count": 135,
   "metadata": {},
   "outputs": [
    {
     "name": "stdout",
     "output_type": "stream",
     "text": [
      "Session# 10 accuracy = 0.9166666666666666 accuracy over bias = [0.33333333], trial count= 24 PC count= 13\n",
      "Session# 10 accuracy = 0.5833333333333334 accuracy over bias = [1.11022302e-16], trial count= 24 PC count= 13\n",
      "Session# 10 accuracy = 0.5833333333333334 accuracy over bias = [1.11022302e-16], trial count= 24 PC count= 13\n",
      "Session# 10 accuracy = 0.5833333333333334 accuracy over bias = [1.11022302e-16], trial count= 24 PC count= 13\n",
      "Session# 10 accuracy = 0.5833333333333334 accuracy over bias = [1.11022302e-16], trial count= 24 PC count= 13\n",
      "Session# 10 accuracy = 0.5833333333333334 accuracy over bias = [1.11022302e-16], trial count= 24 PC count= 13\n",
      "Session# 10 accuracy = 0.5833333333333334 accuracy over bias = [1.11022302e-16], trial count= 24 PC count= 13\n",
      "Session# 10 accuracy = 0.5833333333333334 accuracy over bias = [1.11022302e-16], trial count= 24 PC count= 13\n",
      "Session# 10 accuracy = 0.5833333333333334 accuracy over bias = [1.11022302e-16], trial count= 24 PC count= 13\n",
      "Session# 10 accuracy = 0.5833333333333334 accuracy over bias = [1.11022302e-16], trial count= 24 PC count= 13\n",
      "Session# 10 accuracy = 0.5833333333333334 accuracy over bias = [1.11022302e-16], trial count= 24 PC count= 13\n",
      "Session# 10 accuracy = 0.5416666666666666 accuracy over bias = [-0.04166667], trial count= 24 PC count= 13\n",
      "Session# 10 accuracy = 0.5416666666666666 accuracy over bias = [-0.04166667], trial count= 24 PC count= 13\n",
      "Session# 10 accuracy = 0.5416666666666666 accuracy over bias = [-0.04166667], trial count= 24 PC count= 13\n",
      "Session# 10 accuracy = 0.5416666666666666 accuracy over bias = [-0.04166667], trial count= 24 PC count= 13\n",
      "Session# 10 accuracy = 0.5416666666666666 accuracy over bias = [-0.04166667], trial count= 24 PC count= 13\n",
      "Session# 10 accuracy = 0.5833333333333334 accuracy over bias = [1.11022302e-16], trial count= 24 PC count= 13\n",
      "Session# 10 accuracy = 0.5833333333333334 accuracy over bias = [1.11022302e-16], trial count= 24 PC count= 13\n",
      "Session# 10 accuracy = 0.5833333333333334 accuracy over bias = [1.11022302e-16], trial count= 24 PC count= 13\n",
      "Session# 10 accuracy = 0.5833333333333334 accuracy over bias = [1.11022302e-16], trial count= 24 PC count= 13\n",
      "Session# 10 accuracy = 0.625 accuracy over bias = [0.04166667], trial count= 24 PC count= 13\n",
      "Session# 10 accuracy = 0.625 accuracy over bias = [0.04166667], trial count= 24 PC count= 13\n",
      "Session# 10 accuracy = 0.6666666666666666 accuracy over bias = [0.08333333], trial count= 24 PC count= 13\n",
      "Session# 10 accuracy = 0.75 accuracy over bias = [0.16666667], trial count= 24 PC count= 13\n",
      "Session# 10 accuracy = 0.75 accuracy over bias = [0.16666667], trial count= 24 PC count= 13\n",
      "Session# 10 accuracy = 0.75 accuracy over bias = [0.16666667], trial count= 24 PC count= 13\n",
      "Session# 10 accuracy = 0.75 accuracy over bias = [0.16666667], trial count= 24 PC count= 13\n",
      "Session# 10 accuracy = 0.75 accuracy over bias = [0.16666667], trial count= 24 PC count= 13\n",
      "Session# 10 accuracy = 0.75 accuracy over bias = [0.16666667], trial count= 24 PC count= 13\n",
      "Session# 10 accuracy = 0.75 accuracy over bias = [0.16666667], trial count= 24 PC count= 13\n",
      "Session# 10 accuracy = 0.75 accuracy over bias = [0.16666667], trial count= 24 PC count= 13\n",
      "Session# 10 accuracy = 0.75 accuracy over bias = [0.16666667], trial count= 24 PC count= 13\n",
      "Session# 10 accuracy = 0.75 accuracy over bias = [0.16666667], trial count= 24 PC count= 13\n",
      "Session# 10 accuracy = 0.75 accuracy over bias = [0.16666667], trial count= 24 PC count= 13\n",
      "Session# 10 accuracy = 0.75 accuracy over bias = [0.16666667], trial count= 24 PC count= 13\n",
      "Session# 10 accuracy = 0.75 accuracy over bias = [0.16666667], trial count= 24 PC count= 13\n",
      "Session# 10 accuracy = 0.75 accuracy over bias = [0.16666667], trial count= 24 PC count= 13\n",
      "Session# 10 accuracy = 0.75 accuracy over bias = [0.16666667], trial count= 24 PC count= 13\n",
      "Session# 10 accuracy = 0.75 accuracy over bias = [0.16666667], trial count= 24 PC count= 13\n",
      "Session# 10 accuracy = 0.75 accuracy over bias = [0.16666667], trial count= 24 PC count= 13\n",
      "Session# 10 accuracy = 0.8333333333333334 accuracy over bias = [0.25], trial count= 24 PC count= 13\n",
      "Session# 10 accuracy = 0.8333333333333334 accuracy over bias = [0.25], trial count= 24 PC count= 13\n",
      "Session# 10 accuracy = 0.8333333333333334 accuracy over bias = [0.25], trial count= 24 PC count= 13\n",
      "Session# 10 accuracy = 0.8333333333333334 accuracy over bias = [0.25], trial count= 24 PC count= 13\n",
      "Session# 10 accuracy = 0.8333333333333334 accuracy over bias = [0.25], trial count= 24 PC count= 13\n",
      "Session# 10 accuracy = 0.8333333333333334 accuracy over bias = [0.25], trial count= 24 PC count= 13\n",
      "Session# 10 accuracy = 0.8333333333333334 accuracy over bias = [0.25], trial count= 24 PC count= 13\n",
      "Session# 10 accuracy = 0.8333333333333334 accuracy over bias = [0.25], trial count= 24 PC count= 13\n",
      "Session# 10 accuracy = 0.8333333333333334 accuracy over bias = [0.25], trial count= 24 PC count= 13\n",
      "Session# 10 accuracy = 0.8333333333333334 accuracy over bias = [0.25], trial count= 24 PC count= 13\n",
      "Session# 10 accuracy = 0.8333333333333334 accuracy over bias = [0.25], trial count= 24 PC count= 13\n",
      "Session# 10 accuracy = 0.8333333333333334 accuracy over bias = [0.25], trial count= 24 PC count= 13\n",
      "Session# 10 accuracy = 0.8333333333333334 accuracy over bias = [0.25], trial count= 24 PC count= 13\n",
      "Session# 10 accuracy = 0.8333333333333334 accuracy over bias = [0.25], trial count= 24 PC count= 13\n",
      "Session# 10 accuracy = 0.8333333333333334 accuracy over bias = [0.25], trial count= 24 PC count= 13\n",
      "Session# 10 accuracy = 0.8333333333333334 accuracy over bias = [0.25], trial count= 24 PC count= 13\n",
      "Session# 10 accuracy = 0.8333333333333334 accuracy over bias = [0.25], trial count= 24 PC count= 13\n",
      "Session# 10 accuracy = 0.8333333333333334 accuracy over bias = [0.25], trial count= 24 PC count= 13\n",
      "Session# 10 accuracy = 0.8333333333333334 accuracy over bias = [0.25], trial count= 24 PC count= 13\n",
      "Session# 10 accuracy = 0.8333333333333334 accuracy over bias = [0.25], trial count= 24 PC count= 13\n",
      "Session# 10 accuracy = 0.8333333333333334 accuracy over bias = [0.25], trial count= 24 PC count= 13\n",
      "Session# 10 accuracy = 0.8333333333333334 accuracy over bias = [0.25], trial count= 24 PC count= 13\n",
      "Session# 10 accuracy = 0.8333333333333334 accuracy over bias = [0.25], trial count= 24 PC count= 13\n",
      "Session# 10 accuracy = 0.8333333333333334 accuracy over bias = [0.25], trial count= 24 PC count= 13\n",
      "Session# 10 accuracy = 0.8333333333333334 accuracy over bias = [0.25], trial count= 24 PC count= 13\n",
      "Session# 10 accuracy = 0.8333333333333334 accuracy over bias = [0.25], trial count= 24 PC count= 13\n",
      "Session# 10 accuracy = 0.8333333333333334 accuracy over bias = [0.25], trial count= 24 PC count= 13\n",
      "Session# 10 accuracy = 0.8333333333333334 accuracy over bias = [0.25], trial count= 24 PC count= 13\n",
      "Session# 10 accuracy = 0.8333333333333334 accuracy over bias = [0.25], trial count= 24 PC count= 13\n",
      "Session# 10 accuracy = 0.8333333333333334 accuracy over bias = [0.25], trial count= 24 PC count= 13\n",
      "Session# 10 accuracy = 0.8333333333333334 accuracy over bias = [0.25], trial count= 24 PC count= 13\n",
      "Session# 10 accuracy = 0.8333333333333334 accuracy over bias = [0.25], trial count= 24 PC count= 13\n",
      "Session# 10 accuracy = 0.8333333333333334 accuracy over bias = [0.25], trial count= 24 PC count= 13\n",
      "Session# 10 accuracy = 0.8333333333333334 accuracy over bias = [0.25], trial count= 24 PC count= 13\n",
      "Session# 10 accuracy = 0.8333333333333334 accuracy over bias = [0.25], trial count= 24 PC count= 13\n",
      "Session# 10 accuracy = 0.8333333333333334 accuracy over bias = [0.25], trial count= 24 PC count= 13\n",
      "Session# 10 accuracy = 0.8333333333333334 accuracy over bias = [0.25], trial count= 24 PC count= 13\n",
      "Session# 10 accuracy = 0.8333333333333334 accuracy over bias = [0.25], trial count= 24 PC count= 13\n",
      "Session# 10 accuracy = 0.8333333333333334 accuracy over bias = [0.25], trial count= 24 PC count= 13\n",
      "Session# 10 accuracy = 0.8333333333333334 accuracy over bias = [0.25], trial count= 24 PC count= 13\n",
      "Session# 10 accuracy = 0.8333333333333334 accuracy over bias = [0.25], trial count= 24 PC count= 13\n",
      "Session# 10 accuracy = 0.8333333333333334 accuracy over bias = [0.25], trial count= 24 PC count= 13\n",
      "Session# 10 accuracy = 0.8333333333333334 accuracy over bias = [0.25], trial count= 24 PC count= 13\n",
      "Session# 10 accuracy = 0.875 accuracy over bias = [0.29166667], trial count= 24 PC count= 13\n",
      "Session# 10 accuracy = 0.875 accuracy over bias = [0.29166667], trial count= 24 PC count= 13\n",
      "Session# 10 accuracy = 0.875 accuracy over bias = [0.29166667], trial count= 24 PC count= 13\n",
      "Session# 10 accuracy = 0.875 accuracy over bias = [0.29166667], trial count= 24 PC count= 13\n",
      "Session# 10 accuracy = 0.875 accuracy over bias = [0.29166667], trial count= 24 PC count= 13\n",
      "Session# 10 accuracy = 0.875 accuracy over bias = [0.29166667], trial count= 24 PC count= 13\n",
      "Session# 10 accuracy = 0.875 accuracy over bias = [0.29166667], trial count= 24 PC count= 13\n",
      "Session# 10 accuracy = 0.875 accuracy over bias = [0.29166667], trial count= 24 PC count= 13\n",
      "Session# 10 accuracy = 0.875 accuracy over bias = [0.29166667], trial count= 24 PC count= 13\n",
      "Session# 10 accuracy = 0.875 accuracy over bias = [0.29166667], trial count= 24 PC count= 13\n",
      "Session# 10 accuracy = 0.875 accuracy over bias = [0.29166667], trial count= 24 PC count= 13\n",
      "Session# 10 accuracy = 0.9166666666666666 accuracy over bias = [0.33333333], trial count= 24 PC count= 13\n",
      "Session# 10 accuracy = 0.9166666666666666 accuracy over bias = [0.33333333], trial count= 24 PC count= 13\n",
      "Session# 10 accuracy = 0.9166666666666666 accuracy over bias = [0.33333333], trial count= 24 PC count= 13\n",
      "Session# 10 accuracy = 0.9166666666666666 accuracy over bias = [0.33333333], trial count= 24 PC count= 13\n",
      "Session# 10 accuracy = 0.9166666666666666 accuracy over bias = [0.33333333], trial count= 24 PC count= 13\n",
      "Session# 10 accuracy = 0.9166666666666666 accuracy over bias = [0.33333333], trial count= 24 PC count= 13\n"
     ]
    }
   ],
   "source": [
    "lambdas = np.arange(0,1,.01)\n",
    "\n",
    "outputs = [test_model(alldat,sessions=[10],brain_areas=allb,unfair_only=True,chosey_only=True,nonzero_only=True,l2_penalty=x,toweight=False,verbose=True) for x in lambdas]\n",
    "\n",
    "testl2s = [(lam,output['Accuracies'][0]) for lam,output in zip(lambdas,outputs)]"
   ]
  },
  {
   "cell_type": "code",
   "execution_count": 136,
   "metadata": {},
   "outputs": [
    {
     "ename": "NameError",
     "evalue": "name 'testl2' is not defined",
     "output_type": "error",
     "traceback": [
      "\u001b[0;31m---------------------------------------------------------------------------\u001b[0m",
      "\u001b[0;31mNameError\u001b[0m                                 Traceback (most recent call last)",
      "\u001b[0;32m<ipython-input-136-e092aa5579db>\u001b[0m in \u001b[0;36m<module>\u001b[0;34m\u001b[0m\n\u001b[0;32m----> 1\u001b[0;31m \u001b[0mtestl2\u001b[0m\u001b[0;34m\u001b[0m\u001b[0;34m\u001b[0m\u001b[0m\n\u001b[0m",
      "\u001b[0;31mNameError\u001b[0m: name 'testl2' is not defined"
     ]
    }
   ],
   "source": [
    "testl2"
   ]
  },
  {
   "cell_type": "code",
   "execution_count": 137,
   "metadata": {},
   "outputs": [
    {
     "data": {
      "text/plain": [
       "[(0.0, 0.9166666666666666),\n",
       " (0.01, 0.5833333333333334),\n",
       " (0.02, 0.5833333333333334),\n",
       " (0.03, 0.5833333333333334),\n",
       " (0.04, 0.5833333333333334),\n",
       " (0.05, 0.5833333333333334),\n",
       " (0.06, 0.5833333333333334),\n",
       " (0.07, 0.5833333333333334),\n",
       " (0.08, 0.5833333333333334),\n",
       " (0.09, 0.5833333333333334),\n",
       " (0.1, 0.5833333333333334),\n",
       " (0.11, 0.5416666666666666),\n",
       " (0.12, 0.5416666666666666),\n",
       " (0.13, 0.5416666666666666),\n",
       " (0.14, 0.5416666666666666),\n",
       " (0.15, 0.5416666666666666),\n",
       " (0.16, 0.5833333333333334),\n",
       " (0.17, 0.5833333333333334),\n",
       " (0.18, 0.5833333333333334),\n",
       " (0.19, 0.5833333333333334),\n",
       " (0.2, 0.625),\n",
       " (0.21, 0.625),\n",
       " (0.22, 0.6666666666666666),\n",
       " (0.23, 0.75),\n",
       " (0.24, 0.75),\n",
       " (0.25, 0.75),\n",
       " (0.26, 0.75),\n",
       " (0.27, 0.75),\n",
       " (0.28, 0.75),\n",
       " (0.29, 0.75),\n",
       " (0.3, 0.75),\n",
       " (0.31, 0.75),\n",
       " (0.32, 0.75),\n",
       " (0.33, 0.75),\n",
       " (0.34, 0.75),\n",
       " (0.35000000000000003, 0.75),\n",
       " (0.36, 0.75),\n",
       " (0.37, 0.75),\n",
       " (0.38, 0.75),\n",
       " (0.39, 0.75),\n",
       " (0.4, 0.8333333333333334),\n",
       " (0.41000000000000003, 0.8333333333333334),\n",
       " (0.42, 0.8333333333333334),\n",
       " (0.43, 0.8333333333333334),\n",
       " (0.44, 0.8333333333333334),\n",
       " (0.45, 0.8333333333333334),\n",
       " (0.46, 0.8333333333333334),\n",
       " (0.47000000000000003, 0.8333333333333334),\n",
       " (0.48, 0.8333333333333334),\n",
       " (0.49, 0.8333333333333334),\n",
       " (0.5, 0.8333333333333334),\n",
       " (0.51, 0.8333333333333334),\n",
       " (0.52, 0.8333333333333334),\n",
       " (0.53, 0.8333333333333334),\n",
       " (0.54, 0.8333333333333334),\n",
       " (0.55, 0.8333333333333334),\n",
       " (0.56, 0.8333333333333334),\n",
       " (0.5700000000000001, 0.8333333333333334),\n",
       " (0.58, 0.8333333333333334),\n",
       " (0.59, 0.8333333333333334),\n",
       " (0.6, 0.8333333333333334),\n",
       " (0.61, 0.8333333333333334),\n",
       " (0.62, 0.8333333333333334),\n",
       " (0.63, 0.8333333333333334),\n",
       " (0.64, 0.8333333333333334),\n",
       " (0.65, 0.8333333333333334),\n",
       " (0.66, 0.8333333333333334),\n",
       " (0.67, 0.8333333333333334),\n",
       " (0.68, 0.8333333333333334),\n",
       " (0.6900000000000001, 0.8333333333333334),\n",
       " (0.7000000000000001, 0.8333333333333334),\n",
       " (0.71, 0.8333333333333334),\n",
       " (0.72, 0.8333333333333334),\n",
       " (0.73, 0.8333333333333334),\n",
       " (0.74, 0.8333333333333334),\n",
       " (0.75, 0.8333333333333334),\n",
       " (0.76, 0.8333333333333334),\n",
       " (0.77, 0.8333333333333334),\n",
       " (0.78, 0.8333333333333334),\n",
       " (0.79, 0.8333333333333334),\n",
       " (0.8, 0.8333333333333334),\n",
       " (0.81, 0.8333333333333334),\n",
       " (0.8200000000000001, 0.8333333333333334),\n",
       " (0.8300000000000001, 0.875),\n",
       " (0.84, 0.875),\n",
       " (0.85, 0.875),\n",
       " (0.86, 0.875),\n",
       " (0.87, 0.875),\n",
       " (0.88, 0.875),\n",
       " (0.89, 0.875),\n",
       " (0.9, 0.875),\n",
       " (0.91, 0.875),\n",
       " (0.92, 0.875),\n",
       " (0.93, 0.875),\n",
       " (0.9400000000000001, 0.9166666666666666),\n",
       " (0.9500000000000001, 0.9166666666666666),\n",
       " (0.96, 0.9166666666666666),\n",
       " (0.97, 0.9166666666666666),\n",
       " (0.98, 0.9166666666666666),\n",
       " (0.99, 0.9166666666666666)]"
      ]
     },
     "execution_count": 137,
     "metadata": {},
     "output_type": "execute_result"
    }
   ],
   "source": [
    "testl2s"
   ]
  },
  {
   "cell_type": "code",
   "execution_count": null,
   "metadata": {},
   "outputs": [],
   "source": []
  }
 ],
 "metadata": {
  "colab": {
   "collapsed_sections": [],
   "include_colab_link": true,
   "name": "mistaken_mice.ipynb",
   "provenance": [],
   "toc_visible": true
  },
  "kernelspec": {
   "display_name": "Python 3",
   "language": "python",
   "name": "python3"
  },
  "language_info": {
   "codemirror_mode": {
    "name": "ipython",
    "version": 3
   },
   "file_extension": ".py",
   "mimetype": "text/x-python",
   "name": "python",
   "nbconvert_exporter": "python",
   "pygments_lexer": "ipython3",
   "version": "3.7.7"
  }
 },
 "nbformat": 4,
 "nbformat_minor": 4
}

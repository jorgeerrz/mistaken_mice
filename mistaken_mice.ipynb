{
 "cells": [
  {
   "cell_type": "markdown",
   "metadata": {
    "colab_type": "text",
    "id": "view-in-github"
   },
   "source": [
    "<a href=\"https://colab.research.google.com/github/jorgeerrz/mistaken_mice/blob/master/mistaken_mice.ipynb\" target=\"_parent\"><img src=\"https://colab.research.google.com/assets/colab-badge.svg\" alt=\"Open In Colab\"/></a>"
   ]
  },
  {
   "cell_type": "markdown",
   "metadata": {
    "colab_type": "text",
    "id": "f5lHZMY_O1jz"
   },
   "source": [
    "# Mistaken Mice notebook\n",
    "\n",
    "2020 NMA academy project, mistaken mice group, pod 173 antique cicada"
   ]
  },
  {
   "cell_type": "markdown",
   "metadata": {
    "colab_type": "text",
    "id": "0boUCcI2NwyL"
   },
   "source": [
    "# Import packages and functions"
   ]
  },
  {
   "cell_type": "code",
   "execution_count": 1,
   "metadata": {
    "colab": {
     "base_uri": "https://localhost:8080/",
     "height": 153
    },
    "colab_type": "code",
    "id": "qg1QinE8NvoK",
    "outputId": "6608e802-8437-4735-bb81-4886741fd512"
   },
   "outputs": [
    {
     "name": "stdout",
     "output_type": "stream",
     "text": [
      "Cloning into 'mistaken_mice'...\n",
      "remote: Enumerating objects: 197, done.\u001b[K\n",
      "remote: Counting objects: 100% (197/197), done.\u001b[K\n",
      "remote: Compressing objects: 100% (135/135), done.\u001b[K\n",
      "remote: Total 197 (delta 110), reused 142 (delta 61), pack-reused 0\u001b[K\n",
      "Receiving objects: 100% (197/197), 1.45 MiB | 11.00 MiB/s, done.\n",
      "Resolving deltas: 100% (110/110), done.\n",
      "/content/mistaken_mice\n"
     ]
    }
   ],
   "source": [
    "# to import the functions we wrote, clone the git repo\n",
    "!git clone https://github.com/jorgeerrz/mistaken_mice.git\n",
    "%cd mistaken_mice\n",
    "#alternatively, run the notebook locally, then just comment the lines above\n",
    "\n",
    "# from filter import *\n",
    "# from summarise_dataset import *\n",
    "# from PCA_fun import neurons_PCA\n",
    "# from GLM import *\n",
    "\n",
    "%load_ext autoreload\n",
    "%autoreload 2"
   ]
  },
  {
   "cell_type": "code",
   "execution_count": 100,
   "metadata": {
    "colab": {},
    "colab_type": "code",
    "id": "IgseKpDx0eR0"
   },
   "outputs": [],
   "source": [
    "from filter import *\n",
    "from summarise_dataset import *\n",
    "from PCA_fun import neurons_PCA\n",
    "from GLM import *\n",
    "from rebin import *"
   ]
  },
  {
   "cell_type": "markdown",
   "metadata": {
    "colab_type": "text",
    "id": "bEqdz1ZUMaj1"
   },
   "source": [
    "# Loading of Steinmetz data"
   ]
  },
  {
   "cell_type": "code",
   "execution_count": 3,
   "metadata": {
    "cellView": "both",
    "colab": {},
    "colab_type": "code",
    "id": "TLWjKq8bLDqm"
   },
   "outputs": [],
   "source": [
    "#@title Data retrieval\n",
    "import os, requests\n",
    "\n",
    "fname = []\n",
    "for j in range(3):\n",
    "  fname.append('steinmetz_part%d.npz'%j)\n"
   ]
  },
  {
   "cell_type": "code",
   "execution_count": 4,
   "metadata": {
    "colab": {},
    "colab_type": "code",
    "id": "iaKfUWueF1Au"
   },
   "outputs": [],
   "source": [
    "# skip if you already downloaded the data\n",
    "url = [\"https://osf.io/agvxh/download\"]\n",
    "url.append(\"https://osf.io/uv3mw/download\")\n",
    "url.append(\"https://osf.io/ehmw2/download\")\n",
    "\n",
    "for j in range(len(url)):\n",
    "  if not os.path.isfile(fname[j]):\n",
    "    try:\n",
    "      r = requests.get(url[j])\n",
    "    except requests.ConnectionError:\n",
    "      print(\"!!! Failed to download data !!!\")\n",
    "    else:\n",
    "      if r.status_code != requests.codes.ok:\n",
    "        print(\"!!! Failed to download data !!!\")\n",
    "      else:\n",
    "        with open(fname[j], \"wb\") as fid:\n",
    "          fid.write(r.content)"
   ]
  },
  {
   "cell_type": "code",
   "execution_count": 5,
   "metadata": {
    "cellView": "form",
    "colab": {},
    "colab_type": "code",
    "id": "sffzC_hyLgWZ"
   },
   "outputs": [],
   "source": [
    "#@title Data loading\n",
    "import numpy as np\n",
    "\n",
    "alldat = np.array([])\n",
    "for j in range(len(fname)):\n",
    "  alldat = np.hstack((alldat, np.load('steinmetz_part%d.npz'%j, allow_pickle=True)['dat']))\n"
   ]
  },
  {
   "cell_type": "markdown",
   "metadata": {
    "colab_type": "text",
    "id": "1OJ6WyvaNhSC"
   },
   "source": [
    "# Filter the data"
   ]
  },
  {
   "cell_type": "code",
   "execution_count": null,
   "metadata": {
    "colab": {
     "base_uri": "https://localhost:8080/",
     "height": 35
    },
    "colab_type": "code",
    "id": "fWxFSnWUORoi",
    "outputId": "6c035394-6dc9-4fa0-be5e-975639061e79"
   },
   "outputs": [
    {
     "name": "stdout",
     "output_type": "stream",
     "text": [
      "(734, 10, 250)\n"
     ]
    }
   ],
   "source": [
    "# need to loop over all sessions to pass as input to summarise_data function in next step\n",
    "first_session_filtered_VISp = filter_spikes(alldat,0,'VISp') \n",
    "first_session_filtered = filter_spikes(alldat,0) \n",
    "print(np.shape(first_session_filtered['spks']))"
   ]
  },
  {
   "cell_type": "markdown",
   "metadata": {
    "colab_type": "text",
    "id": "w2md3ohKNY4m"
   },
   "source": [
    "# Summarise the filtered data"
   ]
  },
  {
   "cell_type": "code",
   "execution_count": null,
   "metadata": {
    "colab": {
     "base_uri": "https://localhost:8080/",
     "height": 501
    },
    "colab_type": "code",
    "id": "aAG-jPcSjkrC",
    "outputId": "f853a8ed-8359-404d-eaf0-2ab13607f32c"
   },
   "outputs": [
    {
     "data": {
      "text/plain": [
       "{'n_neurons': array([ 734., 1070.,  619., 1769., 1077., 1169.,  584., 1156.,  788.,\n",
       "        1172.,  857.,  698.,  983.,  756.,  743.,  474.,  565., 1089.,\n",
       "         606.,  899.,  578.,  646., 1268., 1337.,  885., 1056.,  563.,\n",
       "         549.,  750.,  942.,  977.,  522.,  613.,  781.,  795.,  680.,\n",
       "        1055.,  805., 1348.]),\n",
       " 'n_trials': array([214., 251., 228., 249., 254., 290., 252., 250., 372., 447., 342.,\n",
       "        340., 300., 268., 404., 280., 224., 316., 247., 235., 124., 444.,\n",
       "        151., 187., 261., 178., 253., 142., 128., 143., 237., 260., 191.,\n",
       "        296., 311., 258., 181., 199., 343.]),\n",
       " 'n_timebins': array([250., 250., 250., 250., 250., 250., 250., 250., 250., 250., 250.,\n",
       "        250., 250., 250., 250., 250., 250., 250., 250., 250., 250., 250.,\n",
       "        250., 250., 250., 250., 250., 250., 250., 250., 250., 250., 250.,\n",
       "        250., 250., 250., 250., 250., 250.])}"
      ]
     },
     "execution_count": 13,
     "metadata": {
      "tags": []
     },
     "output_type": "execute_result"
    },
    {
     "data": {
      "image/png": "[encoded data removed]",
      "text/plain": [
       "<Figure size 504x216 with 2 Axes>"
      ]
     },
     "metadata": {
      "tags": []
     },
     "output_type": "display_data"
    }
   ],
   "source": [
    "summarise_dataset(alldat) # should be filtered data, but alldat is used here as an example\n"
   ]
  },
  {
   "cell_type": "markdown",
   "metadata": {
    "colab_type": "text",
    "id": "YhNNDzpunEyE"
   },
   "source": [
    "# Change the time bin\n",
    "Optional step"
   ]
  },
  {
   "cell_type": "code",
   "execution_count": null,
   "metadata": {
    "colab": {
     "base_uri": "https://localhost:8080/",
     "height": 35
    },
    "colab_type": "code",
    "id": "8CoZP8kenfne",
    "outputId": "af5ec372-3dcf-4fbd-cef5-605d2a202b70"
   },
   "outputs": [
    {
     "data": {
      "text/plain": [
       "(734, 10)"
      ]
     },
     "execution_count": 14,
     "metadata": {
      "tags": []
     },
     "output_type": "execute_result"
    }
   ],
   "source": [
    "dat = first_session_filtered\n",
    "NT = dat['spks'].shape[-1]\n",
    "minT = 50\n",
    "maxT = 130\n",
    "NN = dat['spks'].shape[0]\n",
    "\n",
    "droll = np.reshape(dat['spks'][:,:,minT:maxT], (NN,-1))\n",
    "\n",
    "dat['spks'][:,:,minT:maxT].mean(axis=2).shape\n"
   ]
  },
  {
   "cell_type": "code",
   "execution_count": 19,
   "metadata": {
    "colab": {},
    "colab_type": "code",
    "id": "e5VuS_U5zXk6"
   },
   "outputs": [],
   "source": [
    "def neurons_time_PCA(dat,tVar,minT,maxT,toplot=False):\n",
    "    #Perform PCA with the neurons of a single session. Components are estimated by considering activity in the range minT:maxT\n",
    "    #Example input neurons_PCA(dat,0.9,51,130)\n",
    "\n",
    "    import numpy as np\n",
    "    import matplotlib.pyplot as plt\n",
    "    from sklearn.decomposition import PCA\n",
    "\n",
    "    NT = dat['spks'].shape[-1]\n",
    "\n",
    "    #@title top PC directions from stimulus + response period, with projections of the entire duration\n",
    "    NN = dat['spks'].shape[0]\n",
    "    #All trials are concatenated to result in a session-long time series for each neuron:\n",
    "    #droll = np.reshape(dat['spks'][:,:,minT:maxT], (NN,-1)) # first 80 bins = 1.6 sec\n",
    "    #(N.B. only the time bins for stimulus + response are used!)\n",
    "\n",
    "    #droll = droll - np.mean(droll, axis=1)[:, np.newaxis] #center each neuron's response vector\n",
    "    #(np.newaxis is used to add an additional dimension, to be consistent with the original droll matrix)\n",
    "\n",
    "    droll = reshaping_features(dat['spks']) #[:,:,minT:maxT].mean(axis=2)\n",
    "    droll = droll.T\n",
    "    nPCs = min(droll.shape) #set how many PCs we are interested in (all of them)\n",
    "\n",
    "    model = PCA(n_components = nPCs).fit(droll.T) #perform PCA!\n",
    "    weights = model.components_ #extract the weight of each PC dimension for each neuron\n",
    "    PCneurons = weights @ droll #multiply each neuron by its corresponding weights\n",
    "    #(N.B. the entire trial durations for each neuron are multiplied by the weight! But weight were extracted only from a portion)\n",
    "    #PCneurons = np.reshape(PCneurons, (nPCs, -1, NT)) #session-long time series are split again into trial-long time series\n",
    "\n",
    "    explVar = model.explained_variance_\n",
    "    \n",
    "\n",
    "    fracVar = explVar/np.sum(explVar) #fraction of explained variance for each PC\n",
    "    cumVar = np.cumsum(fracVar) #cumulative sum of explained variance\n",
    "    PCrange = np.max(np.where(cumVar<=tVar)) #The lowest number of components that explain the threshold variance\n",
    "    \n",
    "    if toplot == True:\n",
    "        plt.figure()\n",
    "        plt.bar(range(nPCs),explVar)\n",
    "        plt.xlabel('Eigenvector')\n",
    "        plt.ylabel('Explained variance')\n",
    "        \n",
    "        plt.plot([PCrange,PCrange],[0,np.max(explVar)],'r')\n",
    "\n",
    "        #@title The top PCs capture most variance across the brain. What do they care about?\n",
    "        plt.figure(figsize= (20, 6))\n",
    "    \n",
    "        for iPC in range((PCneurons).shape[0]):\n",
    "\n",
    "          this_pc = PCneurons[iPC]\n",
    "\n",
    "          plt.plot(this_pc.mean(axis=0))\n",
    "\n",
    "          if iPC==0:\n",
    "            plt.legend(['right only', 'left only', 'neither', 'both'], fontsize=8)\n",
    "            plt.xlabel('binned time')\n",
    "            plt.ylabel('Component value')\n",
    "          # plt.title('PC %d'%j)\n",
    "\n",
    "    dat['PCs'] = PCneurons\n",
    "    dat['weights'] = weights\n",
    "    dat['PCrange'] = PCrange+1\n",
    "\n",
    "    return dat"
   ]
  },
  {
   "cell_type": "markdown",
   "metadata": {
    "colab_type": "text",
    "id": "jMq0xCzlvn2G"
   },
   "source": [
    "# Filter, PCA, and Model one session"
   ]
  },
  {
   "cell_type": "code",
   "execution_count": 77,
   "metadata": {
    "colab": {},
    "colab_type": "code",
    "id": "ExGgrgqw5KXU"
   },
   "outputs": [],
   "source": [
    "def rebin(dat, minT, maxT, newbin, oldbin = 0.01):\n",
    "  ''' takes spike counts from 'spks' and rebins them into a new time bin specified by newbin\n",
    "\n",
    "  Args:\n",
    "  input = dict for the session (dat['spks'], dimensions: neurons * trials * time bins)\n",
    "  newbin = size of the new time bin in seconds\n",
    "  oldbin = size of old time bin. default 0.01s\n",
    "\n",
    "  Returns:\n",
    "  newcount = spike count in new bin\n",
    "  newbin = size of new bin size\n",
    "  '''\n",
    "\n",
    "  #assert newbin > oldbin 'new bin size must be bigger than old bin size'\n",
    "  input = dat['spks'][:,:,minT:maxT]\n",
    "  # initialize variables\n",
    "  poolbin = newbin/oldbin # calculates numbers of bins to be pooled into one new bin\n",
    "  newcount = np.zeros((input.shape[0],input.shape[1],int(input.shape[2]/poolbin))) # create matrix of zeros with appropriate third dimension (number of bins)\n",
    "\n",
    "\n",
    "  index = list(range(int(input.shape[2]/poolbin)))\n",
    "  for idx in index:\n",
    "      # sum up counts from one step to the next\n",
    "      slc = input[:,:,int(idx*poolbin):int((idx+1)*poolbin)]\n",
    "      newcount[:,:,idx] = np.sum(slc, axis=2)\n",
    "  \n",
    "  dat2 = dat.copy()\n",
    "  dat2['spks'] = newcount\n",
    "\n",
    "  return dat2 #newcount, newbin"
   ]
  },
  {
   "cell_type": "code",
   "execution_count": 105,
   "metadata": {
    "colab": {
     "base_uri": "https://localhost:8080/",
     "height": 34
    },
    "colab_type": "code",
    "id": "j15ByfI71MYw",
    "outputId": "d179c75f-d8ed-42fe-da18-1848214e8ce6"
   },
   "outputs": [
    {
     "data": {
      "text/plain": [
       "((0, 0, 1), (0, 0, 250))"
      ]
     },
     "execution_count": 105,
     "metadata": {
      "tags": []
     },
     "output_type": "execute_result"
    }
   ],
   "source": [
    "filtered = filter_spikes(alldat,session,unfair_only=True,brain_area=brain_areas)\n",
    "rebinned = rebin(filtered, 50, 250, 2)\n",
    "rebinned['spks'].shape, filtered['spks'].shape"
   ]
  },
  {
   "cell_type": "code",
   "execution_count": 134,
   "metadata": {
    "colab": {
     "base_uri": "https://localhost:8080/",
     "height": 102
    },
    "colab_type": "code",
    "id": "o6tqJSgMQR9c",
    "outputId": "41910eb2-ad11-419a-98dc-dca31861b2b2"
   },
   "outputs": [
    {
     "data": {
      "text/plain": [
       "array([0.45343092, 0.1079416 , 0.1152742 , 0.2005863 , 0.14442857,\n",
       "       0.31069589, 0.68414395, 0.24833898, 0.72584557, 0.13238905,\n",
       "       0.61238812, 0.41280501, 0.36661618, 0.70933953, 0.24217612,\n",
       "       0.63032053, 0.15734123, 0.13828503, 0.63739845, 0.59220953,\n",
       "       0.16024011, 0.70944127, 0.78592959, 0.72247484])"
      ]
     },
     "execution_count": 134,
     "metadata": {
      "tags": []
     },
     "output_type": "execute_result"
    }
   ],
   "source": [
    "probs[:,1]"
   ]
  },
  {
   "cell_type": "code",
   "execution_count": 90,
   "metadata": {
    "colab": {
     "base_uri": "https://localhost:8080/",
     "height": 469
    },
    "colab_type": "code",
    "id": "dzCIKcO_F1Bq",
    "outputId": "b7c8942c-dc6d-4ed1-b869-6bbdbd25bebf"
   },
   "outputs": [
    {
     "name": "stdout",
     "output_type": "stream",
     "text": [
      "Number of PCs: 4\n",
      "Accuracies: [0, 0, 0, 0, 0, 0, 0, 0, 0, 0]\n",
      "Mean Accuracy: 0.0\n",
      "Predictions: [1.0, 1.0, -1.0, 1.0, 1.0, 1.0, 1.0, 1.0, -1.0, 1.0]\n",
      "Actual: [-1. -1.  1. -1. -1. -1. -1. -1.  1. -1.]\n",
      "Probs: [[0.47997611 0.52002389]\n",
      " [0.46386737 0.53613263]\n",
      " [0.66393556 0.33606444]\n",
      " [0.46971293 0.53028707]\n",
      " [0.47136483 0.52863517]\n",
      " [0.47514608 0.52485392]\n",
      " [0.47227613 0.52772387]\n",
      " [0.47136084 0.52863916]\n",
      " [0.66358847 0.33641153]\n",
      " [0.47165904 0.52834096]]\n",
      "Brier score: 3.1122502891017296\n",
      "Weight right: 0.2 weight left: 0.8\n",
      "Percent Left: 0.2\n",
      "Percent Right: 0.8\n"
     ]
    },
    {
     "data": {
      "text/plain": [
       "[<matplotlib.lines.Line2D at 0x7fb8f001a6d0>]"
      ]
     },
     "execution_count": 90,
     "metadata": {},
     "output_type": "execute_result"
    },
    {
     "data": {
      "image/png": "[encoded data removed]",
      "text/plain": [
       "<Figure size 432x288 with 1 Axes>"
      ]
     },
     "metadata": {},
     "output_type": "display_data"
    }
   ],
   "source": [
    "from sklearn.model_selection import *\n",
    "\n",
    "session = 0\n",
    "brain_areas = [\"MOs\"]\n",
    "\n",
    "\n",
    "filtered = filter_spikes(alldat,session,unfair_only=True,brain_area=brain_areas)\n",
    "#filtered = rebin(filtered, 50, 250, 2)\n",
    "dat = neurons_PCA(filtered,0.9,50,250,toplot=False)\n",
    "#dat['PCs'] = dat['PCs'][0:dat['PCrange'],:]\n",
    "\n",
    "lambda_L2 = 1\n",
    "penalty = \"l2\"\n",
    "l1args = {}\n",
    "left_bias = np.mean((filtered['chcs'])==1)\n",
    "choice_bias = [left_bias if left_bias > .5 else (1.0-left_bias)]\n",
    "w = {-1:left_bias, 1:(1-left_bias)}\n",
    "\n",
    "\n",
    "\n",
    "logreg = LogisticRegression(penalty = penalty, C = lambda_L2, **l1args,class_weight=w).fit(dat['PCs'].T, filtered['chcs'])\n",
    "splitter = LeaveOneOut()\n",
    "splits = splitter.split(dat['PCs'].T)\n",
    "accuracies=[]\n",
    "predictions = []\n",
    "probs = []\n",
    "#Manual K-1 corss validation, saving predicitons:\n",
    "for fit_trials,test_trial in splits:\n",
    "    logreg.fit((dat['PCs'][:,fit_trials]).T, dat['chcs'][fit_trials])\n",
    "    prediction = logreg.predict(dat['PCs'][:,test_trial].T)[0]\n",
    "    prob = logreg.predict_proba(dat['PCs'][:,test_trial].T)[0]\n",
    "    actual = dat['chcs'][test_trial][0]\n",
    "    accuracy = int(actual == prediction)\n",
    "    predictions.append(prediction)\n",
    "    accuracies.append(accuracy)\n",
    "    probs.append(prob)\n",
    "\n",
    "probs = np.array(probs)\n",
    "mprobs = [max(prob) for prob in probs]\n",
    "\n",
    "print('Number of PCs: '+str(dat['PCrange']))\n",
    "\n",
    "print('Accuracies: '+str(accuracies))\n",
    "print('Mean Accuracy: '+str(np.mean(accuracies)))\n",
    "print('Predictions: '+ str(predictions))\n",
    "print('Actual: '+ str(filtered['chcs']))\n",
    "print('Probs: '+ str(probs))\n",
    "actual_choice_probs = [(prob[0] if choice==-1 else prob[1]) for prob,choice in zip(probs,filtered['chcs'])]\n",
    "print('Brier score: '+str(np.sum((probs[:,1] - (filtered['chcs'] + 1)/2)**2)))\n",
    "print('Weight right: '+str(w[-1])+' weight left: '+str(w[1]))\n",
    "print('Percent Left: ' +str(np.mean((filtered['chcs'])==1)))\n",
    "print('Percent Right: ' +str(np.mean((filtered['chcs'])==-1)))\n",
    "\n",
    "plt.plot(predictions,linewidth=0,marker='o')\n",
    "plt.plot(filtered['chcs'],linewidth=0,marker='x')\n",
    "\n"
   ]
  },
  {
   "cell_type": "markdown",
   "metadata": {
    "colab_type": "text",
    "id": "DjJS4F7Ivn2L"
   },
   "source": [
    "# Filter, PCA, and Model all sessions (with neurons)"
   ]
  },
  {
   "cell_type": "code",
   "execution_count": 96,
   "metadata": {
    "colab": {
     "base_uri": "https://localhost:8080/",
     "height": 68
    },
    "colab_type": "code",
    "id": "R4Tqrsm8F1B1",
    "outputId": "69d327da-6ed0-46fd-a7e1-aa2c44244d99"
   },
   "outputs": [
    {
     "name": "stdout",
     "output_type": "stream",
     "text": [
      "Session# 0 accuracy = 0.7 accuracy over bias = [-0.1], trial count= 10 PC count= 10\n",
      "Session# 1 accuracy = 0.75 accuracy over bias = [0.2], trial count= 20 PC count= 20\n",
      "Session# 2 accuracy = 0.7142857142857143 accuracy over bias = [0.0952381], trial count= 21 PC count= 21\n",
      "Session# 3 accuracy = 0.5 accuracy over bias = [-0.2], trial count= 10 PC count= 10\n",
      "Session# 4 accuracy = 0.8095238095238095 accuracy over bias = [0.04761905], trial count= 21 PC count= 21\n",
      "Session# 5 accuracy = 0.47368421052631576 accuracy over bias = [-0.10526316], trial count= 19 PC count= 19\n",
      "Session# 6 accuracy = 0.9166666666666666 accuracy over bias = [0.16666667], trial count= 12 PC count= 12\n",
      "Session# 7 accuracy = 0.9166666666666666 accuracy over bias = [0.25], trial count= 12 PC count= 12\n",
      "Session# 8 accuracy = 1.0 accuracy over bias = [0.33333333], trial count= 15 PC count= 15\n",
      "Session# 9 accuracy = 0.7916666666666666 accuracy over bias = [0.16666667], trial count= 24 PC count= 24\n",
      "Session# 10 accuracy = 0.9166666666666666 accuracy over bias = [0.33333333], trial count= 24 PC count= 24\n",
      "Session# 11 accuracy = 0.6666666666666666 accuracy over bias = [0.05555556], trial count= 18 PC count= 18\n",
      "Session# 12 accuracy = 0.9333333333333333 accuracy over bias = [0.13333333], trial count= 15 PC count= 15\n",
      "Session# 13 accuracy = 0.9166666666666666 accuracy over bias = [0.41666667], trial count= 12 PC count= 12\n",
      "Session# 14 accuracy = 0.8235294117647058 accuracy over bias = [0.11764706], trial count= 17 PC count= 17\n",
      "Session# 15 accuracy = 0.9166666666666666 accuracy over bias = [0.16666667], trial count= 12 PC count= 12\n",
      "Session# 16 accuracy = 0.75 accuracy over bias = [0.25], trial count= 12 PC count= 12\n",
      "Session# 17 accuracy = 0.6153846153846154 accuracy over bias = [-0.07692308], trial count= 13 PC count= 13\n",
      "Session# 18 accuracy = 0.875 accuracy over bias = [0.375], trial count= 16 PC count= 16\n",
      "Session# 19 accuracy = 0.7419354838709677 accuracy over bias = [0.03225806], trial count= 31 PC count= 31\n",
      "Session# 20 accuracy = 0.2857142857142857 accuracy over bias = [-0.42857143], trial count= 7 PC count= 7\n",
      "Session# 21 accuracy = 0.875 accuracy over bias = [0.05], trial count= 40 PC count= 40\n"
     ]
    },
    {
     "ename": "ValueError",
     "evalue": "This solver needs samples of at least 2 classes in the data, but the data contains only one class: 1.0",
     "output_type": "error",
     "traceback": [
      "\u001b[0;31m---------------------------------------------------------------------------\u001b[0m",
      "\u001b[0;31mValueError\u001b[0m                                Traceback (most recent call last)",
      "\u001b[0;32m<ipython-input-96-23f30ba410a7>\u001b[0m in \u001b[0;36m<module>\u001b[0;34m\u001b[0m\n\u001b[1;32m     29\u001b[0m         \u001b[0mprobs\u001b[0m \u001b[0;34m=\u001b[0m \u001b[0;34m[\u001b[0m\u001b[0;34m]\u001b[0m\u001b[0;34m\u001b[0m\u001b[0;34m\u001b[0m\u001b[0m\n\u001b[1;32m     30\u001b[0m         \u001b[0;32mfor\u001b[0m \u001b[0mfit_trials\u001b[0m\u001b[0;34m,\u001b[0m\u001b[0mtest_trial\u001b[0m \u001b[0;32min\u001b[0m \u001b[0msplits\u001b[0m\u001b[0;34m:\u001b[0m\u001b[0;34m\u001b[0m\u001b[0;34m\u001b[0m\u001b[0m\n\u001b[0;32m---> 31\u001b[0;31m             \u001b[0mlogreg\u001b[0m\u001b[0;34m.\u001b[0m\u001b[0mfit\u001b[0m\u001b[0;34m(\u001b[0m\u001b[0;34m(\u001b[0m\u001b[0mdat\u001b[0m\u001b[0;34m[\u001b[0m\u001b[0;34m'PCs'\u001b[0m\u001b[0;34m]\u001b[0m\u001b[0;34m[\u001b[0m\u001b[0;34m:\u001b[0m\u001b[0;34m,\u001b[0m\u001b[0mfit_trials\u001b[0m\u001b[0;34m]\u001b[0m\u001b[0;34m)\u001b[0m\u001b[0;34m.\u001b[0m\u001b[0mT\u001b[0m\u001b[0;34m,\u001b[0m \u001b[0mdat\u001b[0m\u001b[0;34m[\u001b[0m\u001b[0;34m'chcs'\u001b[0m\u001b[0;34m]\u001b[0m\u001b[0;34m[\u001b[0m\u001b[0mfit_trials\u001b[0m\u001b[0;34m]\u001b[0m\u001b[0;34m)\u001b[0m\u001b[0;34m\u001b[0m\u001b[0;34m\u001b[0m\u001b[0m\n\u001b[0m\u001b[1;32m     32\u001b[0m             \u001b[0mprediction\u001b[0m \u001b[0;34m=\u001b[0m \u001b[0mlogreg\u001b[0m\u001b[0;34m.\u001b[0m\u001b[0mpredict\u001b[0m\u001b[0;34m(\u001b[0m\u001b[0mdat\u001b[0m\u001b[0;34m[\u001b[0m\u001b[0;34m'PCs'\u001b[0m\u001b[0;34m]\u001b[0m\u001b[0;34m[\u001b[0m\u001b[0;34m:\u001b[0m\u001b[0;34m,\u001b[0m\u001b[0mtest_trial\u001b[0m\u001b[0;34m]\u001b[0m\u001b[0;34m.\u001b[0m\u001b[0mT\u001b[0m\u001b[0;34m)\u001b[0m\u001b[0;34m[\u001b[0m\u001b[0;36m0\u001b[0m\u001b[0;34m]\u001b[0m\u001b[0;34m\u001b[0m\u001b[0;34m\u001b[0m\u001b[0m\n\u001b[1;32m     33\u001b[0m             \u001b[0mprob\u001b[0m \u001b[0;34m=\u001b[0m \u001b[0mlogreg\u001b[0m\u001b[0;34m.\u001b[0m\u001b[0mpredict_proba\u001b[0m\u001b[0;34m(\u001b[0m\u001b[0mdat\u001b[0m\u001b[0;34m[\u001b[0m\u001b[0;34m'PCs'\u001b[0m\u001b[0;34m]\u001b[0m\u001b[0;34m[\u001b[0m\u001b[0;34m:\u001b[0m\u001b[0;34m,\u001b[0m\u001b[0mtest_trial\u001b[0m\u001b[0;34m]\u001b[0m\u001b[0;34m.\u001b[0m\u001b[0mT\u001b[0m\u001b[0;34m)\u001b[0m\u001b[0;34m[\u001b[0m\u001b[0;36m0\u001b[0m\u001b[0;34m]\u001b[0m\u001b[0;34m\u001b[0m\u001b[0;34m\u001b[0m\u001b[0m\n",
      "\u001b[0;32m~/opt/anaconda3/lib/python3.7/site-packages/sklearn/linear_model/_logistic.py\u001b[0m in \u001b[0;36mfit\u001b[0;34m(self, X, y, sample_weight)\u001b[0m\n\u001b[1;32m   1372\u001b[0m             raise ValueError(\"This solver needs samples of at least 2 classes\"\n\u001b[1;32m   1373\u001b[0m                              \u001b[0;34m\" in the data, but the data contains only one\"\u001b[0m\u001b[0;34m\u001b[0m\u001b[0;34m\u001b[0m\u001b[0m\n\u001b[0;32m-> 1374\u001b[0;31m                              \" class: %r\" % classes_[0])\n\u001b[0m\u001b[1;32m   1375\u001b[0m \u001b[0;34m\u001b[0m\u001b[0m\n\u001b[1;32m   1376\u001b[0m         \u001b[0;32mif\u001b[0m \u001b[0mlen\u001b[0m\u001b[0;34m(\u001b[0m\u001b[0mself\u001b[0m\u001b[0;34m.\u001b[0m\u001b[0mclasses_\u001b[0m\u001b[0;34m)\u001b[0m \u001b[0;34m==\u001b[0m \u001b[0;36m2\u001b[0m\u001b[0;34m:\u001b[0m\u001b[0;34m\u001b[0m\u001b[0;34m\u001b[0m\u001b[0m\n",
      "\u001b[0;31mValueError\u001b[0m: This solver needs samples of at least 2 classes in the data, but the data contains only one class: 1.0"
     ]
    }
   ],
   "source": [
    "allb = ['ACA','ACB','APN', 'AUD', 'BLA', 'BMA', 'CA', 'CA1', 'CA2', 'CA3', 'CL', 'COA',\n",
    " 'CP','DG','DP','EP','EPd','GPe','IC' ,'ILA', 'LD', 'LGd' ,'LH', 'LP', 'LS',\n",
    " 'LSc','LSr','MB','MD','MEA','MG','MOp','MOs','MRN','MS','NB','OLF','ORB',\n",
    " 'ORBm','OT','PAG','PIR','PL','PO','POL','POST','PT','RN','RSP','RT',\n",
    " 'SCig','SCm','SCs','SCsg','SI','SNr','SPF','SSp','SSs','SUB','TH','TT',\n",
    " 'VAL','VISa','VISam','VISl','VISp','VISpm','VISrl','VPL','VPM','ZI']\n",
    "\n",
    "brain_areas = ['MOs']\n",
    "brain_areas = allb\n",
    "\n",
    "for session in range(len(alldat)):\n",
    "    if np.sum(np.isin(alldat[session]['brain_area'],brain_areas))>0:\n",
    "        filtered = filter_spikes(alldat,session,unfair_only=True,chosey_only=True, nonzero_only=True,brain_area=brain_areas)\n",
    "        #filtered = rebin(filtered, 50, 250, 2)\n",
    "        dat = neurons_PCA(filtered,0.9,0,250)\n",
    "      # $ dat['PCs'] = dat['PCs'][0:dat['PCrange'],:]\n",
    "        lambda_L2 = 1\n",
    "        penalty = \"none\"\n",
    "        l1args = {}\n",
    "        left_bias = np.mean((filtered['chcs'])==1)\n",
    "        choice_bias = [left_bias if left_bias > .5 else (1.0-left_bias)]\n",
    "        w = {-1:left_bias, 1:(1-left_bias)}\n",
    "       # l1args = {'solver':\"saga\", 'max_iter':5000}\n",
    "        logreg = LogisticRegression(penalty = penalty, C = lambda_L2, **l1args)\n",
    "        splitter = LeaveOneOut()\n",
    "        splits = splitter.split(dat['PCs'].T)\n",
    "        accuracies=[]\n",
    "        predictions = []\n",
    "        probs = []\n",
    "        for fit_trials,test_trial in splits:\n",
    "            logreg.fit((dat['PCs'][:,fit_trials]).T, dat['chcs'][fit_trials])\n",
    "            prediction = logreg.predict(dat['PCs'][:,test_trial].T)[0]\n",
    "            prob = logreg.predict_proba(dat['PCs'][:,test_trial].T)[0]\n",
    "            actual = dat['chcs'][test_trial][0]\n",
    "            accuracy = int(actual == prediction)\n",
    "            predictions.append(prediction)\n",
    "            accuracies.append(accuracy)\n",
    "            probs.append(prob)   \n",
    "        probs = np.array(probs)\n",
    "        accuracies = np.array(accuracies)\n",
    "        \n",
    "        aob = accuracies.mean() - choice_bias\n",
    "        print(\"Session# \"+ str(session)+\" accuracy = \"+str(accuracies.mean())+\" accuracy over bias = \"+str(accuracies.mean() - choice_bias) + \", trial count= \"+ str(len(accuracies)),\"PC count= \"+ str(dat['PCs'].shape[0]))"
   ]
  },
  {
   "cell_type": "markdown",
   "metadata": {
    "colab_type": "text",
    "id": "u7MW_crovn2P"
   },
   "source": [
    "# Filter, PCA, and Model w/ different time bins"
   ]
  },
  {
   "cell_type": "code",
   "execution_count": null,
   "metadata": {
    "colab": {},
    "colab_type": "code",
    "id": "LgEtn_izvn2Q",
    "outputId": "d3b2a8a0-725e-43aa-8ac3-16eaceac5c2a"
   },
   "outputs": [],
   "source": [
    "binl = 25\n",
    "bins = [x for x in range(0,250,binl)]\n",
    "brain_areas = [\"MOp\"]\n",
    "\n",
    "for bin in bins:\n",
    "    session = 10\n",
    "    filtered = filter_spikes(alldat,session,unfair_only=True,brain_area=brain_areas)\n",
    "    dat = neurons_PCA(filtered,0.9,bin,bin+binl)\n",
    "    lambda_L2 = 1\n",
    "    penalty = \"l2\"\n",
    "    l1args = {}\n",
    "    logreg = LogisticRegression(penalty = penalty, C = lambda_L2, **l1args).fit(dat['PCs'].T, filtered['chcs'])\n",
    "    splitter = LeaveOneOut()\n",
    "    splits = splitter.split(dat['PCs'].T)\n",
    "    accuracies = cross_val_score(logreg,dat['PCs'].T, filtered['chcs'], cv=splits, verbose=0) # k=8 crossvalidation\n",
    "    print(\"Bin \"+str(bin)+\" to \"+str(bin+binl)+\" accuracy mean= \"+str(accuracies.mean())+ \", percent left \"+ str(np.mean((filtered['chcs'])==-1)))"
   ]
  },
  {
   "cell_type": "code",
   "execution_count": null,
   "metadata": {
    "colab": {},
    "colab_type": "code",
    "id": "3iNt_z5Wvn2T",
    "outputId": "17e7374d-23ce-4e49-bd57-246886117968"
   },
   "outputs": [
    {
     "data": {
      "text/plain": [
       "[(0, 178, 0),\n",
       " (1, 533, 0),\n",
       " (2, 228, 0),\n",
       " (3, 39, 0),\n",
       " (4, 0, 0),\n",
       " (5, 0, 0),\n",
       " (6, 0, 59),\n",
       " (7, 48, 0),\n",
       " (8, 142, 0),\n",
       " (9, 340, 0),\n",
       " (10, 0, 275),\n",
       " (11, 145, 0),\n",
       " (12, 34, 0),\n",
       " (13, 42, 0),\n",
       " (14, 0, 0),\n",
       " (15, 0, 0),\n",
       " (16, 0, 0),\n",
       " (17, 0, 313),\n",
       " (18, 179, 0),\n",
       " (19, 122, 0),\n",
       " (20, 0, 0),\n",
       " (21, 133, 92),\n",
       " (22, 190, 0),\n",
       " (23, 296, 0),\n",
       " (24, 94, 0),\n",
       " (25, 162, 0),\n",
       " (26, 103, 90),\n",
       " (27, 71, 0),\n",
       " (28, 0, 340),\n",
       " (29, 0, 0),\n",
       " (30, 0, 0),\n",
       " (31, 0, 0),\n",
       " (32, 0, 383),\n",
       " (33, 0, 0),\n",
       " (34, 75, 0),\n",
       " (35, 53, 0),\n",
       " (36, 77, 0),\n",
       " (37, 0, 0),\n",
       " (38, 141, 0)]"
      ]
     },
     "execution_count": 126,
     "metadata": {
      "tags": []
     },
     "output_type": "execute_result"
    }
   ],
   "source": [
    "[(session,np.sum(np.isin(alldat[session]['brain_area'],[\"VISam\", \"VISl\", \"VISp\", \"VISpm\", \"VISrl\"])), np.sum(np.isin(alldat[session]['brain_area'],[\"ACB\",\"CP\"]))) for session in range(len(alldat))]"
   ]
  },
  {
   "cell_type": "code",
   "execution_count": null,
   "metadata": {
    "colab": {},
    "colab_type": "code",
    "id": "vSIEIeFxvn2W",
    "outputId": "8ec09c9c-322b-446d-e727-3ca09aef2353"
   },
   "outputs": [
    {
     "name": "stdout",
     "output_type": "stream",
     "text": [
      "['ACA' 'ACB' 'APN' 'AUD' 'BLA' 'BMA' 'CA' 'CA1' 'CA2' 'CA3' 'CL' 'COA'\n",
      " 'CP' 'DG' 'DP' 'EP' 'EPd' 'GPe' 'IC' 'ILA' 'LD' 'LGd' 'LH' 'LP' 'LS'\n",
      " 'LSc' 'LSr' 'MB' 'MD' 'MEA' 'MG' 'MOp' 'MOs' 'MRN' 'MS' 'NB' 'OLF' 'ORB'\n",
      " 'ORBm' 'OT' 'PAG' 'PIR' 'PL' 'PO' 'POL' 'POST' 'PT' 'RN' 'RSP' 'RT'\n",
      " 'SCig' 'SCm' 'SCs' 'SCsg' 'SI' 'SNr' 'SPF' 'SSp' 'SSs' 'SUB' 'TH' 'TT'\n",
      " 'VAL' 'VISa' 'VISam' 'VISl' 'VISp' 'VISpm' 'VISrl' 'VPL' 'VPM' 'ZI'\n",
      " 'root']\n"
     ]
    }
   ],
   "source": [
    "aba = []\n",
    "for session in alldat:\n",
    "    for ba in session['brain_area']:\n",
    "        if ba not in aba:\n",
    "            aba.append(ba)\n",
    "            \n",
    "print(np.sort(aba))"
   ]
  },
  {
   "cell_type": "code",
   "execution_count": null,
   "metadata": {
    "colab": {},
    "colab_type": "code",
    "id": "5UyKO8owvn2a",
    "outputId": "c07ab51c-5b12-4bf4-ef22-a11bf67bcd8c"
   },
   "outputs": [
    {
     "data": {
      "text/plain": [
       "[<matplotlib.lines.Line2D at 0x7f9172cd0c90>]"
      ]
     },
     "execution_count": 180,
     "metadata": {
      "tags": []
     },
     "output_type": "execute_result"
    },
    {
     "data": {
      "image/png": "[encoded data removed]",
      "text/plain": [
       "<Figure size 432x288 with 1 Axes>"
      ]
     },
     "metadata": {
      "tags": []
     },
     "output_type": "display_data"
    }
   ],
   "source": [
    "lams = np.logspace(-4,4,num=9)\n",
    "aobs = []\n",
    "accs = []\n",
    "for lam in lams:\n",
    "    session = 10\n",
    "    filtered = filter_spikes(alldat,session,unfair_only=True,chosey_only=True, nonzero_only=True,brain_area=brain_areas)\n",
    "    dat = neurons_PCA(filtered,0.9,0,250)\n",
    "    lambda_L2 = lam\n",
    "    penalty = \"l2\"\n",
    "    l1args = {}\n",
    "    logreg = LogisticRegression(penalty = penalty, C = lambda_L2, **l1args).fit(dat['PCs'].T, filtered['chcs'])\n",
    "    splitter = LeaveOneOut()\n",
    "    splits = splitter.split(dat['PCs'].T)\n",
    "    accuracies = cross_val_score(logreg,dat['PCs'].T, filtered['chcs'], cv=splits, verbose=0) # k=8 crossvalidation\n",
    "    left_bias = np.mean((filtered['chcs'])==-1)\n",
    "    choice_bias = [left_bias if left_bias > .5 else (1.0-left_bias)]\n",
    "    aob = accuracies.mean() - choice_bias\n",
    "    aobs.append(aob)\n",
    "    accs.append(accuracies.mean())\n",
    "plt.plot(np.log(lams),aobs)\n",
    "plt.plot(np.log(lams),accs)"
   ]
  },
  {
   "cell_type": "code",
   "execution_count": null,
   "metadata": {
    "colab": {},
    "colab_type": "code",
    "id": "8OAdwFcuvn2c"
   },
   "outputs": [],
   "source": [
    "from model_tester import test_model\n",
    "allb = ['ACA','ACB','APN', 'AUD', 'BLA', 'BMA', 'CA', 'CA1', 'CA2', 'CA3', 'CL', 'COA',\n",
    " 'CP','DG','DP','EP','EPd','GPe','IC' ,'ILA', 'LD', 'LGd' ,'LH', 'LP', 'LS',\n",
    " 'LSc','LSr','MB','MD','MEA','MG','MOp','MOs','MRN','MS','NB','OLF','ORB',\n",
    " 'ORBm','OT','PAG','PIR','PL','PO','POL','POST','PT','RN','RSP','RT',\n",
    " 'SCig','SCm','SCs','SCsg','SI','SNr','SPF','SSp','SSs','SUB','TH','TT',\n",
    " 'VAL','VISa','VISam','VISl','VISp','VISpm','VISrl','VPL','VPM','ZI']\n",
    "sessions = [*range(0,37)]\n",
    "l2=None\n",
    "\n",
    "output = test_model(alldat,sessions=sessions,brain_areas=allb,unfair_only=True,chosey_only=True,nonzero_only=True,l2_penalty=l2,toweight=False,verbose=True)\n",
    "\n",
    "\n",
    "plot_results(output)\n"
   ]
  },
  {
   "cell_type": "code",
   "execution_count": 116,
   "metadata": {},
   "outputs": [
    {
     "data": {
      "image/png": "[encoded data removed]",
      "text/plain": [
       "<Figure size 720x288 with 2 Axes>"
      ]
     },
     "metadata": {},
     "output_type": "display_data"
    }
   ],
   "source": [
    "plot_session(alldat, 38, select_areas = None, unfair_only=True,chosey_only=True,nonzero_only=True)"
   ]
  },
  {
   "cell_type": "code",
   "execution_count": null,
   "metadata": {},
   "outputs": [],
   "source": []
  }
 ],
 "metadata": {
  "colab": {
   "collapsed_sections": [],
   "include_colab_link": true,
   "name": "mistaken_mice.ipynb",
   "provenance": [],
   "toc_visible": true
  },
  "kernelspec": {
   "display_name": "Python 3",
   "language": "python",
   "name": "python3"
  },
  "language_info": {
   "codemirror_mode": {
    "name": "ipython",
    "version": 3
   },
   "file_extension": ".py",
   "mimetype": "text/x-python",
   "name": "python",
   "nbconvert_exporter": "python",
   "pygments_lexer": "ipython3",
   "version": "3.7.6"
  }
 },
 "nbformat": 4,
 "nbformat_minor": 4
}

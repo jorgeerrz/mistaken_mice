{
  "nbformat": 4,
  "nbformat_minor": 0,
  "metadata": {
    "colab": {
      "name": "mistaken_mice.ipynb",
      "provenance": [],
      "collapsed_sections": [],
      "toc_visible": true
    },
    "kernelspec": {
      "name": "python3",
      "display_name": "Python 3"
    }
  },
  "cells": [
    {
      "cell_type": "markdown",
      "metadata": {
        "id": "f5lHZMY_O1jz",
        "colab_type": "text"
      },
      "source": [
        "# Mistaken Mice notebook\n",
        "\n",
        "2020 NMA academy project, mistaken mice group, pod 173 antique cicada"
      ]
    },
    {
      "cell_type": "markdown",
      "metadata": {
        "id": "bEqdz1ZUMaj1",
        "colab_type": "text"
      },
      "source": [
        "# Loading of Steinmetz data"
      ]
    },
    {
      "cell_type": "code",
      "metadata": {
        "id": "TLWjKq8bLDqm",
        "colab_type": "code",
        "cellView": "form",
        "colab": {}
      },
      "source": [
        "#@title Data retrieval\n",
        "import os, requests\n",
        "\n",
        "fname = []\n",
        "for j in range(3):\n",
        "  fname.append('steinmetz_part%d.npz'%j)\n",
        "url = [\"https://osf.io/agvxh/download\"]\n",
        "url.append(\"https://osf.io/uv3mw/download\")\n",
        "url.append(\"https://osf.io/ehmw2/download\")\n",
        "\n",
        "for j in range(len(url)):\n",
        "  if not os.path.isfile(fname[j]):\n",
        "    try:\n",
        "      r = requests.get(url[j])\n",
        "    except requests.ConnectionError:\n",
        "      print(\"!!! Failed to download data !!!\")\n",
        "    else:\n",
        "      if r.status_code != requests.codes.ok:\n",
        "        print(\"!!! Failed to download data !!!\")\n",
        "      else:\n",
        "        with open(fname[j], \"wb\") as fid:\n",
        "          fid.write(r.content)\n"
      ],
      "execution_count": null,
      "outputs": []
    },
    {
      "cell_type": "code",
      "metadata": {
        "id": "sffzC_hyLgWZ",
        "colab_type": "code",
        "cellView": "form",
        "colab": {}
      },
      "source": [
        "#@title Data loading\n",
        "import numpy as np\n",
        "\n",
        "alldat = np.array([])\n",
        "for j in range(len(fname)):\n",
        "  alldat = np.hstack((alldat, np.load('steinmetz_part%d.npz'%j, allow_pickle=True)['dat']))\n"
      ],
      "execution_count": null,
      "outputs": []
    },
    {
      "cell_type": "markdown",
      "metadata": {
        "id": "0boUCcI2NwyL",
        "colab_type": "text"
      },
      "source": [
        "# Import packages and functions"
      ]
    },
    {
      "cell_type": "code",
      "metadata": {
        "id": "qg1QinE8NvoK",
        "colab_type": "code",
        "colab": {
          "base_uri": "https://localhost:8080/",
          "height": 248
        },
        "outputId": "83b3cdb7-407d-4f80-e851-c36dcb281f6d"
      },
      "source": [
        "import numpy as np\n",
        "from matplotlib import pyplot as plt\n",
        "import seaborn as sns\n",
        "\n",
        "# functions we wrote\n",
        "!git clone https://github.com/jorgeerrz/mistaken_mice.git\n",
        "\n",
        "%cd mistaken_mice\n",
        "\n",
        "import summarise_dataset"
      ],
      "execution_count": null,
      "outputs": [
        {
          "output_type": "stream",
          "text": [
            "Cloning into 'mistaken_mice'...\n",
            "remote: Enumerating objects: 94, done.\u001b[K\n",
            "remote: Counting objects:   1% (1/94)\u001b[K\rremote: Counting objects:   2% (2/94)\u001b[K\rremote: Counting objects:   3% (3/94)\u001b[K\rremote: Counting objects:   4% (4/94)\u001b[K\rremote: Counting objects:   5% (5/94)\u001b[K\rremote: Counting objects:   6% (6/94)\u001b[K\rremote: Counting objects:   7% (7/94)\u001b[K\rremote: Counting objects:   8% (8/94)\u001b[K\rremote: Counting objects:   9% (9/94)\u001b[K\rremote: Counting objects:  10% (10/94)\u001b[K\rremote: Counting objects:  11% (11/94)\u001b[K\rremote: Counting objects:  12% (12/94)\u001b[K\rremote: Counting objects:  13% (13/94)\u001b[K\rremote: Counting objects:  14% (14/94)\u001b[K\rremote: Counting objects:  15% (15/94)\u001b[K\rremote: Counting objects:  17% (16/94)\u001b[K\rremote: Counting objects:  18% (17/94)\u001b[K\rremote: Counting objects:  19% (18/94)\u001b[K\rremote: Counting objects:  20% (19/94)\u001b[K\rremote: Counting objects:  21% (20/94)\u001b[K\rremote: Counting objects:  22% (21/94)\u001b[K\rremote: Counting objects:  23% (22/94)\u001b[K\rremote: Counting objects:  24% (23/94)\u001b[K\rremote: Counting objects:  25% (24/94)\u001b[K\rremote: Counting objects:  26% (25/94)\u001b[K\rremote: Counting objects:  27% (26/94)\u001b[K\rremote: Counting objects:  28% (27/94)\u001b[K\rremote: Counting objects:  29% (28/94)\u001b[K\rremote: Counting objects:  30% (29/94)\u001b[K\rremote: Counting objects:  31% (30/94)\u001b[K\rremote: Counting objects:  32% (31/94)\u001b[K\rremote: Counting objects:  34% (32/94)\u001b[K\rremote: Counting objects:  35% (33/94)\u001b[K\rremote: Counting objects:  36% (34/94)\u001b[K\rremote: Counting objects:  37% (35/94)\u001b[K\rremote: Counting objects:  38% (36/94)\u001b[K\rremote: Counting objects:  39% (37/94)\u001b[K\rremote: Counting objects:  40% (38/94)\u001b[K\rremote: Counting objects:  41% (39/94)\u001b[K\rremote: Counting objects:  42% (40/94)\u001b[K\rremote: Counting objects:  43% (41/94)\u001b[K\rremote: Counting objects:  44% (42/94)\u001b[K\rremote: Counting objects:  45% (43/94)\u001b[K\rremote: Counting objects:  46% (44/94)\u001b[K\rremote: Counting objects:  47% (45/94)\u001b[K\rremote: Counting objects:  48% (46/94)\u001b[K\rremote: Counting objects:  50% (47/94)\u001b[K\rremote: Counting objects:  51% (48/94)\u001b[K\rremote: Counting objects:  52% (49/94)\u001b[K\rremote: Counting objects:  53% (50/94)\u001b[K\rremote: Counting objects:  54% (51/94)\u001b[K\rremote: Counting objects:  55% (52/94)\u001b[K\rremote: Counting objects:  56% (53/94)\u001b[K\rremote: Counting objects:  57% (54/94)\u001b[K\rremote: Counting objects:  58% (55/94)\u001b[K\rremote: Counting objects:  59% (56/94)\u001b[K\rremote: Counting objects:  60% (57/94)\u001b[K\rremote: Counting objects:  61% (58/94)\u001b[K\rremote: Counting objects:  62% (59/94)\u001b[K\rremote: Counting objects:  63% (60/94)\u001b[K\rremote: Counting objects:  64% (61/94)\u001b[K\rremote: Counting objects:  65% (62/94)\u001b[K\rremote: Counting objects:  67% (63/94)\u001b[K\rremote: Counting objects:  68% (64/94)\u001b[K\rremote: Counting objects:  69% (65/94)\u001b[K\rremote: Counting objects:  70% (66/94)\u001b[K\rremote: Counting objects:  71% (67/94)\u001b[K\rremote: Counting objects:  72% (68/94)\u001b[K\rremote: Counting objects:  73% (69/94)\u001b[K\rremote: Counting objects:  74% (70/94)\u001b[K\rremote: Counting objects:  75% (71/94)\u001b[K\rremote: Counting objects:  76% (72/94)\u001b[K\rremote: Counting objects:  77% (73/94)\u001b[K\rremote: Counting objects:  78% (74/94)\u001b[K\rremote: Counting objects:  79% (75/94)\u001b[K\rremote: Counting objects:  80% (76/94)\u001b[K\rremote: Counting objects:  81% (77/94)\u001b[K\rremote: Counting objects:  82% (78/94)\u001b[K\rremote: Counting objects:  84% (79/94)\u001b[K\rremote: Counting objects:  85% (80/94)\u001b[K\rremote: Counting objects:  86% (81/94)\u001b[K\rremote: Counting objects:  87% (82/94)\u001b[K\rremote: Counting objects:  88% (83/94)\u001b[K\rremote: Counting objects:  89% (84/94)\u001b[K\rremote: Counting objects:  90% (85/94)\u001b[K\rremote: Counting objects:  91% (86/94)\u001b[K\rremote: Counting objects:  92% (87/94)\u001b[K\rremote: Counting objects:  93% (88/94)\u001b[K\rremote: Counting objects:  94% (89/94)\u001b[K\rremote: Counting objects:  95% (90/94)\u001b[K\rremote: Counting objects:  96% (91/94)\u001b[K\rremote: Counting objects:  97% (92/94)\u001b[K\rremote: Counting objects:  98% (93/94)\u001b[K\rremote: Counting objects: 100% (94/94)\u001b[K\rremote: Counting objects: 100% (94/94), done.\u001b[K\n",
            "remote: Compressing objects:   1% (1/67)\u001b[K\rremote: Compressing objects:   2% (2/67)\u001b[K\rremote: Compressing objects:   4% (3/67)\u001b[K\rremote: Compressing objects:   5% (4/67)\u001b[K\rremote: Compressing objects:   7% (5/67)\u001b[K\rremote: Compressing objects:   8% (6/67)\u001b[K\rremote: Compressing objects:  10% (7/67)\u001b[K\rremote: Compressing objects:  11% (8/67)\u001b[K\rremote: Compressing objects:  13% (9/67)\u001b[K\rremote: Compressing objects:  14% (10/67)\u001b[K\rremote: Compressing objects:  16% (11/67)\u001b[K\rremote: Compressing objects:  17% (12/67)\u001b[K\rremote: Compressing objects:  19% (13/67)\u001b[K\rremote: Compressing objects:  20% (14/67)\u001b[K\rremote: Compressing objects:  22% (15/67)\u001b[K\rremote: Compressing objects:  23% (16/67)\u001b[K\rremote: Compressing objects:  25% (17/67)\u001b[K\rremote: Compressing objects:  26% (18/67)\u001b[K\rremote: Compressing objects:  28% (19/67)\u001b[K\rremote: Compressing objects:  29% (20/67)\u001b[K\rremote: Compressing objects:  31% (21/67)\u001b[K\rremote: Compressing objects:  32% (22/67)\u001b[K\rremote: Compressing objects:  34% (23/67)\u001b[K\rremote: Compressing objects:  35% (24/67)\u001b[K\rremote: Compressing objects:  37% (25/67)\u001b[K\rremote: Compressing objects:  38% (26/67)\u001b[K\rremote: Compressing objects:  40% (27/67)\u001b[K\rremote: Compressing objects:  41% (28/67)\u001b[K\rremote: Compressing objects:  43% (29/67)\u001b[K\rremote: Compressing objects:  44% (30/67)\u001b[K\rremote: Compressing objects:  46% (31/67)\u001b[K\rremote: Compressing objects:  47% (32/67)\u001b[K\rremote: Compressing objects:  49% (33/67)\u001b[K\rremote: Compressing objects:  50% (34/67)\u001b[K\rremote: Compressing objects:  52% (35/67)\u001b[K\rremote: Compressing objects:  53% (36/67)\u001b[K\rremote: Compressing objects:  55% (37/67)\u001b[K\rremote: Compressing objects:  56% (38/67)\u001b[K\rremote: Compressing objects:  58% (39/67)\u001b[K\rremote: Compressing objects:  59% (40/67)\u001b[K\rremote: Compressing objects:  61% (41/67)\u001b[K\rremote: Compressing objects:  62% (42/67)\u001b[K\rremote: Compressing objects:  64% (43/67)\u001b[K\rremote: Compressing objects:  65% (44/67)\u001b[K\rremote: Compressing objects:  67% (45/67)\u001b[K\rremote: Compressing objects:  68% (46/67)\u001b[K\rremote: Compressing objects:  70% (47/67)\u001b[K\rremote: Compressing objects:  71% (48/67)\u001b[K\rremote: Compressing objects:  73% (49/67)\u001b[K\rremote: Compressing objects:  74% (50/67)\u001b[K\rremote: Compressing objects:  76% (51/67)\u001b[K\rremote: Compressing objects:  77% (52/67)\u001b[K\rremote: Compressing objects:  79% (53/67)\u001b[K\rremote: Compressing objects:  80% (54/67)\u001b[K\rremote: Compressing objects:  82% (55/67)\u001b[K\rremote: Compressing objects:  83% (56/67)\u001b[K\rremote: Compressing objects:  85% (57/67)\u001b[K\rremote: Compressing objects:  86% (58/67)\u001b[K\rremote: Compressing objects:  88% (59/67)\u001b[K\rremote: Compressing objects:  89% (60/67)\u001b[K\rremote: Compressing objects:  91% (61/67)\u001b[K\rremote: Compressing objects:  92% (62/67)\u001b[K\rremote: Compressing objects:  94% (63/67)\u001b[K\rremote: Compressing objects:  95% (64/67)\u001b[K\rremote: Compressing objects:  97% (65/67)\u001b[K\rremote: Compressing objects:  98% (66/67)\u001b[K\rremote: Compressing objects: 100% (67/67)\u001b[K\rremote: Compressing objects: 100% (67/67), done.\u001b[K\n",
            "Unpacking objects:   1% (1/94)   \rUnpacking objects:   2% (2/94)   \rUnpacking objects:   3% (3/94)   \rUnpacking objects:   4% (4/94)   \rUnpacking objects:   5% (5/94)   \rUnpacking objects:   6% (6/94)   \rUnpacking objects:   7% (7/94)   \rUnpacking objects:   8% (8/94)   \rUnpacking objects:   9% (9/94)   \rUnpacking objects:  10% (10/94)   \rUnpacking objects:  11% (11/94)   \rUnpacking objects:  12% (12/94)   \rUnpacking objects:  13% (13/94)   \rUnpacking objects:  14% (14/94)   \rUnpacking objects:  15% (15/94)   \rUnpacking objects:  17% (16/94)   \rUnpacking objects:  18% (17/94)   \rUnpacking objects:  19% (18/94)   \rUnpacking objects:  20% (19/94)   \rUnpacking objects:  21% (20/94)   \rUnpacking objects:  22% (21/94)   \rUnpacking objects:  23% (22/94)   \rUnpacking objects:  24% (23/94)   \rUnpacking objects:  25% (24/94)   \rUnpacking objects:  26% (25/94)   \rUnpacking objects:  27% (26/94)   \rUnpacking objects:  28% (27/94)   \rUnpacking objects:  29% (28/94)   \rUnpacking objects:  30% (29/94)   \rUnpacking objects:  31% (30/94)   \rUnpacking objects:  32% (31/94)   \rUnpacking objects:  34% (32/94)   \rUnpacking objects:  35% (33/94)   \rUnpacking objects:  36% (34/94)   \rUnpacking objects:  37% (35/94)   \rUnpacking objects:  38% (36/94)   \rUnpacking objects:  39% (37/94)   \rUnpacking objects:  40% (38/94)   \rremote: Total 94 (delta 47), reused 66 (delta 26), pack-reused 0\u001b[K\n",
            "Unpacking objects:  41% (39/94)   \rUnpacking objects:  42% (40/94)   \rUnpacking objects:  43% (41/94)   \rUnpacking objects:  44% (42/94)   \rUnpacking objects:  45% (43/94)   \rUnpacking objects:  46% (44/94)   \rUnpacking objects:  47% (45/94)   \rUnpacking objects:  48% (46/94)   \rUnpacking objects:  50% (47/94)   \rUnpacking objects:  51% (48/94)   \rUnpacking objects:  52% (49/94)   \rUnpacking objects:  53% (50/94)   \rUnpacking objects:  54% (51/94)   \rUnpacking objects:  55% (52/94)   \rUnpacking objects:  56% (53/94)   \rUnpacking objects:  57% (54/94)   \rUnpacking objects:  58% (55/94)   \rUnpacking objects:  59% (56/94)   \rUnpacking objects:  60% (57/94)   \rUnpacking objects:  61% (58/94)   \rUnpacking objects:  62% (59/94)   \rUnpacking objects:  63% (60/94)   \rUnpacking objects:  64% (61/94)   \rUnpacking objects:  65% (62/94)   \rUnpacking objects:  67% (63/94)   \rUnpacking objects:  68% (64/94)   \rUnpacking objects:  69% (65/94)   \rUnpacking objects:  70% (66/94)   \rUnpacking objects:  71% (67/94)   \rUnpacking objects:  72% (68/94)   \rUnpacking objects:  73% (69/94)   \rUnpacking objects:  74% (70/94)   \rUnpacking objects:  75% (71/94)   \rUnpacking objects:  76% (72/94)   \rUnpacking objects:  77% (73/94)   \rUnpacking objects:  78% (74/94)   \rUnpacking objects:  79% (75/94)   \rUnpacking objects:  80% (76/94)   \rUnpacking objects:  81% (77/94)   \rUnpacking objects:  82% (78/94)   \rUnpacking objects:  84% (79/94)   \rUnpacking objects:  85% (80/94)   \rUnpacking objects:  86% (81/94)   \rUnpacking objects:  87% (82/94)   \rUnpacking objects:  88% (83/94)   \rUnpacking objects:  89% (84/94)   \rUnpacking objects:  90% (85/94)   \rUnpacking objects:  91% (86/94)   \rUnpacking objects:  92% (87/94)   \rUnpacking objects:  93% (88/94)   \rUnpacking objects:  94% (89/94)   \rUnpacking objects:  95% (90/94)   \rUnpacking objects:  96% (91/94)   \rUnpacking objects:  97% (92/94)   \rUnpacking objects:  98% (93/94)   \rUnpacking objects: 100% (94/94)   \rUnpacking objects: 100% (94/94), done.\n",
            "/content/mistaken_mice/mistaken_mice/mistaken_mice\n"
          ],
          "name": "stdout"
        },
        {
          "output_type": "error",
          "ename": "SyntaxError",
          "evalue": "ignored",
          "traceback": [
            "\u001b[0;36m  File \u001b[0;32m\"/content/mistaken_mice/mistaken_mice/mistaken_mice/summarise_dataset.py\"\u001b[0;36m, line \u001b[0;32m55\u001b[0m\n\u001b[0;31m    else:\u001b[0m\n\u001b[0m       ^\u001b[0m\n\u001b[0;31mSyntaxError\u001b[0m\u001b[0;31m:\u001b[0m invalid syntax\n"
          ]
        }
      ]
    },
    {
      "cell_type": "markdown",
      "metadata": {
        "id": "1OJ6WyvaNhSC",
        "colab_type": "text"
      },
      "source": [
        "# Filter the data"
      ]
    },
    {
      "cell_type": "code",
      "metadata": {
        "id": "fWxFSnWUORoi",
        "colab_type": "code",
        "colab": {}
      },
      "source": [
        "# add code"
      ],
      "execution_count": null,
      "outputs": []
    },
    {
      "cell_type": "markdown",
      "metadata": {
        "id": "w2md3ohKNY4m",
        "colab_type": "text"
      },
      "source": [
        "# Summarise the filtered data"
      ]
    },
    {
      "cell_type": "code",
      "metadata": {
        "id": "aAG-jPcSjkrC",
        "colab_type": "code",
        "colab": {}
      },
      "source": [
        "summarise_dataset(alldat)\n"
      ],
      "execution_count": null,
      "outputs": []
    }
  ]
}
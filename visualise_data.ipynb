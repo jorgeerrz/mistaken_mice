{
 "cells": [
  {
   "cell_type": "code",
   "execution_count": 80,
   "metadata": {},
   "outputs": [
    {
     "name": "stdout",
     "output_type": "stream",
     "text": [
      "The autoreload extension is already loaded. To reload it, use:\n",
      "  %reload_ext autoreload\n"
     ]
    }
   ],
   "source": [
    "import os, requests\n",
    "import numpy as np\n",
    "\n",
    "%load_ext autoreload\n",
    "%autoreload 2\n",
    "\n",
    "from summarise_dataset import *\n",
    "from filter import *"
   ]
  },
  {
   "cell_type": "code",
   "execution_count": 3,
   "metadata": {},
   "outputs": [],
   "source": [
    "fname = []\n",
    "for j in range(3):\n",
    "  fname.append('steinmetz_part%d.npz'%j)\n",
    "\n",
    "alldat = np.array([])\n",
    "for j in range(len(fname)):\n",
    "  alldat = np.hstack((alldat, np.load('steinmetz_part%d.npz'%j, allow_pickle=True)['dat']))"
   ]
  },
  {
   "cell_type": "code",
   "execution_count": 75,
   "metadata": {},
   "outputs": [
    {
     "name": "stdout",
     "output_type": "stream",
     "text": [
      "dict_keys(['spks', 'wheel', 'pupil', 'lfp', 'response', 'response_time', 'bin_size', 'stim_onset', 'contrast_right', 'contrast_left', 'brain_area', 'brain_area_lfp', 'feedback_time', 'feedback_type', 'gocue', 'mouse_name', 'date_exp', 'trough_to_peak', 'waveform_w', 'waveform_u', 'active_trials', 'contrast_left_passive', 'contrast_right_passive', 'spks_passive', 'lfp_passive', 'pupil_passive', 'wheel_passive'])\n",
      "0\n",
      "ACA: 109 neurons\n",
      "\n",
      "CA3: 68 neurons\n",
      "\n",
      "DG: 34 neurons\n",
      "\n",
      "LS: 139 neurons\n",
      "\n",
      "MOs: 113 neurons\n",
      "\n",
      "SUB: 75 neurons\n",
      "\n",
      "VISp: 178 neurons\n",
      "\n",
      "root: 18 neurons\n",
      "\n"
     ]
    }
   ],
   "source": [
    "sessionID = 0\n",
    "session = alldat[sessionID]\n",
    "print(session.keys())\n",
    "\n",
    "print(sessionID)\n",
    "for ba in np.sort(np.unique(session['brain_area'])):\n",
    "    ba_filter = session['brain_area']==ba\n",
    "    n_neurons = session['spks'][ba_filter,:,:].shape[0]\n",
    "    print(\"{}: {} neurons\\n\" .format(ba,n_neurons))"
   ]
  },
  {
   "cell_type": "code",
   "execution_count": 81,
   "metadata": {},
   "outputs": [
    {
     "ename": "NameError",
     "evalue": "name 'pretty_response_counts' is not defined",
     "output_type": "error",
     "traceback": [
      "\u001b[1;31m---------------------------------------------------------------------------\u001b[0m",
      "\u001b[1;31mNameError\u001b[0m                                 Traceback (most recent call last)",
      "\u001b[1;32m<ipython-input-81-780b4c638d15>\u001b[0m in \u001b[0;36m<module>\u001b[1;34m\u001b[0m\n\u001b[0;32m      1\u001b[0m \u001b[0munfair\u001b[0m \u001b[1;33m=\u001b[0m \u001b[0mfilter_spikes\u001b[0m\u001b[1;33m(\u001b[0m\u001b[0malldat\u001b[0m\u001b[1;33m,\u001b[0m \u001b[0msessionID\u001b[0m\u001b[1;33m,\u001b[0m\u001b[0munfair_only\u001b[0m\u001b[1;33m=\u001b[0m\u001b[1;32mTrue\u001b[0m\u001b[1;33m)\u001b[0m\u001b[1;33m\u001b[0m\u001b[1;33m\u001b[0m\u001b[0m\n\u001b[1;32m----> 2\u001b[1;33m \u001b[0mprint\u001b[0m\u001b[1;33m(\u001b[0m\u001b[1;34m\"{} trials\\n{}\"\u001b[0m \u001b[1;33m.\u001b[0m\u001b[0mformat\u001b[0m\u001b[1;33m(\u001b[0m\u001b[0msession\u001b[0m\u001b[1;33m[\u001b[0m\u001b[1;34m'spks'\u001b[0m\u001b[1;33m]\u001b[0m\u001b[1;33m.\u001b[0m\u001b[0mshape\u001b[0m\u001b[1;33m[\u001b[0m\u001b[1;36m1\u001b[0m\u001b[1;33m]\u001b[0m\u001b[1;33m,\u001b[0m \u001b[0mpretty_response_counts\u001b[0m\u001b[1;33m(\u001b[0m\u001b[0msession\u001b[0m\u001b[1;33m[\u001b[0m\u001b[1;34m'response'\u001b[0m\u001b[1;33m]\u001b[0m\u001b[1;33m)\u001b[0m \u001b[1;33m)\u001b[0m\u001b[1;33m)\u001b[0m\u001b[1;33m\u001b[0m\u001b[1;33m\u001b[0m\u001b[0m\n\u001b[0m\u001b[0;32m      3\u001b[0m \u001b[1;33m\u001b[0m\u001b[0m\n\u001b[0;32m      4\u001b[0m \u001b[1;31m# print(\"{} unfair trials\\n{}\" .format(unfair['spks'].shape[1], pretty_response_counts(unfair['chcs']) ))\u001b[0m\u001b[1;33m\u001b[0m\u001b[1;33m\u001b[0m\u001b[1;33m\u001b[0m\u001b[0m\n",
      "\u001b[1;31mNameError\u001b[0m: name 'pretty_response_counts' is not defined"
     ]
    }
   ],
   "source": [
    "\n",
    "unfair = filter_spikes(alldat, sessionID,unfair_only=True) \n",
    "print(\"{} trials\\n{}\" .format(session['spks'].shape[1], pretty_response_counts(session['response']) ))\n",
    "\n",
    "# print(\"{} unfair trials\\n{}\" .format(unfair['spks'].shape[1], pretty_response_counts(unfair['chcs']) ))\n"
   ]
  },
  {
   "cell_type": "code",
   "execution_count": 70,
   "metadata": {},
   "outputs": [
    {
     "name": "stdout",
     "output_type": "stream",
     "text": [
      "right (-1): 69 (32%)\n",
      "none (0)  : 74 (34%)\n",
      "left (1)  : 71 (33%)\n",
      "right (-1): 8 (80%)\n",
      "left (1)  : 2 (20%)\n"
     ]
    }
   ],
   "source": [
    "\n"
   ]
  },
  {
   "cell_type": "code",
   "execution_count": 68,
   "metadata": {},
   "outputs": [
    {
     "name": "stdout",
     "output_type": "stream",
     "text": [
      "right (-1): 8 (80%)\n",
      "left (1)  : 2 (20%)\n"
     ]
    }
   ],
   "source": []
  },
  {
   "cell_type": "code",
   "execution_count": 26,
   "metadata": {},
   "outputs": [
    {
     "ename": "SyntaxError",
     "evalue": "invalid syntax (<ipython-input-26-fc2002745e91>, line 8)",
     "output_type": "error",
     "traceback": [
      "\u001b[1;36m  File \u001b[1;32m\"<ipython-input-26-fc2002745e91>\"\u001b[1;36m, line \u001b[1;32m8\u001b[0m\n\u001b[1;33m    sns.scatterplot(session['spks'][])\u001b[0m\n\u001b[1;37m                                    ^\u001b[0m\n\u001b[1;31mSyntaxError\u001b[0m\u001b[1;31m:\u001b[0m invalid syntax\n"
     ]
    }
   ],
   "source": [
    "sns.set(style=\"white\", palette=\"muted\", color_codes=True)\n",
    "fig, axs = plt.subplots(1, 1, figsize=(7, 7))\n",
    "sns.despine(left=True)\n",
    "sns.scatterplot(session['spks'][])\n",
    "# sns.distplot(details['n_neurons'], kde = False, color='b', rug=True, ax=axs[0], axlabel ='Number of neurons\\nper session')"
   ]
  }
 ],
 "metadata": {
  "kernelspec": {
   "display_name": "Python 3",
   "language": "python",
   "name": "python3"
  },
  "language_info": {
   "codemirror_mode": {
    "name": "ipython",
    "version": 3
   },
   "file_extension": ".py",
   "mimetype": "text/x-python",
   "name": "python",
   "nbconvert_exporter": "python",
   "pygments_lexer": "ipython3",
   "version": "3.7.7"
  }
 },
 "nbformat": 4,
 "nbformat_minor": 4
}
